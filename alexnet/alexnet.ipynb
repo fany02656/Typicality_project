{
 "cells": [
  {
   "cell_type": "code",
   "execution_count": 1,
   "metadata": {},
   "outputs": [],
   "source": [
    "import numpy as np\n",
    "import pandas as pd\n",
    "import torch\n",
    "from PIL import Image\n",
    "from torchvision import transforms\n",
    "import os\n",
    "import matplotlib.pyplot as plt\n",
    "import ast"
   ]
  },
  {
   "cell_type": "code",
   "execution_count": 2,
   "metadata": {},
   "outputs": [
    {
     "name": "stderr",
     "output_type": "stream",
     "text": [
      "Using cache found in C:\\Users\\mgina/.cache\\torch\\hub\\pytorch_vision_v0.8.2\n"
     ]
    }
   ],
   "source": [
    "model = torch.hub.load('pytorch/vision:v0.8.2', 'alexnet', pretrained=True)\n",
    "# model.eval()"
   ]
  },
  {
   "cell_type": "code",
   "execution_count": 3,
   "metadata": {},
   "outputs": [],
   "source": [
    "# Load data: if Windows\n",
    "path='../Image/All_Cropped'\n",
    "\n",
    "images={}\n",
    "\n",
    "directory=['Mountain', 'Beach', \n",
    "           'Mug', 'Banana', \n",
    "           'Car', 'Plane', \n",
    "           'Lighthouse', 'Church']\n",
    "\n",
    "for dir in directory:\n",
    "    images[dir]=[file for file in os.listdir(path+'/'+dir) if file.endswith(('jpeg', 'jpg'))]"
   ]
  },
  {
   "cell_type": "code",
   "execution_count": 4,
   "metadata": {},
   "outputs": [],
   "source": [
    "preprocess = transforms.Compose([\n",
    "    transforms.ToTensor(),\n",
    "    transforms.Normalize(mean=[0.485, 0.456, 0.406], std=[0.229, 0.224, 0.225]), # this should be the mean and std for alexnet training dataset\n",
    "])"
   ]
  },
  {
   "cell_type": "code",
   "execution_count": 5,
   "metadata": {},
   "outputs": [],
   "source": [
    "# read labels \n",
    "with open(\"../imagenet_classes.txt\", \"r\") as f:\n",
    "    categories = [s.strip() for s in f.readlines()]\n",
    "\n",
    "# read labels to wordnet synsets\n",
    "ltw = pd.read_json('../imagenet_label_to_wordnet_synset.json').T"
   ]
  },
  {
   "cell_type": "code",
   "execution_count": 6,
   "metadata": {},
   "outputs": [
    {
     "data": {
      "text/plain": [
       "Index(['id', 'label', 'uri'], dtype='object')"
      ]
     },
     "execution_count": 6,
     "metadata": {},
     "output_type": "execute_result"
    }
   ],
   "source": [
    "ltw.columns"
   ]
  },
  {
   "cell_type": "code",
   "execution_count": 7,
   "metadata": {},
   "outputs": [],
   "source": [
    "#type prob cate+filename\n",
    "all_img={'type':[], 'dir':[],'id_labels':[],'readable_labels':[]}"
   ]
  },
  {
   "cell_type": "code",
   "execution_count": 8,
   "metadata": {
    "scrolled": true
   },
   "outputs": [],
   "source": [
    "for cate, filename in images.items():\n",
    "    for f in filename:\n",
    "        dir=os.path.join(path,cate,f)\n",
    "        img=Image.open(dir)\n",
    "        #print(dir)\n",
    "        input_tensor=preprocess(img)\n",
    "        input_batch = input_tensor.unsqueeze(0)\n",
    "\n",
    "        if torch.cuda.is_available():\n",
    "            input_batch= input_batch.to('cuda')\n",
    "            model.to('cuda')\n",
    "\n",
    "        with torch.no_grad():\n",
    "            output = model(input_batch)\n",
    "        \n",
    "        probabilities = torch.nn.functional.softmax(output[0], dim=0)\n",
    "#         typ_score=round(float(probabilities.max()*100),1)\n",
    "        \n",
    "        # Show top categories per image\n",
    "#         top10_prob, top10_catid = torch.topk(probabilities, 10)\n",
    "        prob, catid = torch.topk(probabilities, probabilities.size(0))\n",
    "        temp1 = {}\n",
    "        temp2 = {}\n",
    "#         for i in range(top10_prob.size(0)):\n",
    "#             temp1[categories[top10_catid[i].item()]] = top10_prob[i].item()\n",
    "#             temp2[ltw['id'][top10_catid[i].item()]] = top10_prob[i].item()\n",
    "        for i in range(prob.size(0)):\n",
    "            temp1[categories[catid[i].item()]] = prob[i].item()\n",
    "            temp2[ltw['id'][catid[i].item()]] = prob[i].item()\n",
    "            \n",
    "        all_img['dir'].append(dir)\n",
    "#         all_img['typicality_score'].append(typ_score)\n",
    "        all_img['readable_labels'].append(temp1)\n",
    "        all_img['id_labels'].append(temp2)\n",
    "        if 'Mountain' in cate:\n",
    "            all_img['type'].append('Mountain')\n",
    "        if 'Beach' in cate:\n",
    "            all_img['type'].append('Beach')\n",
    "        if 'Mug' in cate:\n",
    "            all_img['type'].append('Mug')\n",
    "        if 'Banana' in cate:\n",
    "            all_img['type'].append('Banana')\n",
    "        if 'Car' in cate:\n",
    "            all_img['type'].append('Car')\n",
    "        if 'Plane' in cate:\n",
    "            all_img['type'].append('Plane')\n",
    "        if 'Lighthouse' in cate:\n",
    "            all_img['type'].append('Lighthouse')\n",
    "        if 'Church' in cate:\n",
    "            all_img['type'].append('Church')\n",
    "\n",
    "#         print('Typicality of ',f, ' = ',probabilities.max()*100)"
   ]
  },
  {
   "cell_type": "code",
   "execution_count": 9,
   "metadata": {},
   "outputs": [
    {
     "data": {
      "text/plain": [
       "(128, 4)"
      ]
     },
     "execution_count": 9,
     "metadata": {},
     "output_type": "execute_result"
    }
   ],
   "source": [
    "all_img_df=pd.DataFrame(all_img)\n",
    "all_img_df.shape"
   ]
  },
  {
   "cell_type": "code",
   "execution_count": 11,
   "metadata": {},
   "outputs": [],
   "source": [
    "all_img_df.to_csv('alexnet_scores_wordnet_id_all_prob.csv')"
   ]
  },
  {
   "cell_type": "code",
   "execution_count": 45,
   "metadata": {},
   "outputs": [],
   "source": [
    "# all_img_df['label'] = all_img_df['top5_labels'].apply(lambda x: list(x.keys())[0])"
   ]
  },
  {
   "cell_type": "code",
   "execution_count": 46,
   "metadata": {},
   "outputs": [],
   "source": [
    "# all_img_df['7_score']=round(all_img_df['typicality_score']*7/100,1)\n",
    "# all_img_df.head()"
   ]
  },
  {
   "cell_type": "code",
   "execution_count": 47,
   "metadata": {},
   "outputs": [],
   "source": [
    "# score=[]\n",
    "# for i in range(5):\n",
    "#     dir=all_img_df['dir'][i]\n",
    "#     score.append([all_img_df['typicality_score'][i], all_img_df['7_score'][i]])\n",
    "#     img=Image.open(dir)\n",
    "#     plt.imshow(img)\n",
    "#     plt.title(score[i])\n",
    "#     plt.show()"
   ]
  },
  {
   "cell_type": "code",
   "execution_count": 57,
   "metadata": {},
   "outputs": [],
   "source": [
    "# all_img_df.to_csv('alexnet_scores_wordnet_id.csv')"
   ]
  }
 ],
 "metadata": {
  "kernelspec": {
   "display_name": "Python 3",
   "language": "python",
   "name": "python3"
  },
  "language_info": {
   "codemirror_mode": {
    "name": "ipython",
    "version": 3
   },
   "file_extension": ".py",
   "mimetype": "text/x-python",
   "name": "python",
   "nbconvert_exporter": "python",
   "pygments_lexer": "ipython3",
   "version": "3.8.5"
  },
  "toc": {
   "base_numbering": 1,
   "nav_menu": {},
   "number_sections": false,
   "sideBar": true,
   "skip_h1_title": false,
   "title_cell": "Table of Contents",
   "title_sidebar": "Contents",
   "toc_cell": false,
   "toc_position": {},
   "toc_section_display": true,
   "toc_window_display": false
  }
 },
 "nbformat": 4,
 "nbformat_minor": 4
}
