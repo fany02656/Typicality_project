{
 "cells": [
  {
   "cell_type": "code",
   "execution_count": 28,
   "metadata": {},
   "outputs": [],
   "source": [
    "import numpy as np\n",
    "import pandas as pd\n",
    "import torch\n",
    "from PIL import Image\n",
    "from torchvision import transforms\n",
    "import os\n",
    "import matplotlib.pyplot as plt\n",
    "import ast"
   ]
  },
  {
   "cell_type": "code",
   "execution_count": 67,
   "metadata": {},
   "outputs": [
    {
     "name": "stderr",
     "output_type": "stream",
     "text": [
      "Downloading: \"https://github.com/pytorch/vision/archive/v0.8.2.zip\" to C:\\Users\\mgina/.cache\\torch\\hub\\v0.8.2.zip\n"
     ]
    },
    {
     "data": {
      "text/plain": [
       "AlexNet(\n",
       "  (features): Sequential(\n",
       "    (0): Conv2d(3, 64, kernel_size=(11, 11), stride=(4, 4), padding=(2, 2))\n",
       "    (1): ReLU(inplace=True)\n",
       "    (2): MaxPool2d(kernel_size=3, stride=2, padding=0, dilation=1, ceil_mode=False)\n",
       "    (3): Conv2d(64, 192, kernel_size=(5, 5), stride=(1, 1), padding=(2, 2))\n",
       "    (4): ReLU(inplace=True)\n",
       "    (5): MaxPool2d(kernel_size=3, stride=2, padding=0, dilation=1, ceil_mode=False)\n",
       "    (6): Conv2d(192, 384, kernel_size=(3, 3), stride=(1, 1), padding=(1, 1))\n",
       "    (7): ReLU(inplace=True)\n",
       "    (8): Conv2d(384, 256, kernel_size=(3, 3), stride=(1, 1), padding=(1, 1))\n",
       "    (9): ReLU(inplace=True)\n",
       "    (10): Conv2d(256, 256, kernel_size=(3, 3), stride=(1, 1), padding=(1, 1))\n",
       "    (11): ReLU(inplace=True)\n",
       "    (12): MaxPool2d(kernel_size=3, stride=2, padding=0, dilation=1, ceil_mode=False)\n",
       "  )\n",
       "  (avgpool): AdaptiveAvgPool2d(output_size=(6, 6))\n",
       "  (classifier): Sequential(\n",
       "    (0): Dropout(p=0.5, inplace=False)\n",
       "    (1): Linear(in_features=9216, out_features=4096, bias=True)\n",
       "    (2): ReLU(inplace=True)\n",
       "    (3): Dropout(p=0.5, inplace=False)\n",
       "    (4): Linear(in_features=4096, out_features=4096, bias=True)\n",
       "    (5): ReLU(inplace=True)\n",
       "    (6): Linear(in_features=4096, out_features=1000, bias=True)\n",
       "  )\n",
       ")"
      ]
     },
     "execution_count": 67,
     "metadata": {},
     "output_type": "execute_result"
    }
   ],
   "source": [
    "model = torch.hub.load('pytorch/vision:v0.8.2', 'alexnet', pretrained=True, force_reload=True)\n",
    "model.eval()"
   ]
  },
  {
   "cell_type": "code",
   "execution_count": 87,
   "metadata": {},
   "outputs": [],
   "source": [
    "all_params = model.state_dict()"
   ]
  },
  {
   "cell_type": "code",
   "execution_count": 92,
   "metadata": {},
   "outputs": [
    {
     "data": {
      "text/plain": [
       "torch.Size([64, 3, 11, 11])"
      ]
     },
     "execution_count": 92,
     "metadata": {},
     "output_type": "execute_result"
    }
   ],
   "source": [
    "all_params['features.0.weight'].shape"
   ]
  },
  {
   "cell_type": "code",
   "execution_count": 68,
   "metadata": {},
   "outputs": [],
   "source": [
    "# A simple hook class that returns the input and output of a layer during forward/backward pass\n",
    "class Hook():\n",
    "    def __init__(self, module, backward=False):\n",
    "        self.hook = module.register_forward_hook(self.hook_fn)\n",
    "        self.outputs = []\n",
    "    def hook_fn(self, module, input, output):\n",
    "        self.outputs.append(output)\n",
    "    def close(self):\n",
    "        self.hook.remove()"
   ]
  },
  {
   "cell_type": "code",
   "execution_count": 69,
   "metadata": {},
   "outputs": [],
   "source": [
    "hooks = []\n",
    "for layer in list(model._modules.items()):\n",
    "    if hasattr(layer[1], '__iter__'):\n",
    "        for l in layer[1]:\n",
    "            hooks.append(Hook(l))\n",
    "    else:\n",
    "        hooks.append(Hook(layer[1]))"
   ]
  },
  {
   "cell_type": "code",
   "execution_count": 70,
   "metadata": {},
   "outputs": [],
   "source": [
    "# Load data: if Windows\n",
    "path='../Image/All_Cropped'\n",
    "\n",
    "images={}\n",
    "\n",
    "directory=['Mountain', 'Beach', \n",
    "           'Mug', 'Banana', \n",
    "           'Car', 'Plane', \n",
    "           'Lighthouse', 'Church']\n",
    "\n",
    "for dir in directory:\n",
    "    images[dir]=[file for file in os.listdir(path+'/'+dir) if file.endswith(('jpeg', 'jpg'))]"
   ]
  },
  {
   "cell_type": "code",
   "execution_count": 71,
   "metadata": {},
   "outputs": [],
   "source": [
    "preprocess = transforms.Compose([\n",
    "#     transforms.CenterCrop(224),\n",
    "    transforms.ToTensor(),\n",
    "    transforms.Normalize(mean=[0.485, 0.456, 0.406], std=[0.229, 0.224, 0.225]), # this should be the mean and std for alexnet training dataset\n",
    "])"
   ]
  },
  {
   "cell_type": "code",
   "execution_count": 72,
   "metadata": {},
   "outputs": [],
   "source": [
    "# read labels \n",
    "with open(\"../imagenet_classes.txt\", \"r\") as f:\n",
    "    categories = [s.strip() for s in f.readlines()]\n",
    "\n",
    "# read labels to wordnet synsets\n",
    "ltw = pd.read_json('../imagenet_label_to_wordnet_synset.json').T\n",
    "selected_labels = pd.read_csv('../selected_labels.csv',index_col=0) # selected labels"
   ]
  },
  {
   "cell_type": "code",
   "execution_count": 73,
   "metadata": {},
   "outputs": [
    {
     "data": {
      "text/plain": [
       "{'Banana': '07753592-n',\n",
       " 'Beach': '09428293-n',\n",
       " 'Car': '02814533-n',\n",
       " 'Church': '03028079-n',\n",
       " 'Lighthouse': '02814860-n',\n",
       " 'Mountain': '09193705-n',\n",
       " 'Mug': '03063599-n',\n",
       " 'Plane': '02690373-n'}"
      ]
     },
     "execution_count": 73,
     "metadata": {},
     "output_type": "execute_result"
    }
   ],
   "source": [
    "# map type to corresponding label's wordnet id\n",
    "id_mapping = dict()\n",
    "for i in selected_labels.index:\n",
    "    id_mapping[selected_labels.loc[i]['type']] = selected_labels.loc[i]['id']\n",
    "id_mapping"
   ]
  },
  {
   "cell_type": "code",
   "execution_count": 74,
   "metadata": {},
   "outputs": [
    {
     "data": {
      "text/plain": [
       "{'Banana': 'banana',\n",
       " 'Beach': 'seashore, coast, seacoast, sea-coast',\n",
       " 'Car': 'beach wagon, station wagon, wagon, estate car, beach waggon, station waggon, waggon',\n",
       " 'Church': 'church, church building',\n",
       " 'Lighthouse': 'beacon, lighthouse, beacon light, pharos',\n",
       " 'Mountain': 'alp',\n",
       " 'Mug': 'coffee mug',\n",
       " 'Plane': 'airliner'}"
      ]
     },
     "execution_count": 74,
     "metadata": {},
     "output_type": "execute_result"
    }
   ],
   "source": [
    "# map type to corresponding label's readable label\n",
    "readable_mapping = dict()\n",
    "for i in selected_labels.index:\n",
    "    readable_mapping[selected_labels.loc[i]['type']] = selected_labels.loc[i]['label']\n",
    "readable_mapping"
   ]
  },
  {
   "cell_type": "code",
   "execution_count": 75,
   "metadata": {},
   "outputs": [],
   "source": [
    "#type prob cate+filename\n",
    "# all_img={'type':[], 'dir':[],'id_labels':[],'readable_labels':[]}\n",
    "all_img={'type':[], 'dir':[],'prob':[], 'id_label':[], 'readable_label':[],'raw':[]}"
   ]
  },
  {
   "cell_type": "code",
   "execution_count": 76,
   "metadata": {
    "scrolled": true
   },
   "outputs": [],
   "source": [
    "for cate, filename in images.items():\n",
    "    selected_id_label = id_mapping[cate] \n",
    "    selected_readable_label = readable_mapping[cate] \n",
    "    for f in filename:\n",
    "        dir=os.path.join(path,cate,f)\n",
    "        img=Image.open(dir)\n",
    "        #print(dir)\n",
    "        input_tensor=preprocess(img)\n",
    "        input_batch = input_tensor.unsqueeze(0)\n",
    "\n",
    "        if torch.cuda.is_available():\n",
    "            input_batch= input_batch.to('cuda')\n",
    "            model.to('cuda')\n",
    "\n",
    "        with torch.no_grad():\n",
    "            output = model(input_batch)\n",
    "        \n",
    "        probabilities = torch.nn.functional.softmax(output[0], dim=0)\n",
    "        # Get all 1000 categories per image\n",
    "        prob, catid = torch.topk(probabilities, probabilities.size(0))\n",
    "        temp1 = {}\n",
    "        temp2 = {}\n",
    "        for i in range(prob.size(0)):\n",
    "#             temp1[categories[catid[i].item()]] = prob[i].item() # readable labels\n",
    "            temp2[ltw['id'][catid[i].item()]] = prob[i].item() # wordnet synset id\n",
    "            temp1[ltw['id'][catid[i].item()]] = output[0][catid[i]].item() # raw score\n",
    "            \n",
    "        \n",
    "        all_img['dir'].append(dir)\n",
    "#         all_img['readable_labels'].append(temp1)\n",
    "#         all_img['id_labels'].append(temp2)\n",
    "        all_img['readable_label'].append(selected_readable_label)\n",
    "        all_img['id_label'].append(selected_id_label)\n",
    "        all_img['prob'].append(temp2[selected_id_label])\n",
    "        all_img['raw'].append(temp1[selected_id_label])\n",
    "        \n",
    "        if 'Mountain' in cate:\n",
    "            all_img['type'].append('Mountain')\n",
    "        if 'Beach' in cate:\n",
    "            all_img['type'].append('Beach')\n",
    "        if 'Mug' in cate:\n",
    "            all_img['type'].append('Mug')\n",
    "        if 'Banana' in cate:\n",
    "            all_img['type'].append('Banana')\n",
    "        if 'Car' in cate:\n",
    "            all_img['type'].append('Car')\n",
    "        if 'Plane' in cate:\n",
    "            all_img['type'].append('Plane')\n",
    "        if 'Lighthouse' in cate:\n",
    "            all_img['type'].append('Lighthouse')\n",
    "        if 'Church' in cate:\n",
    "            all_img['type'].append('Church')\n",
    "\n",
    "#         print('Typicality of ',f, ' = ',probabilities.max()*100)"
   ]
  },
  {
   "cell_type": "code",
   "execution_count": 83,
   "metadata": {
    "scrolled": false
   },
   "outputs": [
    {
     "name": "stdout",
     "output_type": "stream",
     "text": [
      "128\n",
      "torch.Size([1, 64, 63, 63])\n",
      "128\n",
      "torch.Size([1, 64, 63, 63])\n",
      "128\n",
      "torch.Size([1, 64, 31, 31])\n",
      "128\n",
      "torch.Size([1, 192, 31, 31])\n",
      "128\n",
      "torch.Size([1, 192, 31, 31])\n",
      "128\n",
      "torch.Size([1, 192, 15, 15])\n",
      "128\n",
      "torch.Size([1, 384, 15, 15])\n",
      "128\n",
      "torch.Size([1, 384, 15, 15])\n",
      "128\n",
      "torch.Size([1, 256, 15, 15])\n",
      "128\n",
      "torch.Size([1, 256, 15, 15])\n",
      "128\n",
      "torch.Size([1, 256, 15, 15])\n",
      "128\n",
      "torch.Size([1, 256, 15, 15])\n",
      "128\n",
      "torch.Size([1, 256, 7, 7])\n",
      "128\n",
      "torch.Size([1, 256, 6, 6])\n",
      "128\n",
      "torch.Size([1, 9216])\n",
      "128\n",
      "torch.Size([1, 4096])\n",
      "128\n",
      "torch.Size([1, 4096])\n",
      "128\n",
      "torch.Size([1, 4096])\n",
      "128\n",
      "torch.Size([1, 4096])\n",
      "128\n",
      "torch.Size([1, 4096])\n",
      "128\n",
      "torch.Size([1, 1000])\n"
     ]
    }
   ],
   "source": [
    "for hook in hooks:\n",
    "    print(len(hook.outputs))\n",
    "#     print(hook.outputs[0])\n",
    "    print(hook.outputs[0].shape)"
   ]
  },
  {
   "cell_type": "code",
   "execution_count": 43,
   "metadata": {},
   "outputs": [
    {
     "data": {
      "text/html": [
       "<div>\n",
       "<style scoped>\n",
       "    .dataframe tbody tr th:only-of-type {\n",
       "        vertical-align: middle;\n",
       "    }\n",
       "\n",
       "    .dataframe tbody tr th {\n",
       "        vertical-align: top;\n",
       "    }\n",
       "\n",
       "    .dataframe thead th {\n",
       "        text-align: right;\n",
       "    }\n",
       "</style>\n",
       "<table border=\"1\" class=\"dataframe\">\n",
       "  <thead>\n",
       "    <tr style=\"text-align: right;\">\n",
       "      <th></th>\n",
       "      <th>type</th>\n",
       "      <th>dir</th>\n",
       "      <th>prob</th>\n",
       "      <th>id_label</th>\n",
       "      <th>readable_label</th>\n",
       "      <th>raw</th>\n",
       "    </tr>\n",
       "  </thead>\n",
       "  <tbody>\n",
       "    <tr>\n",
       "      <th>0</th>\n",
       "      <td>Mountain</td>\n",
       "      <td>../Image/All_Cropped\\Mountain\\1.jpg</td>\n",
       "      <td>0.336247</td>\n",
       "      <td>09193705-n</td>\n",
       "      <td>alp</td>\n",
       "      <td>10.069240</td>\n",
       "    </tr>\n",
       "    <tr>\n",
       "      <th>1</th>\n",
       "      <td>Mountain</td>\n",
       "      <td>../Image/All_Cropped\\Mountain\\10.jpg</td>\n",
       "      <td>0.168704</td>\n",
       "      <td>09193705-n</td>\n",
       "      <td>alp</td>\n",
       "      <td>10.357352</td>\n",
       "    </tr>\n",
       "    <tr>\n",
       "      <th>2</th>\n",
       "      <td>Mountain</td>\n",
       "      <td>../Image/All_Cropped\\Mountain\\11.jpg</td>\n",
       "      <td>0.078611</td>\n",
       "      <td>09193705-n</td>\n",
       "      <td>alp</td>\n",
       "      <td>10.654603</td>\n",
       "    </tr>\n",
       "    <tr>\n",
       "      <th>3</th>\n",
       "      <td>Mountain</td>\n",
       "      <td>../Image/All_Cropped\\Mountain\\12.jpg</td>\n",
       "      <td>0.504526</td>\n",
       "      <td>09193705-n</td>\n",
       "      <td>alp</td>\n",
       "      <td>12.633675</td>\n",
       "    </tr>\n",
       "    <tr>\n",
       "      <th>4</th>\n",
       "      <td>Mountain</td>\n",
       "      <td>../Image/All_Cropped\\Mountain\\13.jpg</td>\n",
       "      <td>0.006200</td>\n",
       "      <td>09193705-n</td>\n",
       "      <td>alp</td>\n",
       "      <td>9.846738</td>\n",
       "    </tr>\n",
       "  </tbody>\n",
       "</table>\n",
       "</div>"
      ],
      "text/plain": [
       "       type                                   dir      prob    id_label  \\\n",
       "0  Mountain   ../Image/All_Cropped\\Mountain\\1.jpg  0.336247  09193705-n   \n",
       "1  Mountain  ../Image/All_Cropped\\Mountain\\10.jpg  0.168704  09193705-n   \n",
       "2  Mountain  ../Image/All_Cropped\\Mountain\\11.jpg  0.078611  09193705-n   \n",
       "3  Mountain  ../Image/All_Cropped\\Mountain\\12.jpg  0.504526  09193705-n   \n",
       "4  Mountain  ../Image/All_Cropped\\Mountain\\13.jpg  0.006200  09193705-n   \n",
       "\n",
       "  readable_label        raw  \n",
       "0            alp  10.069240  \n",
       "1            alp  10.357352  \n",
       "2            alp  10.654603  \n",
       "3            alp  12.633675  \n",
       "4            alp   9.846738  "
      ]
     },
     "execution_count": 43,
     "metadata": {},
     "output_type": "execute_result"
    }
   ],
   "source": [
    "all_img_df=pd.DataFrame(all_img)\n",
    "all_img_df.head()"
   ]
  },
  {
   "cell_type": "code",
   "execution_count": 44,
   "metadata": {},
   "outputs": [],
   "source": [
    "# all_img_df.to_csv('alexnet_scores_wordnet_id_all_prob.csv')\n",
    "# all_img_df.to_csv('alexnet_scores_final.csv')\n",
    "all_img_df.to_csv('alexnet_scores_final_with_raw.csv')"
   ]
  },
  {
   "cell_type": "code",
   "execution_count": 45,
   "metadata": {},
   "outputs": [],
   "source": [
    "# all_img_df['label'] = all_img_df['top5_labels'].apply(lambda x: list(x.keys())[0])"
   ]
  },
  {
   "cell_type": "code",
   "execution_count": 46,
   "metadata": {},
   "outputs": [],
   "source": [
    "# all_img_df['7_score']=round(all_img_df['typicality_score']*7/100,1)\n",
    "# all_img_df.head()"
   ]
  },
  {
   "cell_type": "code",
   "execution_count": 47,
   "metadata": {},
   "outputs": [],
   "source": [
    "# score=[]\n",
    "# for i in range(5):\n",
    "#     dir=all_img_df['dir'][i]\n",
    "#     score.append([all_img_df['typicality_score'][i], all_img_df['7_score'][i]])\n",
    "#     img=Image.open(dir)\n",
    "#     plt.imshow(img)\n",
    "#     plt.title(score[i])\n",
    "#     plt.show()"
   ]
  },
  {
   "cell_type": "code",
   "execution_count": 57,
   "metadata": {},
   "outputs": [],
   "source": [
    "# all_img_df.to_csv('alexnet_scores_wordnet_id.csv')"
   ]
  }
 ],
 "metadata": {
  "kernelspec": {
   "display_name": "Python 3",
   "language": "python",
   "name": "python3"
  },
  "language_info": {
   "codemirror_mode": {
    "name": "ipython",
    "version": 3
   },
   "file_extension": ".py",
   "mimetype": "text/x-python",
   "name": "python",
   "nbconvert_exporter": "python",
   "pygments_lexer": "ipython3",
   "version": "3.8.5"
  },
  "toc": {
   "base_numbering": 1,
   "nav_menu": {},
   "number_sections": false,
   "sideBar": true,
   "skip_h1_title": false,
   "title_cell": "Table of Contents",
   "title_sidebar": "Contents",
   "toc_cell": false,
   "toc_position": {},
   "toc_section_display": true,
   "toc_window_display": false
  }
 },
 "nbformat": 4,
 "nbformat_minor": 4
}
