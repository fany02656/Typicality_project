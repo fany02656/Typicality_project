{
 "cells": [
  {
   "cell_type": "code",
   "execution_count": 21,
   "metadata": {},
   "outputs": [],
   "source": [
    "import numpy as np\n",
    "import pandas as pd\n",
    "import torch\n",
    "from PIL import Image\n",
    "from torchvision import transforms\n",
    "import os\n",
    "import matplotlib.pyplot as plt\n",
    "import ast\n",
    "from functools import partial"
   ]
  },
  {
   "cell_type": "markdown",
   "metadata": {},
   "source": [
    "Use WordNet similarity score to find probabilitiy corresponding to the closest label "
   ]
  },
  {
   "cell_type": "code",
   "execution_count": 22,
   "metadata": {},
   "outputs": [],
   "source": [
    "from nltk.corpus import wordnet"
   ]
  },
  {
   "cell_type": "code",
   "execution_count": 32,
   "metadata": {},
   "outputs": [],
   "source": [
    "df = pd.read_csv('alexnet_scores_wordnet_id.csv',index_col=0)"
   ]
  },
  {
   "cell_type": "markdown",
   "metadata": {},
   "source": [
    "Input dataframe columns: (see alexnet.ipynb for getting wordnet ids for corresponding labels)"
   ]
  },
  {
   "cell_type": "code",
   "execution_count": 33,
   "metadata": {},
   "outputs": [
    {
     "data": {
      "text/plain": [
       "Index(['type', 'dir', 'id_labels', 'readable_labels'], dtype='object')"
      ]
     },
     "execution_count": 33,
     "metadata": {},
     "output_type": "execute_result"
    }
   ],
   "source": [
    "df.columns"
   ]
  },
  {
   "cell_type": "code",
   "execution_count": 34,
   "metadata": {
    "scrolled": true
   },
   "outputs": [
    {
     "name": "stdout",
     "output_type": "stream",
     "text": [
      "Banana: \n",
      "Synset('banana.n.01')\n",
      "any of several tropical and subtropical treelike herbs of the genus Musa having a terminal crown of large entire leaves and usually bearing hanging clusters of elongated fruits\n",
      "Synset('banana.n.02')\n",
      "elongated crescent-shaped yellow fruit with soft sweet flesh\n",
      "\n",
      "Beach: \n",
      "Synset('beach.n.01')\n",
      "an area of sand sloping down to the water of a sea or lake\n",
      "Synset('beach.v.01')\n",
      "land on a beach\n",
      "\n",
      "Car: \n",
      "Synset('car.n.01')\n",
      "a motor vehicle with four wheels; usually propelled by an internal combustion engine\n",
      "Synset('car.n.02')\n",
      "a wheeled vehicle adapted to the rails of railroad\n",
      "Synset('car.n.03')\n",
      "the compartment that is suspended from an airship and that carries personnel and the cargo and the power plant\n",
      "Synset('car.n.04')\n",
      "where passengers ride up and down\n",
      "Synset('cable_car.n.01')\n",
      "a conveyance for passengers or freight on a cable railway\n",
      "\n",
      "Church: \n",
      "Synset('church.n.01')\n",
      "one of the groups of Christians who have their own beliefs and forms of worship\n",
      "Synset('church.n.02')\n",
      "a place for public (especially Christian) worship\n",
      "Synset('church_service.n.01')\n",
      "a service conducted in a house of worship\n",
      "Synset('church.n.04')\n",
      "the body of people who attend or belong to a particular local church\n",
      "Synset('church.v.01')\n",
      "perform a special church rite or service for\n",
      "\n",
      "Lighthouse: \n",
      "Synset('beacon.n.03')\n",
      "a tower with a light that gives warning of shoals to passing ships\n",
      "\n",
      "Mountain: \n",
      "Synset('mountain.n.01')\n",
      "a land mass that projects well above its surroundings; higher than a hill\n",
      "Synset('batch.n.02')\n",
      "(often followed by `of') a large number or amount or extent\n",
      "\n",
      "Mug: \n",
      "Synset('mug.n.01')\n",
      "the quantity that can be held in a mug\n",
      "Synset('chump.n.01')\n",
      "a person who is gullible and easy to take advantage of\n",
      "Synset('countenance.n.03')\n",
      "the human face (`kisser' and `smiler' and `mug' are informal terms for `face' and `phiz' is British)\n",
      "Synset('mug.n.04')\n",
      "with handle and usually cylindrical\n",
      "Synset('mug.v.01')\n",
      "rob at gunpoint or with the threat of violence\n",
      "\n",
      "Plane: \n",
      "Synset('airplane.n.01')\n",
      "an aircraft that has a fixed wing and is powered by propellers or jets\n",
      "Synset('plane.n.02')\n",
      "(mathematics) an unbounded two-dimensional shape\n",
      "Synset('plane.n.03')\n",
      "a level of existence or development\n",
      "Synset('plane.n.04')\n",
      "a power tool for smoothing or shaping wood\n",
      "Synset('plane.n.05')\n",
      "a carpenter's hand tool with an adjustable blade for smoothing or shaping wood\n",
      "Synset('plane.v.01')\n",
      "cut or remove with or as if with a plane\n",
      "Synset('plane.v.02')\n",
      "travel on the surface of water\n",
      "Synset('plane.v.03')\n",
      "make even or smooth, with or as with a carpenter's plane\n",
      "Synset('flat.s.01')\n",
      "having a surface without slope, tilt in which no part is higher or lower than another\n",
      "\n"
     ]
    }
   ],
   "source": [
    "# manually select the synsnet with the correct definition for each type\n",
    "type_names = np.unique(df['type'].values)\n",
    "for t in type_names:\n",
    "    syns = wordnet.synsets(t.lower())\n",
    "    print(f'{t}: ')\n",
    "    for s in syns:\n",
    "        print(s)\n",
    "        print(s.definition())\n",
    "    print()"
   ]
  },
  {
   "cell_type": "code",
   "execution_count": 35,
   "metadata": {},
   "outputs": [],
   "source": [
    "type_synsets = ['banana.n.02','beach.n.01','car.n.01','church.n.02','beacon.n.03','mountain.n.01','coffee_mug.n.01','airplane.n.01']\n",
    "type_final = {type_names[i] : type_synsets[i] for i in range(len(type_names))}"
   ]
  },
  {
   "cell_type": "code",
   "execution_count": 36,
   "metadata": {},
   "outputs": [
    {
     "data": {
      "text/plain": [
       "{'Banana': 'banana.n.02',\n",
       " 'Beach': 'beach.n.01',\n",
       " 'Car': 'car.n.01',\n",
       " 'Church': 'church.n.02',\n",
       " 'Lighthouse': 'beacon.n.03',\n",
       " 'Mountain': 'mountain.n.01',\n",
       " 'Mug': 'coffee_mug.n.01',\n",
       " 'Plane': 'airplane.n.01'}"
      ]
     },
     "execution_count": 36,
     "metadata": {},
     "output_type": "execute_result"
    }
   ],
   "source": [
    "type_final"
   ]
  },
  {
   "cell_type": "code",
   "execution_count": 37,
   "metadata": {},
   "outputs": [],
   "source": [
    "# compute similarity score between synsets of each of the top 10 labels and the type \n",
    "def getSyns(similarity,closest,row):\n",
    "    # type name\n",
    "    category = row['type'] \n",
    "    \n",
    "    # top 10 labels' ids in wordnet\n",
    "    labels  = row['id_labels'] \n",
    "    labels = ast.literal_eval(labels)\n",
    "    key = labels.keys() \n",
    "    \n",
    "    # iterate through top 10 labels and compare with type \n",
    "    sim = dict()\n",
    "    notFound = True\n",
    "    for k in key:\n",
    "        pos, synid = k.split('-')[1], int(k.split('-')[0]) # part of speech (all noun in this case), id\n",
    "        k_syns = wordnet.synset_from_pos_and_offset(pos, synid) # label synsets\n",
    "        cat_syns = wordnet.synset(type_final[category]) # type synsets\n",
    "        s = k_syns.path_similarity(cat_syns)\n",
    "        sim[k] = s\n",
    "        \n",
    "        # find the first > 0.5 similarity label among the top 10\n",
    "        if s >= 0.5 and notFound:\n",
    "            closest.append({k:s})\n",
    "            notFound = False\n",
    "            \n",
    "    # return the label with highest probabilitiy if none is above 0.5\n",
    "    if notFound:\n",
    "        sim_np = np.array(sim.values())\n",
    "        max_key = list(key)[np.argmax(sim_np)]\n",
    "        closest.append({max_key : sim[max_key]})\n",
    "    \n",
    "    similarity.append(sim)"
   ]
  },
  {
   "cell_type": "code",
   "execution_count": 38,
   "metadata": {},
   "outputs": [],
   "source": [
    "# read labels to wordnet synsets\n",
    "ltw = pd.read_json('../imagenet_label_to_wordnet_synset.json').T"
   ]
  },
  {
   "cell_type": "code",
   "execution_count": 39,
   "metadata": {},
   "outputs": [],
   "source": [
    "# get readable labels from imagenet_label_to_wordnet_synset.json\n",
    "def convertIdToReadable(id_label):\n",
    "    for idx in range(ltw.shape[0]):\n",
    "        if ltw['id'][idx] == id_label:\n",
    "            return ltw['label'][idx]\n",
    "    return None"
   ]
  },
  {
   "cell_type": "code",
   "execution_count": 40,
   "metadata": {},
   "outputs": [
    {
     "data": {
      "text/html": [
       "<div>\n",
       "<style scoped>\n",
       "    .dataframe tbody tr th:only-of-type {\n",
       "        vertical-align: middle;\n",
       "    }\n",
       "\n",
       "    .dataframe tbody tr th {\n",
       "        vertical-align: top;\n",
       "    }\n",
       "\n",
       "    .dataframe thead th {\n",
       "        text-align: right;\n",
       "    }\n",
       "</style>\n",
       "<table border=\"1\" class=\"dataframe\">\n",
       "  <thead>\n",
       "    <tr style=\"text-align: right;\">\n",
       "      <th></th>\n",
       "      <th>type</th>\n",
       "      <th>dir</th>\n",
       "      <th>id_labels</th>\n",
       "      <th>readable_labels</th>\n",
       "    </tr>\n",
       "  </thead>\n",
       "  <tbody>\n",
       "    <tr>\n",
       "      <th>0</th>\n",
       "      <td>Mountain</td>\n",
       "      <td>../Image/All_Cropped\\Mountain\\1.jpg</td>\n",
       "      <td>{'09193705-n': 0.5989731550216675, '09468604-n...</td>\n",
       "      <td>{'alp': 0.5989731550216675, 'valley': 0.061830...</td>\n",
       "    </tr>\n",
       "    <tr>\n",
       "      <th>1</th>\n",
       "      <td>Mountain</td>\n",
       "      <td>../Image/All_Cropped\\Mountain\\10.jpg</td>\n",
       "      <td>{'09468604-n': 0.21096907556056976, '09193705-...</td>\n",
       "      <td>{'valley': 0.21096907556056976, 'alp': 0.18053...</td>\n",
       "    </tr>\n",
       "    <tr>\n",
       "      <th>2</th>\n",
       "      <td>Mountain</td>\n",
       "      <td>../Image/All_Cropped\\Mountain\\11.jpg</td>\n",
       "      <td>{'09472597-n': 0.8374676704406738, '09193705-n...</td>\n",
       "      <td>{'volcano': 0.8374676704406738, 'alp': 0.11937...</td>\n",
       "    </tr>\n",
       "    <tr>\n",
       "      <th>3</th>\n",
       "      <td>Mountain</td>\n",
       "      <td>../Image/All_Cropped\\Mountain\\12.jpg</td>\n",
       "      <td>{'09193705-n': 0.5238074660301208, '09468604-n...</td>\n",
       "      <td>{'alp': 0.5238074660301208, 'valley': 0.321485...</td>\n",
       "    </tr>\n",
       "    <tr>\n",
       "      <th>4</th>\n",
       "      <td>Mountain</td>\n",
       "      <td>../Image/All_Cropped\\Mountain\\13.jpg</td>\n",
       "      <td>{'09246464-n': 0.8560568690299988, '09399592-n...</td>\n",
       "      <td>{'cliff': 0.8560568690299988, 'promontory': 0....</td>\n",
       "    </tr>\n",
       "    <tr>\n",
       "      <th>...</th>\n",
       "      <td>...</td>\n",
       "      <td>...</td>\n",
       "      <td>...</td>\n",
       "      <td>...</td>\n",
       "    </tr>\n",
       "    <tr>\n",
       "      <th>123</th>\n",
       "      <td>Church</td>\n",
       "      <td>../Image/All_Cropped\\Church\\5.jpg</td>\n",
       "      <td>{'03028079-n': 0.6445643305778503, '03781244-n...</td>\n",
       "      <td>{'church': 0.6445643305778503, 'monastery': 0....</td>\n",
       "    </tr>\n",
       "    <tr>\n",
       "      <th>124</th>\n",
       "      <td>Church</td>\n",
       "      <td>../Image/All_Cropped\\Church\\6.jpg</td>\n",
       "      <td>{'02793495-n': 0.9864155650138855, '03028079-n...</td>\n",
       "      <td>{'barn': 0.9864155650138855, 'church': 0.00318...</td>\n",
       "    </tr>\n",
       "    <tr>\n",
       "      <th>125</th>\n",
       "      <td>Church</td>\n",
       "      <td>../Image/All_Cropped\\Church\\7.jpg</td>\n",
       "      <td>{'03028079-n': 0.43230870366096497, '03781244-...</td>\n",
       "      <td>{'church': 0.43230870366096497, 'monastery': 0...</td>\n",
       "    </tr>\n",
       "    <tr>\n",
       "      <th>126</th>\n",
       "      <td>Church</td>\n",
       "      <td>../Image/All_Cropped\\Church\\8.jpg</td>\n",
       "      <td>{'02843684-n': 0.3770584762096405, '03028079-n...</td>\n",
       "      <td>{'birdhouse': 0.3770584762096405, 'church': 0....</td>\n",
       "    </tr>\n",
       "    <tr>\n",
       "      <th>127</th>\n",
       "      <td>Church</td>\n",
       "      <td>../Image/All_Cropped\\Church\\9.jpg</td>\n",
       "      <td>{'03028079-n': 0.4084910452365875, '03781244-n...</td>\n",
       "      <td>{'church': 0.4084910452365875, 'monastery': 0....</td>\n",
       "    </tr>\n",
       "  </tbody>\n",
       "</table>\n",
       "<p>128 rows × 4 columns</p>\n",
       "</div>"
      ],
      "text/plain": [
       "         type                                   dir  \\\n",
       "0    Mountain   ../Image/All_Cropped\\Mountain\\1.jpg   \n",
       "1    Mountain  ../Image/All_Cropped\\Mountain\\10.jpg   \n",
       "2    Mountain  ../Image/All_Cropped\\Mountain\\11.jpg   \n",
       "3    Mountain  ../Image/All_Cropped\\Mountain\\12.jpg   \n",
       "4    Mountain  ../Image/All_Cropped\\Mountain\\13.jpg   \n",
       "..        ...                                   ...   \n",
       "123    Church     ../Image/All_Cropped\\Church\\5.jpg   \n",
       "124    Church     ../Image/All_Cropped\\Church\\6.jpg   \n",
       "125    Church     ../Image/All_Cropped\\Church\\7.jpg   \n",
       "126    Church     ../Image/All_Cropped\\Church\\8.jpg   \n",
       "127    Church     ../Image/All_Cropped\\Church\\9.jpg   \n",
       "\n",
       "                                             id_labels  \\\n",
       "0    {'09193705-n': 0.5989731550216675, '09468604-n...   \n",
       "1    {'09468604-n': 0.21096907556056976, '09193705-...   \n",
       "2    {'09472597-n': 0.8374676704406738, '09193705-n...   \n",
       "3    {'09193705-n': 0.5238074660301208, '09468604-n...   \n",
       "4    {'09246464-n': 0.8560568690299988, '09399592-n...   \n",
       "..                                                 ...   \n",
       "123  {'03028079-n': 0.6445643305778503, '03781244-n...   \n",
       "124  {'02793495-n': 0.9864155650138855, '03028079-n...   \n",
       "125  {'03028079-n': 0.43230870366096497, '03781244-...   \n",
       "126  {'02843684-n': 0.3770584762096405, '03028079-n...   \n",
       "127  {'03028079-n': 0.4084910452365875, '03781244-n...   \n",
       "\n",
       "                                       readable_labels  \n",
       "0    {'alp': 0.5989731550216675, 'valley': 0.061830...  \n",
       "1    {'valley': 0.21096907556056976, 'alp': 0.18053...  \n",
       "2    {'volcano': 0.8374676704406738, 'alp': 0.11937...  \n",
       "3    {'alp': 0.5238074660301208, 'valley': 0.321485...  \n",
       "4    {'cliff': 0.8560568690299988, 'promontory': 0....  \n",
       "..                                                 ...  \n",
       "123  {'church': 0.6445643305778503, 'monastery': 0....  \n",
       "124  {'barn': 0.9864155650138855, 'church': 0.00318...  \n",
       "125  {'church': 0.43230870366096497, 'monastery': 0...  \n",
       "126  {'birdhouse': 0.3770584762096405, 'church': 0....  \n",
       "127  {'church': 0.4084910452365875, 'monastery': 0....  \n",
       "\n",
       "[128 rows x 4 columns]"
      ]
     },
     "execution_count": 40,
     "metadata": {},
     "output_type": "execute_result"
    }
   ],
   "source": [
    "df"
   ]
  },
  {
   "cell_type": "code",
   "execution_count": 41,
   "metadata": {
    "scrolled": true
   },
   "outputs": [],
   "source": [
    "similarity = []\n",
    "closest = []\n",
    "getSynsPartial = partial(getSyns, similarity, closest)\n",
    "df.apply(getSynsPartial, axis=1)\n",
    "\n",
    "df['similarity_score'] = similarity\n",
    "df['closest_id_label'] = [list(item.keys())[0] for item in closest]\n",
    "df['closest_similarity_score'] = [list(item.values())[0] for item in closest]\n",
    "df['closest_readable_label'] = df['closest_id_label'].apply(convertIdToReadable)\n",
    "df['closest_prob'] = [ast.literal_eval(d)[i] for d, i in zip(df['id_labels'],df['closest_id_label'])]"
   ]
  },
  {
   "cell_type": "code",
   "execution_count": 42,
   "metadata": {},
   "outputs": [
    {
     "data": {
      "text/html": [
       "<div>\n",
       "<style scoped>\n",
       "    .dataframe tbody tr th:only-of-type {\n",
       "        vertical-align: middle;\n",
       "    }\n",
       "\n",
       "    .dataframe tbody tr th {\n",
       "        vertical-align: top;\n",
       "    }\n",
       "\n",
       "    .dataframe thead th {\n",
       "        text-align: right;\n",
       "    }\n",
       "</style>\n",
       "<table border=\"1\" class=\"dataframe\">\n",
       "  <thead>\n",
       "    <tr style=\"text-align: right;\">\n",
       "      <th></th>\n",
       "      <th>type</th>\n",
       "      <th>dir</th>\n",
       "      <th>id_labels</th>\n",
       "      <th>readable_labels</th>\n",
       "      <th>similarity_score</th>\n",
       "      <th>closest_id_label</th>\n",
       "      <th>closest_similarity_score</th>\n",
       "      <th>closest_readable_label</th>\n",
       "      <th>closest_prob</th>\n",
       "    </tr>\n",
       "  </thead>\n",
       "  <tbody>\n",
       "    <tr>\n",
       "      <th>0</th>\n",
       "      <td>Mountain</td>\n",
       "      <td>../Image/All_Cropped\\Mountain\\1.jpg</td>\n",
       "      <td>{'09193705-n': 0.5989731550216675, '09468604-n...</td>\n",
       "      <td>{'alp': 0.5989731550216675, 'valley': 0.061830...</td>\n",
       "      <td>{'09193705-n': 0.5, '09468604-n': 0.2, '094725...</td>\n",
       "      <td>09193705-n</td>\n",
       "      <td>0.5</td>\n",
       "      <td>alp</td>\n",
       "      <td>0.598973</td>\n",
       "    </tr>\n",
       "    <tr>\n",
       "      <th>1</th>\n",
       "      <td>Mountain</td>\n",
       "      <td>../Image/All_Cropped\\Mountain\\10.jpg</td>\n",
       "      <td>{'09468604-n': 0.21096907556056976, '09193705-...</td>\n",
       "      <td>{'valley': 0.21096907556056976, 'alp': 0.18053...</td>\n",
       "      <td>{'09468604-n': 0.2, '09193705-n': 0.5, '094725...</td>\n",
       "      <td>09193705-n</td>\n",
       "      <td>0.5</td>\n",
       "      <td>alp</td>\n",
       "      <td>0.180537</td>\n",
       "    </tr>\n",
       "    <tr>\n",
       "      <th>2</th>\n",
       "      <td>Mountain</td>\n",
       "      <td>../Image/All_Cropped\\Mountain\\11.jpg</td>\n",
       "      <td>{'09472597-n': 0.8374676704406738, '09193705-n...</td>\n",
       "      <td>{'volcano': 0.8374676704406738, 'alp': 0.11937...</td>\n",
       "      <td>{'09472597-n': 0.5, '09193705-n': 0.5, '094686...</td>\n",
       "      <td>09472597-n</td>\n",
       "      <td>0.5</td>\n",
       "      <td>volcano</td>\n",
       "      <td>0.837468</td>\n",
       "    </tr>\n",
       "    <tr>\n",
       "      <th>3</th>\n",
       "      <td>Mountain</td>\n",
       "      <td>../Image/All_Cropped\\Mountain\\12.jpg</td>\n",
       "      <td>{'09193705-n': 0.5238074660301208, '09468604-n...</td>\n",
       "      <td>{'alp': 0.5238074660301208, 'valley': 0.321485...</td>\n",
       "      <td>{'09193705-n': 0.5, '09468604-n': 0.2, '037929...</td>\n",
       "      <td>09193705-n</td>\n",
       "      <td>0.5</td>\n",
       "      <td>alp</td>\n",
       "      <td>0.523807</td>\n",
       "    </tr>\n",
       "    <tr>\n",
       "      <th>4</th>\n",
       "      <td>Mountain</td>\n",
       "      <td>../Image/All_Cropped\\Mountain\\13.jpg</td>\n",
       "      <td>{'09246464-n': 0.8560568690299988, '09399592-n...</td>\n",
       "      <td>{'cliff': 0.8560568690299988, 'promontory': 0....</td>\n",
       "      <td>{'09246464-n': 0.25, '09399592-n': 0.333333333...</td>\n",
       "      <td>09193705-n</td>\n",
       "      <td>0.5</td>\n",
       "      <td>alp</td>\n",
       "      <td>0.007311</td>\n",
       "    </tr>\n",
       "    <tr>\n",
       "      <th>...</th>\n",
       "      <td>...</td>\n",
       "      <td>...</td>\n",
       "      <td>...</td>\n",
       "      <td>...</td>\n",
       "      <td>...</td>\n",
       "      <td>...</td>\n",
       "      <td>...</td>\n",
       "      <td>...</td>\n",
       "      <td>...</td>\n",
       "    </tr>\n",
       "    <tr>\n",
       "      <th>123</th>\n",
       "      <td>Church</td>\n",
       "      <td>../Image/All_Cropped\\Church\\5.jpg</td>\n",
       "      <td>{'03028079-n': 0.6445643305778503, '03781244-n...</td>\n",
       "      <td>{'church': 0.6445643305778503, 'monastery': 0....</td>\n",
       "      <td>{'03028079-n': 1.0, '03781244-n': 0.1428571428...</td>\n",
       "      <td>03028079-n</td>\n",
       "      <td>1.0</td>\n",
       "      <td>church, church building</td>\n",
       "      <td>0.644564</td>\n",
       "    </tr>\n",
       "    <tr>\n",
       "      <th>124</th>\n",
       "      <td>Church</td>\n",
       "      <td>../Image/All_Cropped\\Church\\6.jpg</td>\n",
       "      <td>{'02793495-n': 0.9864155650138855, '03028079-n...</td>\n",
       "      <td>{'barn': 0.9864155650138855, 'church': 0.00318...</td>\n",
       "      <td>{'02793495-n': 0.2, '03028079-n': 1.0, '028594...</td>\n",
       "      <td>03028079-n</td>\n",
       "      <td>1.0</td>\n",
       "      <td>church, church building</td>\n",
       "      <td>0.003182</td>\n",
       "    </tr>\n",
       "    <tr>\n",
       "      <th>125</th>\n",
       "      <td>Church</td>\n",
       "      <td>../Image/All_Cropped\\Church\\7.jpg</td>\n",
       "      <td>{'03028079-n': 0.43230870366096497, '03781244-...</td>\n",
       "      <td>{'church': 0.43230870366096497, 'monastery': 0...</td>\n",
       "      <td>{'03028079-n': 1.0, '03781244-n': 0.1428571428...</td>\n",
       "      <td>03028079-n</td>\n",
       "      <td>1.0</td>\n",
       "      <td>church, church building</td>\n",
       "      <td>0.432309</td>\n",
       "    </tr>\n",
       "    <tr>\n",
       "      <th>126</th>\n",
       "      <td>Church</td>\n",
       "      <td>../Image/All_Cropped\\Church\\8.jpg</td>\n",
       "      <td>{'02843684-n': 0.3770584762096405, '03028079-n...</td>\n",
       "      <td>{'birdhouse': 0.3770584762096405, 'church': 0....</td>\n",
       "      <td>{'02843684-n': 0.1111111111111111, '03028079-n...</td>\n",
       "      <td>03028079-n</td>\n",
       "      <td>1.0</td>\n",
       "      <td>church, church building</td>\n",
       "      <td>0.252968</td>\n",
       "    </tr>\n",
       "    <tr>\n",
       "      <th>127</th>\n",
       "      <td>Church</td>\n",
       "      <td>../Image/All_Cropped\\Church\\9.jpg</td>\n",
       "      <td>{'03028079-n': 0.4084910452365875, '03781244-n...</td>\n",
       "      <td>{'church': 0.4084910452365875, 'monastery': 0....</td>\n",
       "      <td>{'03028079-n': 1.0, '03781244-n': 0.1428571428...</td>\n",
       "      <td>03028079-n</td>\n",
       "      <td>1.0</td>\n",
       "      <td>church, church building</td>\n",
       "      <td>0.408491</td>\n",
       "    </tr>\n",
       "  </tbody>\n",
       "</table>\n",
       "<p>128 rows × 9 columns</p>\n",
       "</div>"
      ],
      "text/plain": [
       "         type                                   dir  \\\n",
       "0    Mountain   ../Image/All_Cropped\\Mountain\\1.jpg   \n",
       "1    Mountain  ../Image/All_Cropped\\Mountain\\10.jpg   \n",
       "2    Mountain  ../Image/All_Cropped\\Mountain\\11.jpg   \n",
       "3    Mountain  ../Image/All_Cropped\\Mountain\\12.jpg   \n",
       "4    Mountain  ../Image/All_Cropped\\Mountain\\13.jpg   \n",
       "..        ...                                   ...   \n",
       "123    Church     ../Image/All_Cropped\\Church\\5.jpg   \n",
       "124    Church     ../Image/All_Cropped\\Church\\6.jpg   \n",
       "125    Church     ../Image/All_Cropped\\Church\\7.jpg   \n",
       "126    Church     ../Image/All_Cropped\\Church\\8.jpg   \n",
       "127    Church     ../Image/All_Cropped\\Church\\9.jpg   \n",
       "\n",
       "                                             id_labels  \\\n",
       "0    {'09193705-n': 0.5989731550216675, '09468604-n...   \n",
       "1    {'09468604-n': 0.21096907556056976, '09193705-...   \n",
       "2    {'09472597-n': 0.8374676704406738, '09193705-n...   \n",
       "3    {'09193705-n': 0.5238074660301208, '09468604-n...   \n",
       "4    {'09246464-n': 0.8560568690299988, '09399592-n...   \n",
       "..                                                 ...   \n",
       "123  {'03028079-n': 0.6445643305778503, '03781244-n...   \n",
       "124  {'02793495-n': 0.9864155650138855, '03028079-n...   \n",
       "125  {'03028079-n': 0.43230870366096497, '03781244-...   \n",
       "126  {'02843684-n': 0.3770584762096405, '03028079-n...   \n",
       "127  {'03028079-n': 0.4084910452365875, '03781244-n...   \n",
       "\n",
       "                                       readable_labels  \\\n",
       "0    {'alp': 0.5989731550216675, 'valley': 0.061830...   \n",
       "1    {'valley': 0.21096907556056976, 'alp': 0.18053...   \n",
       "2    {'volcano': 0.8374676704406738, 'alp': 0.11937...   \n",
       "3    {'alp': 0.5238074660301208, 'valley': 0.321485...   \n",
       "4    {'cliff': 0.8560568690299988, 'promontory': 0....   \n",
       "..                                                 ...   \n",
       "123  {'church': 0.6445643305778503, 'monastery': 0....   \n",
       "124  {'barn': 0.9864155650138855, 'church': 0.00318...   \n",
       "125  {'church': 0.43230870366096497, 'monastery': 0...   \n",
       "126  {'birdhouse': 0.3770584762096405, 'church': 0....   \n",
       "127  {'church': 0.4084910452365875, 'monastery': 0....   \n",
       "\n",
       "                                      similarity_score closest_id_label  \\\n",
       "0    {'09193705-n': 0.5, '09468604-n': 0.2, '094725...       09193705-n   \n",
       "1    {'09468604-n': 0.2, '09193705-n': 0.5, '094725...       09193705-n   \n",
       "2    {'09472597-n': 0.5, '09193705-n': 0.5, '094686...       09472597-n   \n",
       "3    {'09193705-n': 0.5, '09468604-n': 0.2, '037929...       09193705-n   \n",
       "4    {'09246464-n': 0.25, '09399592-n': 0.333333333...       09193705-n   \n",
       "..                                                 ...              ...   \n",
       "123  {'03028079-n': 1.0, '03781244-n': 0.1428571428...       03028079-n   \n",
       "124  {'02793495-n': 0.2, '03028079-n': 1.0, '028594...       03028079-n   \n",
       "125  {'03028079-n': 1.0, '03781244-n': 0.1428571428...       03028079-n   \n",
       "126  {'02843684-n': 0.1111111111111111, '03028079-n...       03028079-n   \n",
       "127  {'03028079-n': 1.0, '03781244-n': 0.1428571428...       03028079-n   \n",
       "\n",
       "     closest_similarity_score   closest_readable_label  closest_prob  \n",
       "0                         0.5                      alp      0.598973  \n",
       "1                         0.5                      alp      0.180537  \n",
       "2                         0.5                  volcano      0.837468  \n",
       "3                         0.5                      alp      0.523807  \n",
       "4                         0.5                      alp      0.007311  \n",
       "..                        ...                      ...           ...  \n",
       "123                       1.0  church, church building      0.644564  \n",
       "124                       1.0  church, church building      0.003182  \n",
       "125                       1.0  church, church building      0.432309  \n",
       "126                       1.0  church, church building      0.252968  \n",
       "127                       1.0  church, church building      0.408491  \n",
       "\n",
       "[128 rows x 9 columns]"
      ]
     },
     "execution_count": 42,
     "metadata": {},
     "output_type": "execute_result"
    }
   ],
   "source": [
    "df"
   ]
  },
  {
   "cell_type": "markdown",
   "metadata": {},
   "source": [
    "Potential issues: \n",
    "1. top 10 and threshold of 0.5 are arbitrarily chosen - e.g. see `df.loc[4]` where the top label is `cliff` (similarity score 0.25) but `alp` is the chosen label\n",
    "2. when none of top 10 labels' similarity scores pass the 0.5 threshold, it chooses the label with max similarity score and breaks ties by choosing the first, which is one with highest probability among all max similarity score labels - e.g. see `df.loc[9]`\n"
   ]
  },
  {
   "cell_type": "code",
   "execution_count": 18,
   "metadata": {},
   "outputs": [
    {
     "data": {
      "text/plain": [
       "type                                                                 Mountain\n",
       "dir                                         Image/All_Cropped\\Mountain\\13.jpg\n",
       "id_labels                   {'09246464-n': 0.7365226149559021, '09399592-n...\n",
       "readable_labels             {'cliff': 0.7365226149559021, 'promontory': 0....\n",
       "similarity_score            {'09246464-n': 0.25, '09399592-n': 0.333333333...\n",
       "closest_id_label                                                   09193705-n\n",
       "closest_similarity_score                                                  0.5\n",
       "closest_readable_label                                                    alp\n",
       "closest_prob                                                        0.0130077\n",
       "Name: 4, dtype: object"
      ]
     },
     "execution_count": 18,
     "metadata": {},
     "output_type": "execute_result"
    }
   ],
   "source": [
    "df.loc[4]"
   ]
  },
  {
   "cell_type": "code",
   "execution_count": 19,
   "metadata": {},
   "outputs": [
    {
     "data": {
      "text/plain": [
       "type                                                                 Mountain\n",
       "dir                                          Image/All_Cropped\\Mountain\\3.jpg\n",
       "id_labels                   {'09288635-n': 0.13967332243919373, '09332890-...\n",
       "readable_labels             {'geyser': 0.13967332243919373, 'lakeside': 0....\n",
       "similarity_score            {'09288635-n': 0.2, '09332890-n': 0.2, '029513...\n",
       "closest_id_label                                                   09288635-n\n",
       "closest_similarity_score                                                  0.2\n",
       "closest_readable_label                                                 geyser\n",
       "closest_prob                                                         0.139673\n",
       "Name: 9, dtype: object"
      ]
     },
     "execution_count": 19,
     "metadata": {},
     "output_type": "execute_result"
    }
   ],
   "source": [
    "df.loc[9]"
   ]
  },
  {
   "cell_type": "code",
   "execution_count": 43,
   "metadata": {},
   "outputs": [],
   "source": [
    "# df.to_csv('alexnet_scores_wordnet_id_closest_label.csv')"
   ]
  },
  {
   "cell_type": "code",
   "execution_count": 44,
   "metadata": {},
   "outputs": [
    {
     "data": {
      "image/png": "[encoded data removed]",
      "text/plain": [
       "<Figure size 432x288 with 1 Axes>"
      ]
     },
     "metadata": {
      "needs_background": "light"
     },
     "output_type": "display_data"
    },
    {
     "data": {
      "image/png": "[encoded data removed]",
      "text/plain": [
       "<Figure size 432x288 with 1 Axes>"
      ]
     },
     "metadata": {
      "needs_background": "light"
     },
     "output_type": "display_data"
    },
    {
     "data": {
      "image/png": "[encoded data removed]",
      "text/plain": [
       "<Figure size 432x288 with 1 Axes>"
      ]
     },
     "metadata": {
      "needs_background": "light"
     },
     "output_type": "display_data"
    },
    {
     "data": {
      "image/png": "[encoded data removed]",
      "text/plain": [
       "<Figure size 432x288 with 1 Axes>"
      ]
     },
     "metadata": {
      "needs_background": "light"
     },
     "output_type": "display_data"
    },
    {
     "data": {
      "image/png": "[encoded data removed]",
      "text/plain": [
       "<Figure size 432x288 with 1 Axes>"
      ]
     },
     "metadata": {
      "needs_background": "light"
     },
     "output_type": "display_data"
    },
    {
     "data": {
      "image/png": "[encoded data removed]",
      "text/plain": [
       "<Figure size 432x288 with 1 Axes>"
      ]
     },
     "metadata": {
      "needs_background": "light"
     },
     "output_type": "display_data"
    },
    {
     "data": {
      "image/png": "[encoded data removed]",
      "text/plain": [
       "<Figure size 432x288 with 1 Axes>"
      ]
     },
     "metadata": {
      "needs_background": "light"
     },
     "output_type": "display_data"
    },
    {
     "data": {
      "image/png": "[encoded data removed]",
      "text/plain": [
       "<Figure size 432x288 with 1 Axes>"
      ]
     },
     "metadata": {
      "needs_background": "light"
     },
     "output_type": "display_data"
    }
   ],
   "source": [
    "import matplotlib.pyplot as plt\n",
    "\n",
    "for t in type_names:\n",
    "    df_plot=df[df['type']==t]\n",
    "    plt.hist(df_plot['closest_prob'])\n",
    "    plt.title(t)\n",
    "    plt.show()"
   ]
  }
 ],
 "metadata": {
  "kernelspec": {
   "display_name": "Python 3",
   "language": "python",
   "name": "python3"
  },
  "language_info": {
   "codemirror_mode": {
    "name": "ipython",
    "version": 3
   },
   "file_extension": ".py",
   "mimetype": "text/x-python",
   "name": "python",
   "nbconvert_exporter": "python",
   "pygments_lexer": "ipython3",
   "version": "3.8.3"
  },
  "toc": {
   "base_numbering": 1,
   "nav_menu": {},
   "number_sections": false,
   "sideBar": true,
   "skip_h1_title": false,
   "title_cell": "Table of Contents",
   "title_sidebar": "Contents",
   "toc_cell": false,
   "toc_position": {},
   "toc_section_display": true,
   "toc_window_display": false
  }
 },
 "nbformat": 4,
 "nbformat_minor": 4
}
