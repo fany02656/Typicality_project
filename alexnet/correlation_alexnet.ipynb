{
 "cells": [
  {
   "cell_type": "code",
   "execution_count": 18,
   "metadata": {
    "id": "1Plrod5x8T74"
   },
   "outputs": [],
   "source": [
    "import pandas as pd\n",
    "from scipy.stats import spearmanr\n",
    "import numpy as np\n",
    "from sklearn.model_selection import train_test_split\n",
    "import os\n",
    "import matplotlib.pyplot as plt\n",
    "from scipy import stats"
   ]
  },
  {
   "cell_type": "code",
   "execution_count": 19,
   "metadata": {},
   "outputs": [],
   "source": [
    "categories = ['banana','beach','car','church','lighthouse','mountain','mug','plane']\n",
    "path='../Analysis/human_rating_bycat'"
   ]
  },
  {
   "cell_type": "code",
   "execution_count": 20,
   "metadata": {},
   "outputs": [],
   "source": [
    "for i, cate in enumerate(categories):\n",
    "    col = [cate+'_'+str(i+1) for i in range(16)]\n",
    "    new = pd.read_csv(path+'/'+cate+'.csv')\n",
    "    new.columns = col\n",
    "    if i == 0:\n",
    "        old = new\n",
    "    else:\n",
    "        old = pd.concat([old,new],axis=1)\n",
    "df = old"
   ]
  },
  {
   "cell_type": "markdown",
   "metadata": {},
   "source": [
    "(Test) Use quantiles to remove outliers "
   ]
  },
  {
   "cell_type": "code",
   "execution_count": 21,
   "metadata": {},
   "outputs": [],
   "source": [
    "quantile_low = df.quantile(0.1)\n",
    "quantile_high = df.quantile(0.9)\n",
    "iqr = quantile_high - quantile_low"
   ]
  },
  {
   "cell_type": "code",
   "execution_count": 22,
   "metadata": {},
   "outputs": [],
   "source": [
    "outliers = (df < quantile_low) | (df > quantile_high)\n",
    "df_new = df[outliers.sum(axis=1) <= 12]"
   ]
  },
  {
   "cell_type": "markdown",
   "metadata": {},
   "source": [
    "Compute 7 scorse and sort images by order in survey"
   ]
  },
  {
   "cell_type": "code",
   "execution_count": 23,
   "metadata": {},
   "outputs": [],
   "source": [
    "alexnet_df=pd.read_csv('alexnet_scores_wordnet_id_closest_label.csv',index_col=0)\n",
    "alexnet_df['typicality_score'] = np.round(alexnet_df['closest_prob'] * 100,2)\n",
    "alexnet_df['7_score']= np.round(alexnet_df['typicality_score']*7/100,2)\n",
    "alexnet_df['type'] = alexnet_df['type'].apply(lambda x: x.lower())"
   ]
  },
  {
   "cell_type": "code",
   "execution_count": 24,
   "metadata": {},
   "outputs": [],
   "source": [
    "alexnet_df['number'] = alexnet_df['dir'].apply(lambda x: int(x.split('\\\\')[-1].split('.')[0]))\n",
    "alexnet_df = alexnet_df.sort_values(['type','number']).reset_index(drop=True)"
   ]
  },
  {
   "cell_type": "markdown",
   "metadata": {},
   "source": [
    "# Correlation with human ratings"
   ]
  },
  {
   "cell_type": "markdown",
   "metadata": {},
   "source": [
    "Changes from original script: \n",
    "1. Use spearman rank correlation instead of pearson\n",
    "2. Compute average human ratings first, and then compute correlation with neural net typicality scores"
   ]
  },
  {
   "cell_type": "markdown",
   "metadata": {},
   "source": [
    "without dropping outliers"
   ]
  },
  {
   "cell_type": "code",
   "execution_count": 25,
   "metadata": {},
   "outputs": [
    {
     "name": "stdout",
     "output_type": "stream",
     "text": [
      "banana:  0.3004418262150221\n",
      "beach:  0.2058823529411765\n",
      "car:  0.24705882352941175\n",
      "church:  0.351729307878893\n",
      "lighthouse:  0.4223695036035242\n",
      "mountain:  0.6975719327807334\n",
      "mug:  0.06484894907460316\n",
      "plane:  0.528329797190471\n"
     ]
    }
   ],
   "source": [
    "final_corr = dict()\n",
    "for t in np.unique(alexnet_df['type']):\n",
    "    col_names = [t + '_' + str(i+1) for i in range(16)]\n",
    "    human_ratings = df[col_names] \n",
    "    net_ratings = alexnet_df[alexnet_df['type'] == t] \n",
    "    \n",
    "    human_scores = human_ratings.mean().values\n",
    "    net_scores = net_ratings['7_score'].values\n",
    "#     net_scores = net_ratings['typicality_score'].values\n",
    "    \n",
    "    coef, p=stats.spearmanr(human_scores, net_scores)\n",
    "#     coef, p=stats.pearsonr(human_scores, net_scores)\n",
    "    final_corr[t]=coef\n",
    "    print(f'{t}: ', final_corr[t])"
   ]
  },
  {
   "cell_type": "code",
   "execution_count": 26,
   "metadata": {},
   "outputs": [
    {
     "name": "stdout",
     "output_type": "stream",
     "text": [
      "0.3522790616517294\n"
     ]
    }
   ],
   "source": [
    "print(np.mean(list(final_corr.values())))"
   ]
  },
  {
   "cell_type": "markdown",
   "metadata": {},
   "source": [
    "after dropping outliers"
   ]
  },
  {
   "cell_type": "code",
   "execution_count": 27,
   "metadata": {},
   "outputs": [
    {
     "name": "stdout",
     "output_type": "stream",
     "text": [
      "banana:  0.28718703976435933\n",
      "beach:  0.17378516637919467\n",
      "car:  0.21649508015035274\n",
      "church:  0.3752760397871034\n",
      "lighthouse:  0.41857048948152953\n",
      "mountain:  0.6968356206287721\n",
      "mug:  -0.042804532956051446\n",
      "plane:  0.42773047454949503\n"
     ]
    }
   ],
   "source": [
    "final_corr = dict()\n",
    "for t in np.unique(alexnet_df['type']):\n",
    "    col_names = [t + '_' + str(i+1) for i in range(16)]\n",
    "    \n",
    "    human_ratings = df_new[col_names] \n",
    "    net_ratings = alexnet_df[alexnet_df['type'] == t] \n",
    "    \n",
    "    human_scores = human_ratings.mean().values\n",
    "    net_scores = net_ratings['7_score'].values\n",
    "    coef, p=stats.spearmanr(human_scores, net_scores)\n",
    "    final_corr[t]=coef\n",
    "    print(f'{t}: ', final_corr[t])"
   ]
  },
  {
   "cell_type": "code",
   "execution_count": 28,
   "metadata": {},
   "outputs": [
    {
     "name": "stdout",
     "output_type": "stream",
     "text": [
      "0.3191344222230944\n"
     ]
    }
   ],
   "source": [
    "print(np.mean(list(final_corr.values())))"
   ]
  },
  {
   "cell_type": "code",
   "execution_count": null,
   "metadata": {},
   "outputs": [],
   "source": []
  },
  {
   "cell_type": "code",
   "execution_count": null,
   "metadata": {},
   "outputs": [],
   "source": []
  }
 ],
 "metadata": {
  "colab": {
   "collapsed_sections": [],
   "name": "Analysis.ipynb",
   "provenance": []
  },
  "kernelspec": {
   "display_name": "Python 3",
   "language": "python",
   "name": "python3"
  },
  "language_info": {
   "codemirror_mode": {
    "name": "ipython",
    "version": 3
   },
   "file_extension": ".py",
   "mimetype": "text/x-python",
   "name": "python",
   "nbconvert_exporter": "python",
   "pygments_lexer": "ipython3",
   "version": "3.8.5"
  },
  "toc": {
   "base_numbering": 1,
   "nav_menu": {},
   "number_sections": false,
   "sideBar": true,
   "skip_h1_title": false,
   "title_cell": "Table of Contents",
   "title_sidebar": "Contents",
   "toc_cell": false,
   "toc_position": {},
   "toc_section_display": true,
   "toc_window_display": false
  }
 },
 "nbformat": 4,
 "nbformat_minor": 1
}
