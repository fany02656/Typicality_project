{
 "cells": [
  {
   "cell_type": "code",
   "execution_count": 49,
   "metadata": {},
   "outputs": [],
   "source": [
    "from PIL import Image\n",
    "import os\n",
    "import PIL\n",
    "import glob"
   ]
  },
  {
   "cell_type": "code",
   "execution_count": 50,
   "metadata": {},
   "outputs": [],
   "source": [
    "# 'Vehicle/Car','Vehicle/Plane', 'Daily_Object/Banana', 'Daily_Object/Mug','Architecture/church','Architecture/lighthouse','Landscape_Scenery/Beach','Landscape_Scenery/Mountain'"
   ]
  },
  {
   "cell_type": "code",
   "execution_count": 51,
   "metadata": {},
   "outputs": [],
   "source": [
    "def add_margin(pil_img, top, right, bottom, left, color):\n",
    "    width, height = pil_img.size\n",
    "    new_width = width + right + left\n",
    "    new_height = height + top + bottom\n",
    "    result = Image.new(pil_img.mode, (new_width, new_height), color)\n",
    "    result.paste(pil_img, (left, top))\n",
    "    return result"
   ]
  },
  {
   "cell_type": "code",
   "execution_count": 52,
   "metadata": {},
   "outputs": [],
   "source": [
    "# Import image data\n",
    "directory = ['Vehicle/Car']# Add directory name to it\n",
    "images = {}\n",
    "for direc in directory:\n",
    "    images[direc] = [file for file in os.listdir(direc) if file.endswith(('jpeg', 'png', 'jpg','jfif'))]"
   ]
  },
  {
   "cell_type": "code",
   "execution_count": 53,
   "metadata": {},
   "outputs": [],
   "source": [
    "# Setup resizing parameters\n",
    "aspect_ratio = 1/1 #changeable: width/ height\n",
    "max_output_size = (256, 256) #changeable"
   ]
  },
  {
   "cell_type": "code",
   "execution_count": 54,
   "metadata": {},
   "outputs": [],
   "source": [
    "# Resize banana pictures\n",
    "for category, img_lst in images.items():\n",
    "    for image in img_lst:\n",
    "        img = Image.open(category+'/'+image)\n",
    "        rotated = False # A flag for rotation\n",
    "        width, height = img.size\n",
    "        # Rotate the horizontal images for the ease of latter image processing\n",
    "        if width < height:\n",
    "            img.rotate(90)\n",
    "            rotated = True\n",
    "       \n",
    "        # Crop out the largest image of the indicated aspect ratio\n",
    "        if width/ height > aspect_ratio:\n",
    "            # image padding\n",
    "#             img = add_margin(img,round((width - height)/2),0,round((width - height)/2),0,(255,255,255))\n",
    "#             width, height = img.size\n",
    "            width_new = height * aspect_ratio\n",
    "            start, end = abs((width-width_new)//2), (width+width_new)//2\n",
    "            start_x, start_y = start, 0 #start_pos\n",
    "            w, h = end, height #cropped size   \n",
    "        else:\n",
    "            # image padding\n",
    "#             img = add_margin(img,0,round((height - width)/2),0,round((height - width)/2),(255,255,255))\n",
    "#             width, height = img.size\n",
    "            height_new = width/aspect_ratio\n",
    "            start, end = abs((height-height_new)//2), (height+height_new)//2\n",
    "            start_x, start_y = 0, start #start_pos\n",
    "            w, h = width, end #cropped size\n",
    "        crop = img.crop((start_x, start_y, w, h))\n",
    "\n",
    "        # recover rotated images\n",
    "        if rotated:\n",
    "            img.rotate(270)\n",
    "\n",
    "        # Uniform image size\n",
    "        crop.thumbnail(max_output_size)\n",
    "#         crop.save('All_Cropped/' + image, optimize=True, quality=40)\n",
    "        crop = crop.convert('RGB')\n",
    "        crop.save(image, optimize=True, quality=40)"
   ]
  },
  {
   "cell_type": "markdown",
   "metadata": {},
   "source": [
    "For resizing individual images with padding"
   ]
  },
  {
   "cell_type": "code",
   "execution_count": 47,
   "metadata": {},
   "outputs": [],
   "source": [
    "img = Image.open('Daily_Object/Mug/mug11.jpg')\n",
    "rotated = False # A flag for rotation\n",
    "width, height = img.size\n",
    "# Rotate the horizontal images for the ease of latter image processing\n",
    "if width < height:\n",
    "    img.rotate(90)\n",
    "    rotated = True\n",
    "\n",
    "# Crop out the largest image of the indicated aspect ratio\n",
    "if width/ height > aspect_ratio:\n",
    "    # image padding\n",
    "    img = add_margin(img,round((width - height)/2),0,round((width - height)/2),0,(255,255,255))\n",
    "    width, height = img.size\n",
    "    width_new = height * aspect_ratio\n",
    "    start, end = abs((width-width_new)//2), (width+width_new)//2\n",
    "    start_x, start_y = start, 0 #start_pos\n",
    "    w, h = end, height #cropped size   \n",
    "else:\n",
    "    img = add_margin(img,0,round((height - width)/2),0,round((height - width)/2),(255,255,255))\n",
    "    width, height = img.size\n",
    "    height_new = width/aspect_ratio\n",
    "    start, end = abs((height-height_new)//2), (height+height_new)//2\n",
    "    start_x, start_y = 0, start #start_pos\n",
    "    w, h = width, end #cropped size\n",
    "crop = img.crop((start_x, start_y, w, h))\n",
    "\n",
    "# recover rotated images\n",
    "if rotated:\n",
    "    img.rotate(270)\n",
    "\n",
    "# Uniform image size\n",
    "crop.thumbnail(max_output_size)\n",
    "# crop = crop.convert('RGB')\n",
    "crop.save('All_Cropped/' + 'mug11.jpg', optimize=True, quality=40)"
   ]
  },
  {
   "cell_type": "code",
   "execution_count": null,
   "metadata": {},
   "outputs": [],
   "source": []
  }
 ],
 "metadata": {
  "kernelspec": {
   "display_name": "Python 3",
   "language": "python",
   "name": "python3"
  },
  "language_info": {
   "codemirror_mode": {
    "name": "ipython",
    "version": 3
   },
   "file_extension": ".py",
   "mimetype": "text/x-python",
   "name": "python",
   "nbconvert_exporter": "python",
   "pygments_lexer": "ipython3",
   "version": "3.8.5"
  },
  "toc": {
   "base_numbering": 1,
   "nav_menu": {},
   "number_sections": false,
   "sideBar": true,
   "skip_h1_title": false,
   "title_cell": "Table of Contents",
   "title_sidebar": "Contents",
   "toc_cell": false,
   "toc_position": {},
   "toc_section_display": true,
   "toc_window_display": false
  }
 },
 "nbformat": 4,
 "nbformat_minor": 4
}
