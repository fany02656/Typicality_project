{
 "cells": [
  {
   "cell_type": "code",
   "execution_count": 9,
   "metadata": {},
   "outputs": [],
   "source": [
    "from PIL import Image\n",
    "import os\n",
    "import PIL\n",
    "import glob"
   ]
  },
  {
   "cell_type": "code",
   "execution_count": 10,
   "metadata": {},
   "outputs": [],
   "source": [
    "# Import image data\n",
    "directory = ['Daily_Object/Banana', 'Daily_Object/Mug']# Add directory name to it\n",
    "images = {}\n",
    "for direc in directory:\n",
    "    images[direc] = [file for file in os.listdir(direc) if file.endswith(('jpeg', 'png', 'jpg'))]"
   ]
  },
  {
   "cell_type": "code",
   "execution_count": 11,
   "metadata": {},
   "outputs": [],
   "source": [
    "# Setup resizing parameters\n",
    "aspect_ratio = 1/1 #changeable: width/ height\n",
    "max_output_size = (600, 600) #changeable"
   ]
  },
  {
   "cell_type": "code",
   "execution_count": null,
   "metadata": {},
   "outputs": [],
   "source": []
  },
  {
   "cell_type": "code",
   "execution_count": 14,
   "metadata": {},
   "outputs": [],
   "source": [
    "# Resize banana pictures\n",
    "for category, img_lst in images.items():\n",
    "    for image in img_lst:\n",
    "        img = Image.open(category+'/'+image)\n",
    "        rotated = False # A flag for rotation\n",
    "        width, height = img.size\n",
    "        # Rotate the horizontal images for the ease of latter image processing\n",
    "        if width < height:\n",
    "            img.rotate(90)\n",
    "            rotated = True\n",
    "\n",
    "        # Crop out the largest image of the indicated aspect ratio\n",
    "        if width/ height > aspect_ratio:\n",
    "            width_new = height * aspect_ratio\n",
    "            start, end = abs((width-width_new)//2), (width+width_new)//2\n",
    "            start_x, start_y = start, 0 #start_pos\n",
    "            w, h = end, height #cropped size   \n",
    "        else:\n",
    "            height_new = width/aspect_ratio\n",
    "            start, end = abs((height-height_new)//2), (height+height_new)//2\n",
    "            start_x, start_y = 0, start #start_pos\n",
    "            w, h = width, end #cropped size\n",
    "        crop = img.crop((start_x, start_y, w, h))\n",
    "\n",
    "        # recover rotated images\n",
    "        if rotated:\n",
    "            img.rotate(270)\n",
    "\n",
    "        # Uniform image size\n",
    "        crop.thumbnail(max_output_size)\n",
    "        crop.save(image, optimize=True, quality=40)"
   ]
  }
 ],
 "metadata": {
  "kernelspec": {
   "display_name": "Python 3",
   "language": "python",
   "name": "python3"
  },
  "language_info": {
   "codemirror_mode": {
    "name": "ipython",
    "version": 3
   },
   "file_extension": ".py",
   "mimetype": "text/x-python",
   "name": "python",
   "nbconvert_exporter": "python",
   "pygments_lexer": "ipython3",
   "version": "3.8.3"
  }
 },
 "nbformat": 4,
 "nbformat_minor": 4
}
