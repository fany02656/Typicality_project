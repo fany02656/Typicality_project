{
  "nbformat": 4,
  "nbformat_minor": 0,
  "metadata": {
    "kernelspec": {
      "display_name": "Python 3",
      "language": "python",
      "name": "python3"
    },
    "language_info": {
      "codemirror_mode": {
        "name": "ipython",
        "version": 3
      },
      "file_extension": ".py",
      "mimetype": "text/x-python",
      "name": "python",
      "nbconvert_exporter": "python",
      "pygments_lexer": "ipython3",
      "version": "3.8.5"
    },
    "toc": {
      "base_numbering": 1,
      "nav_menu": {},
      "number_sections": false,
      "sideBar": true,
      "skip_h1_title": false,
      "title_cell": "Table of Contents",
      "title_sidebar": "Contents",
      "toc_cell": false,
      "toc_position": {},
      "toc_section_display": true,
      "toc_window_display": true
    },
    "colab": {
      "name": "get_similarity_score_overfeat.ipynb",
      "provenance": [],
      "collapsed_sections": [],
      "toc_visible": true
    }
  },
  "cells": [
    {
      "cell_type": "code",
      "metadata": {
        "colab": {
          "base_uri": "https://localhost:8080/"
        },
        "id": "3Vdtgqr1o9sS",
        "outputId": "37e688a5-bf7c-4fe9-86de-9391765bcc21"
      },
      "source": [
        "from google.colab import drive\n",
        "drive.mount('/content/drive')"
      ],
      "execution_count": 1,
      "outputs": [
        {
          "output_type": "stream",
          "text": [
            "Drive already mounted at /content/drive; to attempt to forcibly remount, call drive.mount(\"/content/drive\", force_remount=True).\n"
          ],
          "name": "stdout"
        }
      ]
    },
    {
      "cell_type": "code",
      "metadata": {
        "colab": {
          "base_uri": "https://localhost:8080/"
        },
        "id": "XqKPS51JpXwd",
        "outputId": "8a8502e3-801c-4ac5-8006-4cde31bbd014"
      },
      "source": [
        "%cd drive/MyDrive/1016/Project/Typicality_project/"
      ],
      "execution_count": 2,
      "outputs": [
        {
          "output_type": "stream",
          "text": [
            "/content/drive/MyDrive/1016/Project/Typicality_project\n"
          ],
          "name": "stdout"
        }
      ]
    },
    {
      "cell_type": "code",
      "metadata": {
        "id": "-kdA1bhKo8NT"
      },
      "source": [
        "import numpy as np\n",
        "import pandas as pd\n",
        "import torch\n",
        "from PIL import Image\n",
        "from torchvision import transforms\n",
        "import os\n",
        "import matplotlib.pyplot as plt\n",
        "import ast\n",
        "from functools import partial"
      ],
      "execution_count": 3,
      "outputs": []
    },
    {
      "cell_type": "markdown",
      "metadata": {
        "id": "-UX60cx-o8Nu"
      },
      "source": [
        "# First attempt: Use WordNet similarity score to find probabilitiy corresponding to the closest label "
      ]
    },
    {
      "cell_type": "code",
      "metadata": {
        "id": "PnzLrvd3o8Nx"
      },
      "source": [
        "from nltk.corpus import wordnet"
      ],
      "execution_count": 4,
      "outputs": []
    },
    {
      "cell_type": "code",
      "metadata": {
        "colab": {
          "base_uri": "https://localhost:8080/"
        },
        "id": "2Urtmul3pbRE",
        "outputId": "2fcdb99b-e587-427e-b46c-2af9d058fa28"
      },
      "source": [
        "import nltk\n",
        "nltk.download('wordnet')"
      ],
      "execution_count": 5,
      "outputs": [
        {
          "output_type": "stream",
          "text": [
            "[nltk_data] Downloading package wordnet to /root/nltk_data...\n",
            "[nltk_data]   Package wordnet is already up-to-date!\n"
          ],
          "name": "stdout"
        },
        {
          "output_type": "execute_result",
          "data": {
            "text/plain": [
              "True"
            ]
          },
          "metadata": {
            "tags": []
          },
          "execution_count": 5
        }
      ]
    },
    {
      "cell_type": "code",
      "metadata": {
        "id": "f21_FOsXpd6r"
      },
      "source": [
        "df_old = pd.read_csv('./Overfeat/overfeat_results_original.txt',index_col=0,sep='\\t',header=0)"
      ],
      "execution_count": 6,
      "outputs": []
    },
    {
      "cell_type": "code",
      "metadata": {
        "id": "WjBbG85qptXs"
      },
      "source": [
        "df_old = df_old.rename(columns={\"0\": \"Type\", \"1\": \"dir\", \"2\": \"name\", \"3\": \"score\"})"
      ],
      "execution_count": 7,
      "outputs": []
    },
    {
      "cell_type": "code",
      "metadata": {
        "id": "vzus1ZHIp8im"
      },
      "source": [
        "# read labels to wordnet synsets\n",
        "ltw = pd.read_json('imagenet_label_to_wordnet_synset.json').T"
      ],
      "execution_count": 8,
      "outputs": []
    },
    {
      "cell_type": "code",
      "metadata": {
        "id": "IvOh8NiQp3U4"
      },
      "source": [
        "# get readable labels from imagenet_label_to_wordnet_synset.json\n",
        "def convertIdToReadable(id_label):\n",
        "    for labelx in range(ltw.shape[0]):\n",
        "        if ltw['label'][labelx] == id_label:\n",
        "            return ltw['id'][labelx]\n",
        "    return None"
      ],
      "execution_count": 9,
      "outputs": []
    },
    {
      "cell_type": "code",
      "metadata": {
        "id": "_E2PIxREp4yF"
      },
      "source": [
        "df_old['id'] = df_old['name'].apply(convertIdToReadable)"
      ],
      "execution_count": 10,
      "outputs": []
    },
    {
      "cell_type": "code",
      "metadata": {
        "id": "CJNUC7_dqKYm"
      },
      "source": [
        "result_dict = {}\n",
        "for index, row in df_old.iterrows():\n",
        "    key = (row['Type'],row['dir'])\n",
        "    if key not in result_dict.keys():\n",
        "        result_dict[key]=[{row['name']:row['score']},{row['id']:row['score']}]\n",
        "    else:\n",
        "        result_dict[key][0][row['name']] = row['score']\n",
        "        result_dict[key][1][row['id']] = row['score']\n",
        "result_dict[('Banana',1)]"
      ],
      "execution_count": null,
      "outputs": []
    },
    {
      "cell_type": "code",
      "metadata": {
        "id": "PgvWnof8qLgH"
      },
      "source": [
        "df = pd.DataFrame(columns = ['type','dir','id_labels','readable_labels'])"
      ],
      "execution_count": 12,
      "outputs": []
    },
    {
      "cell_type": "code",
      "metadata": {
        "id": "ArvmP1K-qPKH"
      },
      "source": [
        "for key in result_dict.keys():\n",
        "    type, dir = key\n",
        "    dfsmall = {'type':type,'dir':dir,'id_labels':result_dict[key][1],'readable_labels':result_dict[key][0]}\n",
        "    df = df.append(dfsmall, ignore_index = True)"
      ],
      "execution_count": 13,
      "outputs": []
    },
    {
      "cell_type": "code",
      "metadata": {
        "id": "eBtixeeDqQAp"
      },
      "source": [
        "df.to_csv('./Overfeat/overfeat_scores_wordnet_id.csv')"
      ],
      "execution_count": 14,
      "outputs": []
    },
    {
      "cell_type": "code",
      "metadata": {
        "colab": {
          "base_uri": "https://localhost:8080/",
          "height": 195
        },
        "id": "lUvaXsMko8N1",
        "outputId": "c225fcd6-ce94-417f-fd3e-121606209136"
      },
      "source": [
        "df.head()"
      ],
      "execution_count": 15,
      "outputs": [
        {
          "output_type": "execute_result",
          "data": {
            "text/html": [
              "<div>\n",
              "<style scoped>\n",
              "    .dataframe tbody tr th:only-of-type {\n",
              "        vertical-align: middle;\n",
              "    }\n",
              "\n",
              "    .dataframe tbody tr th {\n",
              "        vertical-align: top;\n",
              "    }\n",
              "\n",
              "    .dataframe thead th {\n",
              "        text-align: right;\n",
              "    }\n",
              "</style>\n",
              "<table border=\"1\" class=\"dataframe\">\n",
              "  <thead>\n",
              "    <tr style=\"text-align: right;\">\n",
              "      <th></th>\n",
              "      <th>type</th>\n",
              "      <th>dir</th>\n",
              "      <th>id_labels</th>\n",
              "      <th>readable_labels</th>\n",
              "    </tr>\n",
              "  </thead>\n",
              "  <tbody>\n",
              "    <tr>\n",
              "      <th>0</th>\n",
              "      <td>Plane</td>\n",
              "      <td>1</td>\n",
              "      <td>{'02690373-n': 0.794895, '04592741-n': 0.20368...</td>\n",
              "      <td>{'airliner': 0.794895, 'wing': 0.2036869999999...</td>\n",
              "    </tr>\n",
              "    <tr>\n",
              "      <th>1</th>\n",
              "      <td>Plane</td>\n",
              "      <td>10</td>\n",
              "      <td>{'02690373-n': 0.8531709999999999, '04592741-n...</td>\n",
              "      <td>{'airliner': 0.8531709999999999, 'wing': 0.114...</td>\n",
              "    </tr>\n",
              "    <tr>\n",
              "      <th>2</th>\n",
              "      <td>Plane</td>\n",
              "      <td>11</td>\n",
              "      <td>{'02690373-n': 0.48173999999999995, '04592741-...</td>\n",
              "      <td>{'airliner': 0.48173999999999995, 'wing': 0.14...</td>\n",
              "    </tr>\n",
              "    <tr>\n",
              "      <th>3</th>\n",
              "      <td>Plane</td>\n",
              "      <td>12</td>\n",
              "      <td>{'04592741-n': 0.318848, '03874293-n': 0.16218...</td>\n",
              "      <td>{'wing': 0.318848, 'paddlewheel, paddle wheel'...</td>\n",
              "    </tr>\n",
              "    <tr>\n",
              "      <th>4</th>\n",
              "      <td>Plane</td>\n",
              "      <td>13</td>\n",
              "      <td>{'04552348-n': 0.145282, '04065272-n': 0.14077...</td>\n",
              "      <td>{'warplane, military plane': 0.145282, 'recrea...</td>\n",
              "    </tr>\n",
              "  </tbody>\n",
              "</table>\n",
              "</div>"
            ],
            "text/plain": [
              "    type  ...                                    readable_labels\n",
              "0  Plane  ...  {'airliner': 0.794895, 'wing': 0.2036869999999...\n",
              "1  Plane  ...  {'airliner': 0.8531709999999999, 'wing': 0.114...\n",
              "2  Plane  ...  {'airliner': 0.48173999999999995, 'wing': 0.14...\n",
              "3  Plane  ...  {'wing': 0.318848, 'paddlewheel, paddle wheel'...\n",
              "4  Plane  ...  {'warplane, military plane': 0.145282, 'recrea...\n",
              "\n",
              "[5 rows x 4 columns]"
            ]
          },
          "metadata": {
            "tags": []
          },
          "execution_count": 15
        }
      ]
    },
    {
      "cell_type": "markdown",
      "metadata": {
        "id": "fzhc9yoHo8N0"
      },
      "source": [
        "Input dataframe columns: (see alexnet.ipynb for getting wordnet ids for corresponding labels)"
      ]
    },
    {
      "cell_type": "code",
      "metadata": {
        "scrolled": true,
        "id": "TZrdkW2so8N5"
      },
      "source": [
        "# manually select the synsnet with the correct definition for each type\n",
        "type_names = np.unique(df['type'].values)\n",
        "for t in type_names:\n",
        "    syns = wordnet.synsets(t.lower())\n",
        "    if t == 'Beach':\n",
        "        syns = wordnet.synsets('seashore')\n",
        "    print(f'{t}: ')\n",
        "    for s in syns:\n",
        "        print(s)\n",
        "        print(s.definition())\n",
        "    print()"
      ],
      "execution_count": null,
      "outputs": []
    },
    {
      "cell_type": "code",
      "metadata": {
        "id": "2UQADV3ro8N7"
      },
      "source": [
        "type_synsets = ['banana.n.02','seashore.n.01','car.n.01','church.n.02','beacon.n.03','mountain.n.01','coffee_mug.n.01','airplane.n.01']\n",
        "type_final = {type_names[i] : type_synsets[i] for i in range(len(type_names))}"
      ],
      "execution_count": 17,
      "outputs": []
    },
    {
      "cell_type": "code",
      "metadata": {
        "id": "rSrtOLYmo8N9"
      },
      "source": [
        "type_final"
      ],
      "execution_count": null,
      "outputs": []
    },
    {
      "cell_type": "code",
      "metadata": {
        "id": "txh2wt99o8OA"
      },
      "source": [
        "# read labels \n",
        "with open(\"./imagenet_classes.txt\", \"r\") as f:\n",
        "    categories = [s.strip() for s in f.readlines()]\n",
        "# read labels to wordnet synsets\n",
        "ltw = pd.read_json('./imagenet_label_to_wordnet_synset.json').T"
      ],
      "execution_count": 19,
      "outputs": []
    },
    {
      "cell_type": "code",
      "metadata": {
        "id": "bE39InxFo8OC"
      },
      "source": [
        "# compute similarity score between synsets of each of the top 10 labels and the type \n",
        "def getSyns(similarity,closest,row):\n",
        "    # type name\n",
        "    category = row['type'] \n",
        "    \n",
        "    # top 10 labels' ids in wordnet\n",
        "    labels = row['id_labels'] \n",
        "    labels = ast.literal_eval(labels)\n",
        "    key = labels.keys()\n",
        "    \n",
        "    # iterate through top 10 labels and compare with type \n",
        "    sim = dict()\n",
        "    notFound = True\n",
        "    for k in key:\n",
        "        if k:\n",
        "            # print(k)\n",
        "            pos, synid = k.split('-')[1], int(k.split('-')[0]) # part of speech (all noun in this case), id\n",
        "            k_syns = wordnet.synset_from_pos_and_offset(pos, synid) # label synsets\n",
        "            cat_syns = wordnet.synset(type_final[category]) # type synsets\n",
        "            s = k_syns.path_similarity(cat_syns)\n",
        "            sim[k] = s\n",
        "            \n",
        "            # find the first > 0.5 similarity label among the top 10\n",
        "            if s >= 0.5 and notFound:\n",
        "                closest.append({k:s})\n",
        "                notFound = False\n",
        "            \n",
        "    # return the label with highest probabilitiy if none is above 0.5\n",
        "    if notFound:\n",
        "        sim_np = np.array(sim.values())\n",
        "        max_key = list(key)[np.argmax(sim_np)]\n",
        "        closest.append({max_key : sim[max_key]})\n",
        "    \n",
        "    similarity.append(sim)"
      ],
      "execution_count": 20,
      "outputs": []
    },
    {
      "cell_type": "code",
      "metadata": {
        "id": "0yc-6-H7o8OG"
      },
      "source": [
        "# get readable labels from imagenet_label_to_wordnet_synset.json\n",
        "def convertIdToReadable(id_label):\n",
        "    for idx in range(ltw.shape[0]):\n",
        "        if ltw['id'][idx] == id_label:\n",
        "            return ltw['label'][idx]\n",
        "    return None"
      ],
      "execution_count": 21,
      "outputs": []
    },
    {
      "cell_type": "code",
      "metadata": {
        "id": "5DBGNcpDq-r8"
      },
      "source": [
        "df = pd.read_csv('Overfeat/overfeat_scores_wordnet_id.csv',index_col=0)"
      ],
      "execution_count": 22,
      "outputs": []
    },
    {
      "cell_type": "code",
      "metadata": {
        "scrolled": true,
        "id": "Jc2cqS2Ao8OJ"
      },
      "source": [
        "similarity = []\n",
        "closest = []\n",
        "getSynsPartial = partial(getSyns, similarity, closest)\n",
        "df.apply(getSynsPartial, axis=1)\n",
        "\n",
        "df['similarity_score'] = similarity\n",
        "df['closest_id_label'] = [list(item.keys())[0] for item in closest]\n",
        "df['closest_similarity_score'] = [list(item.values())[0] for item in closest]\n",
        "df['closest_readable_label'] = df['closest_id_label'].apply(convertIdToReadable)\n",
        "df['closest_prob'] = [ast.literal_eval(d)[i] for d, i in zip(df['id_labels'],df['closest_id_label'])]"
      ],
      "execution_count": 23,
      "outputs": []
    },
    {
      "cell_type": "code",
      "metadata": {
        "id": "DKyPEP9c5RU8"
      },
      "source": [
        "df.to_csv('./Overfeat/overfeat_scores_wordnet_id_closest_label.csv')"
      ],
      "execution_count": null,
      "outputs": []
    },
    {
      "cell_type": "markdown",
      "metadata": {
        "id": "_7lI4Cuqo8ON"
      },
      "source": [
        "Potential issues: \n",
        "1. top 10 and threshold of 0.5 are arbitrarily chosen - e.g. see `df.loc[4]` where the top label is `cliff` (similarity score 0.25) but `alp` is the chosen label\n",
        "2. when none of top 10 labels' similarity scores pass the 0.5 threshold, it chooses the label with max similarity score and breaks ties by choosing the first, which is one with highest probability among all max similarity score labels - e.g. see `df.loc[9]`\n"
      ]
    },
    {
      "cell_type": "markdown",
      "metadata": {
        "id": "DTnhyrE53udU"
      },
      "source": [
        "# Second attempt: Map all labels using similarity score"
      ]
    },
    {
      "cell_type": "code",
      "metadata": {
        "id": "hnj40jUJ3udV"
      },
      "source": [
        "# read labels \n",
        "with open(\"./imagenet_classes.txt\", \"r\") as f:\n",
        "    categories = [s.strip() for s in f.readlines()]\n",
        "# read labels to wordnet synsets\n",
        "ltw = pd.read_json('./imagenet_label_to_wordnet_synset.json').T"
      ],
      "execution_count": 48,
      "outputs": []
    },
    {
      "cell_type": "code",
      "metadata": {
        "id": "26QHPyoS3udW"
      },
      "source": [
        "for t in type_final:\n",
        "    sim = []\n",
        "    for i in range(ltw.shape[0]):\n",
        "        type_synset = wordnet.synset(type_final[t])\n",
        "        k = ltw.iloc[i]['id']\n",
        "        pos, synid = k.split('-')[1], int(k.split('-')[0]) # part of speech (all noun in this case), id\n",
        "        k_syns = wordnet.synset_from_pos_and_offset(pos, synid) # label synsets\n",
        "        sim.append(k_syns.path_similarity(type_synset))\n",
        "    ltw[t] = sim"
      ],
      "execution_count": 49,
      "outputs": []
    },
    {
      "cell_type": "code",
      "metadata": {
        "id": "gX5NMUPi3udX",
        "colab": {
          "base_uri": "https://localhost:8080/"
        },
        "outputId": "69249383-8666-4b7e-f1c9-e4cc4716b412"
      },
      "source": [
        "type_labels = dict()\n",
        "for t in type_final:\n",
        "    if t in ['Plane']:\n",
        "        temp = np.array(ltw[ltw[t] >= 0.3].sort_values(t, ascending=False).index)\n",
        "    else:\n",
        "        temp = np.array(ltw[ltw[t] >= 0.5].sort_values(t, ascending=False).index)\n",
        "    if temp.size == 1:\n",
        "        type_labels[t] = temp[0]\n",
        "        print(f\"{t}: {ltw.loc[type_labels[t]]['label']}\")\n",
        "        print(f\"{t}: {ltw.loc[type_labels[t]][t]}\")\n",
        "        print()\n",
        "    else:\n",
        "        type_labels[t] = temp\n",
        "        print(f\"{t}: {ltw.loc[type_labels[t]]['label'].values}\")\n",
        "        print(f\"{t}: {ltw.loc[type_labels[t]][t].values}\")\n",
        "        print()"
      ],
      "execution_count": 50,
      "outputs": [
        {
          "output_type": "stream",
          "text": [
            "Banana: banana\n",
            "Banana: 1.0\n",
            "\n",
            "Beach: seashore, coast, seacoast, sea-coast\n",
            "Beach: 1.0\n",
            "\n",
            "Car: ['ambulance'\n",
            " 'beach wagon, station wagon, wagon, estate car, beach waggon, station waggon, waggon'\n",
            " 'cab, hack, taxi, taxicab' 'convertible' 'jeep, landrover'\n",
            " 'limousine, limo' 'minivan' 'Model T' 'racer, race car, racing car'\n",
            " 'sports car, sport car']\n",
            "Car: [0.5 0.5 0.5 0.5 0.5 0.5 0.5 0.5 0.5 0.5]\n",
            "\n",
            "Church: church, church building\n",
            "Church: 1.0\n",
            "\n",
            "Lighthouse: beacon, lighthouse, beacon light, pharos\n",
            "Lighthouse: 1.0\n",
            "\n",
            "Mountain: ['alp' 'volcano']\n",
            "Mountain: [0.5 0.5]\n",
            "\n",
            "Mug: coffee mug\n",
            "Mug: 1.0\n",
            "\n",
            "Plane: ['airliner' 'warplane, military plane']\n",
            "Plane: [0.5        0.33333333]\n",
            "\n"
          ],
          "name": "stdout"
        }
      ]
    },
    {
      "cell_type": "markdown",
      "metadata": {
        "id": "sfGkkQ9wo8Oe"
      },
      "source": [
        "Select one label that's closest to our definition of the categories"
      ]
    },
    {
      "cell_type": "markdown",
      "metadata": {
        "id": "QUOXguUpo8Oc"
      },
      "source": [
        "# Final label selection: select one label that most closely matches our definitions of the categories"
      ]
    },
    {
      "cell_type": "code",
      "metadata": {
        "id": "Qaws2Sbw4n1n"
      },
      "source": [
        "type_labels['Car'] = 436\n",
        "type_labels['Mountain'] = 970\n",
        "type_labels['Plane'] = 404"
      ],
      "execution_count": 51,
      "outputs": []
    },
    {
      "cell_type": "code",
      "metadata": {
        "id": "E7Ek2wlOo8Op"
      },
      "source": [
        "selected = ltw.loc[list(type_labels.values())][ltw.columns[:3]]\n",
        "selected['type'] = type_labels.keys()"
      ],
      "execution_count": 52,
      "outputs": []
    },
    {
      "cell_type": "code",
      "metadata": {
        "id": "Fz8pv8zCu6qY"
      },
      "source": [
        "df = pd.read_csv('Overfeat/overfeat_scores_wordnet_id.csv',index_col=0)"
      ],
      "execution_count": 53,
      "outputs": []
    },
    {
      "cell_type": "code",
      "metadata": {
        "colab": {
          "base_uri": "https://localhost:8080/",
          "height": 195
        },
        "id": "oMwb1K3OsC6s",
        "outputId": "0e4f995e-4f27-49d9-ef8b-dde07625a3b1"
      },
      "source": [
        "df.head()"
      ],
      "execution_count": 54,
      "outputs": [
        {
          "output_type": "execute_result",
          "data": {
            "text/html": [
              "<div>\n",
              "<style scoped>\n",
              "    .dataframe tbody tr th:only-of-type {\n",
              "        vertical-align: middle;\n",
              "    }\n",
              "\n",
              "    .dataframe tbody tr th {\n",
              "        vertical-align: top;\n",
              "    }\n",
              "\n",
              "    .dataframe thead th {\n",
              "        text-align: right;\n",
              "    }\n",
              "</style>\n",
              "<table border=\"1\" class=\"dataframe\">\n",
              "  <thead>\n",
              "    <tr style=\"text-align: right;\">\n",
              "      <th></th>\n",
              "      <th>type</th>\n",
              "      <th>dir</th>\n",
              "      <th>id_labels</th>\n",
              "      <th>readable_labels</th>\n",
              "    </tr>\n",
              "  </thead>\n",
              "  <tbody>\n",
              "    <tr>\n",
              "      <th>0</th>\n",
              "      <td>Plane</td>\n",
              "      <td>1</td>\n",
              "      <td>{'02690373-n': 0.794895, '04592741-n': 0.20368...</td>\n",
              "      <td>{'airliner': 0.794895, 'wing': 0.2036869999999...</td>\n",
              "    </tr>\n",
              "    <tr>\n",
              "      <th>1</th>\n",
              "      <td>Plane</td>\n",
              "      <td>10</td>\n",
              "      <td>{'02690373-n': 0.8531709999999999, '04592741-n...</td>\n",
              "      <td>{'airliner': 0.8531709999999999, 'wing': 0.114...</td>\n",
              "    </tr>\n",
              "    <tr>\n",
              "      <th>2</th>\n",
              "      <td>Plane</td>\n",
              "      <td>11</td>\n",
              "      <td>{'02690373-n': 0.48173999999999995, '04592741-...</td>\n",
              "      <td>{'airliner': 0.48173999999999995, 'wing': 0.14...</td>\n",
              "    </tr>\n",
              "    <tr>\n",
              "      <th>3</th>\n",
              "      <td>Plane</td>\n",
              "      <td>12</td>\n",
              "      <td>{'04592741-n': 0.318848, '03874293-n': 0.16218...</td>\n",
              "      <td>{'wing': 0.318848, 'paddlewheel, paddle wheel'...</td>\n",
              "    </tr>\n",
              "    <tr>\n",
              "      <th>4</th>\n",
              "      <td>Plane</td>\n",
              "      <td>13</td>\n",
              "      <td>{'04552348-n': 0.145282, '04065272-n': 0.14077...</td>\n",
              "      <td>{'warplane, military plane': 0.145282, 'recrea...</td>\n",
              "    </tr>\n",
              "  </tbody>\n",
              "</table>\n",
              "</div>"
            ],
            "text/plain": [
              "    type  ...                                    readable_labels\n",
              "0  Plane  ...  {'airliner': 0.794895, 'wing': 0.2036869999999...\n",
              "1  Plane  ...  {'airliner': 0.8531709999999999, 'wing': 0.114...\n",
              "2  Plane  ...  {'airliner': 0.48173999999999995, 'wing': 0.14...\n",
              "3  Plane  ...  {'wing': 0.318848, 'paddlewheel, paddle wheel'...\n",
              "4  Plane  ...  {'warplane, military plane': 0.145282, 'recrea...\n",
              "\n",
              "[5 rows x 4 columns]"
            ]
          },
          "metadata": {
            "tags": []
          },
          "execution_count": 54
        }
      ]
    },
    {
      "cell_type": "code",
      "metadata": {
        "id": "mbkuucHMo8Oq"
      },
      "source": [
        "def getScoreForMappedLabels(matched_label,matched_prob,row):\n",
        "    top_labels = ast.literal_eval(row['id_labels'])\n",
        "    mapped_label = ltw.loc[type_labels[row['type']]]['id']\n",
        "    flag = False\n",
        "    for k in top_labels.keys():\n",
        "        if k == mapped_label:\n",
        "            matched_label.append(k)\n",
        "            matched_prob.append(top_labels[k])\n",
        "            flag = True\n",
        "    if not flag:\n",
        "        matched_label.append(mapped_label)\n",
        "        matched_prob.append(0)"
      ],
      "execution_count": 55,
      "outputs": []
    },
    {
      "cell_type": "code",
      "metadata": {
        "colab": {
          "base_uri": "https://localhost:8080/"
        },
        "id": "m3AkWHX1o8Or",
        "outputId": "cf24675a-2ff9-46dd-91f1-88cc427fdbc8"
      },
      "source": [
        "matched_label,matched_prob = [], []\n",
        "getScoreForMappedLabelsPartial = partial(getScoreForMappedLabels, matched_label,matched_prob)\n",
        "df.apply(getScoreForMappedLabelsPartial,axis=1)"
      ],
      "execution_count": 56,
      "outputs": [
        {
          "output_type": "execute_result",
          "data": {
            "text/plain": [
              "0      None\n",
              "1      None\n",
              "2      None\n",
              "3      None\n",
              "4      None\n",
              "       ... \n",
              "123    None\n",
              "124    None\n",
              "125    None\n",
              "126    None\n",
              "127    None\n",
              "Length: 128, dtype: object"
            ]
          },
          "metadata": {
            "tags": []
          },
          "execution_count": 56
        }
      ]
    },
    {
      "cell_type": "code",
      "metadata": {
        "id": "tmXRXC_TsQbz"
      },
      "source": [
        "df['matched_label'] = matched_label\n",
        "df['matched_prob'] = matched_prob\n",
        "df['matched_readable'] = df['matched_label'].apply(lambda x: ltw[ltw['id'] == x]['label'].values[0])"
      ],
      "execution_count": 57,
      "outputs": []
    },
    {
      "cell_type": "code",
      "metadata": {
        "colab": {
          "base_uri": "https://localhost:8080/",
          "height": 553
        },
        "id": "a-yHJPjqwYhz",
        "outputId": "49f32f4f-ef4b-421c-9acc-efcd55b5d79b"
      },
      "source": [
        "df"
      ],
      "execution_count": 58,
      "outputs": [
        {
          "output_type": "execute_result",
          "data": {
            "text/html": [
              "<div>\n",
              "<style scoped>\n",
              "    .dataframe tbody tr th:only-of-type {\n",
              "        vertical-align: middle;\n",
              "    }\n",
              "\n",
              "    .dataframe tbody tr th {\n",
              "        vertical-align: top;\n",
              "    }\n",
              "\n",
              "    .dataframe thead th {\n",
              "        text-align: right;\n",
              "    }\n",
              "</style>\n",
              "<table border=\"1\" class=\"dataframe\">\n",
              "  <thead>\n",
              "    <tr style=\"text-align: right;\">\n",
              "      <th></th>\n",
              "      <th>type</th>\n",
              "      <th>dir</th>\n",
              "      <th>id_labels</th>\n",
              "      <th>readable_labels</th>\n",
              "      <th>matched_label</th>\n",
              "      <th>matched_prob</th>\n",
              "      <th>matched_readable</th>\n",
              "    </tr>\n",
              "  </thead>\n",
              "  <tbody>\n",
              "    <tr>\n",
              "      <th>0</th>\n",
              "      <td>Plane</td>\n",
              "      <td>1</td>\n",
              "      <td>{'02690373-n': 0.794895, '04592741-n': 0.20368...</td>\n",
              "      <td>{'airliner': 0.794895, 'wing': 0.2036869999999...</td>\n",
              "      <td>02690373-n</td>\n",
              "      <td>0.794895</td>\n",
              "      <td>airliner</td>\n",
              "    </tr>\n",
              "    <tr>\n",
              "      <th>1</th>\n",
              "      <td>Plane</td>\n",
              "      <td>10</td>\n",
              "      <td>{'02690373-n': 0.8531709999999999, '04592741-n...</td>\n",
              "      <td>{'airliner': 0.8531709999999999, 'wing': 0.114...</td>\n",
              "      <td>02690373-n</td>\n",
              "      <td>0.853171</td>\n",
              "      <td>airliner</td>\n",
              "    </tr>\n",
              "    <tr>\n",
              "      <th>2</th>\n",
              "      <td>Plane</td>\n",
              "      <td>11</td>\n",
              "      <td>{'02690373-n': 0.48173999999999995, '04592741-...</td>\n",
              "      <td>{'airliner': 0.48173999999999995, 'wing': 0.14...</td>\n",
              "      <td>02690373-n</td>\n",
              "      <td>0.481740</td>\n",
              "      <td>airliner</td>\n",
              "    </tr>\n",
              "    <tr>\n",
              "      <th>3</th>\n",
              "      <td>Plane</td>\n",
              "      <td>12</td>\n",
              "      <td>{'04592741-n': 0.318848, '03874293-n': 0.16218...</td>\n",
              "      <td>{'wing': 0.318848, 'paddlewheel, paddle wheel'...</td>\n",
              "      <td>02690373-n</td>\n",
              "      <td>0.113196</td>\n",
              "      <td>airliner</td>\n",
              "    </tr>\n",
              "    <tr>\n",
              "      <th>4</th>\n",
              "      <td>Plane</td>\n",
              "      <td>13</td>\n",
              "      <td>{'04552348-n': 0.145282, '04065272-n': 0.14077...</td>\n",
              "      <td>{'warplane, military plane': 0.145282, 'recrea...</td>\n",
              "      <td>02690373-n</td>\n",
              "      <td>0.057365</td>\n",
              "      <td>airliner</td>\n",
              "    </tr>\n",
              "    <tr>\n",
              "      <th>...</th>\n",
              "      <td>...</td>\n",
              "      <td>...</td>\n",
              "      <td>...</td>\n",
              "      <td>...</td>\n",
              "      <td>...</td>\n",
              "      <td>...</td>\n",
              "      <td>...</td>\n",
              "    </tr>\n",
              "    <tr>\n",
              "      <th>123</th>\n",
              "      <td>Banana</td>\n",
              "      <td>5</td>\n",
              "      <td>{'07753592-n': 0.364579, '07930864-n': 0.12127...</td>\n",
              "      <td>{'banana': 0.364579, 'cup': 0.121272, 'coil, s...</td>\n",
              "      <td>07753592-n</td>\n",
              "      <td>0.364579</td>\n",
              "      <td>banana</td>\n",
              "    </tr>\n",
              "    <tr>\n",
              "      <th>124</th>\n",
              "      <td>Banana</td>\n",
              "      <td>6</td>\n",
              "      <td>{'07753592-n': 0.9627370000000001, '07717410-n...</td>\n",
              "      <td>{'banana': 0.9627370000000001, 'acorn squash':...</td>\n",
              "      <td>07753592-n</td>\n",
              "      <td>0.962737</td>\n",
              "      <td>banana</td>\n",
              "    </tr>\n",
              "    <tr>\n",
              "      <th>125</th>\n",
              "      <td>Banana</td>\n",
              "      <td>7</td>\n",
              "      <td>{'07753592-n': 1.0, '03255030-n': 0.0, '078311...</td>\n",
              "      <td>{'banana': 1.0, 'dumbbell': 0.0, 'carbonara': ...</td>\n",
              "      <td>07753592-n</td>\n",
              "      <td>1.000000</td>\n",
              "      <td>banana</td>\n",
              "    </tr>\n",
              "    <tr>\n",
              "      <th>126</th>\n",
              "      <td>Banana</td>\n",
              "      <td>8</td>\n",
              "      <td>{'07753592-n': 0.878092, '03680355-n': 0.03566...</td>\n",
              "      <td>{'banana': 0.878092, 'Loafer': 0.0356656, 'clo...</td>\n",
              "      <td>07753592-n</td>\n",
              "      <td>0.878092</td>\n",
              "      <td>banana</td>\n",
              "    </tr>\n",
              "    <tr>\n",
              "      <th>127</th>\n",
              "      <td>Banana</td>\n",
              "      <td>9</td>\n",
              "      <td>{'07753592-n': 0.892834, '07749582-n': 0.03675...</td>\n",
              "      <td>{'banana': 0.892834, 'lemon': 0.0367536, 'coil...</td>\n",
              "      <td>07753592-n</td>\n",
              "      <td>0.892834</td>\n",
              "      <td>banana</td>\n",
              "    </tr>\n",
              "  </tbody>\n",
              "</table>\n",
              "<p>128 rows × 7 columns</p>\n",
              "</div>"
            ],
            "text/plain": [
              "       type  dir  ... matched_prob matched_readable\n",
              "0     Plane    1  ...     0.794895         airliner\n",
              "1     Plane   10  ...     0.853171         airliner\n",
              "2     Plane   11  ...     0.481740         airliner\n",
              "3     Plane   12  ...     0.113196         airliner\n",
              "4     Plane   13  ...     0.057365         airliner\n",
              "..      ...  ...  ...          ...              ...\n",
              "123  Banana    5  ...     0.364579           banana\n",
              "124  Banana    6  ...     0.962737           banana\n",
              "125  Banana    7  ...     1.000000           banana\n",
              "126  Banana    8  ...     0.878092           banana\n",
              "127  Banana    9  ...     0.892834           banana\n",
              "\n",
              "[128 rows x 7 columns]"
            ]
          },
          "metadata": {
            "tags": []
          },
          "execution_count": 58
        }
      ]
    },
    {
      "cell_type": "code",
      "metadata": {
        "id": "THev-L5To8Os"
      },
      "source": [
        "df.to_csv('overfeat_scores_final.csv')"
      ],
      "execution_count": 107,
      "outputs": []
    }
  ]
}