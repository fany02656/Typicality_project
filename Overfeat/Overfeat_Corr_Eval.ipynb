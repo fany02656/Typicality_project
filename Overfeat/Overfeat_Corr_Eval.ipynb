{
  "nbformat": 4,
  "nbformat_minor": 0,
  "metadata": {
    "colab": {
      "name": "reliability.ipynb",
      "provenance": [],
      "collapsed_sections": [],
      "toc_visible": true
    },
    "kernelspec": {
      "display_name": "Python 3",
      "language": "python",
      "name": "python3"
    },
    "language_info": {
      "codemirror_mode": {
        "name": "ipython",
        "version": 3
      },
      "file_extension": ".py",
      "mimetype": "text/x-python",
      "name": "python",
      "nbconvert_exporter": "python",
      "pygments_lexer": "ipython3",
      "version": "3.8.3"
    }
  },
  "cells": [
    {
      "cell_type": "markdown",
      "metadata": {
        "id": "93Ol-a-OOfXH"
      },
      "source": [
        "\n",
        "\n",
        "*   mean rating of each image\n",
        "*   spearman's rank correlation - reliability: Across 25 random splits, the average reliability across all eight categories was ..., min/max category.\n",
        "*   compute correlation with models (pearson rank correlations?)\n",
        "*   find \"outliers\" to compare scores, e.g. bananas with spots, image of groups of items \n",
        "*   the role of feature complexity"
      ]
    },
    {
      "cell_type": "code",
      "metadata": {
        "colab": {
          "base_uri": "https://localhost:8080/"
        },
        "id": "ILPXo4XZRq44",
        "outputId": "75138c4d-89c2-44d3-ec55-05f377254e84"
      },
      "source": [
        "from google.colab import drive\n",
        "drive.mount('/content/drive')"
      ],
      "execution_count": 1,
      "outputs": [
        {
          "output_type": "stream",
          "text": [
            "Mounted at /content/drive\n"
          ],
          "name": "stdout"
        }
      ]
    },
    {
      "cell_type": "code",
      "metadata": {
        "id": "1Plrod5x8T74"
      },
      "source": [
        "import pandas as pd\n",
        "from scipy.stats import spearmanr\n",
        "import numpy as np\n",
        "from sklearn.model_selection import train_test_split\n",
        "import os\n",
        "import matplotlib.pyplot as plt\n",
        "from scipy import stats"
      ],
      "execution_count": 2,
      "outputs": []
    },
    {
      "cell_type": "markdown",
      "metadata": {
        "id": "HwX2Z6DUPdR8"
      },
      "source": [
        "## Data reliability ##"
      ]
    },
    {
      "cell_type": "code",
      "metadata": {
        "id": "ZAI5-tHXOcJi"
      },
      "source": [
        "path='/content/drive/MyDrive/1016/Project/Typicality_project/Analysis/human_rating_bycat'\n",
        "# if windows\n",
        "# path = 'human_rating_bycat'\n",
        "\n",
        "banana=pd.read_csv(path+'/banana.csv')\n",
        "beach=pd.read_csv(path+'/beach.csv')\n",
        "car=pd.read_csv(path+'/car.csv')\n",
        "church=pd.read_csv(path+'/church.csv')\n",
        "lighthouse=pd.read_csv(path+'/lighthouse.csv')\n",
        "mountain=pd.read_csv(path+'/mountain.csv')\n",
        "mug=pd.read_csv(path+'/mug.csv')\n",
        "plane=pd.read_csv(path+'/plane.csv')"
      ],
      "execution_count": 6,
      "outputs": []
    },
    {
      "cell_type": "code",
      "metadata": {
        "id": "ebtwegEmRi6W"
      },
      "source": [
        "df_lst = [banana, beach, car, church, lighthouse, mountain,\n",
        "       mug, plane]\n",
        "df_name = ['Banana', 'Beach', 'Car', 'Church', 'Lighthouse', 'Mountain',\n",
        "       'Mug', 'Plane']\n",
        "\n",
        "for idx, df in enumerate(df_lst):\n",
        "    plt.hist(df.mean())\n",
        "    plt.title(df_name[idx])\n",
        "    plt.show()"
      ],
      "execution_count": null,
      "outputs": []
    },
    {
      "cell_type": "code",
      "metadata": {
        "id": "iRS1FVyZ4QC7"
      },
      "source": [
        "def compute_reliability(data):\n",
        "  reliability=[]\n",
        "  for i in range(25):\n",
        "    b1, b2=train_test_split(data, test_size=0.5)\n",
        "    b1, b2=b1.mean(), b2.mean()\n",
        "    coef, p=spearmanr(b1, b2)\n",
        "    reliability.append(coef)\n",
        "  return np.mean(reliability)"
      ],
      "execution_count": 8,
      "outputs": []
    },
    {
      "cell_type": "code",
      "metadata": {
        "id": "WJUIecIwHqeb"
      },
      "source": [
        "res={}\n",
        "data=[banana, beach, car, church, lighthouse, mountain, mug, plane]\n",
        "for i, cat in enumerate(data):\n",
        "  res[i]=compute_reliability(cat)"
      ],
      "execution_count": 9,
      "outputs": []
    },
    {
      "cell_type": "code",
      "metadata": {
        "colab": {
          "base_uri": "https://localhost:8080/"
        },
        "id": "MLn2KxLdKdca",
        "outputId": "f3061799-33ba-475f-f170-143edd67f1d7"
      },
      "source": [
        "res"
      ],
      "execution_count": 10,
      "outputs": [
        {
          "output_type": "execute_result",
          "data": {
            "text/plain": [
              "{0: 0.8827992334314991,\n",
              " 1: 0.961445396533741,\n",
              " 2: 0.945821944554654,\n",
              " 3: 0.8987446421656933,\n",
              " 4: 0.906025131621308,\n",
              " 5: 0.9152394833383266,\n",
              " 6: 0.8644567316553384,\n",
              " 7: 0.9485545796994741}"
            ]
          },
          "metadata": {
            "tags": []
          },
          "execution_count": 10
        }
      ]
    },
    {
      "cell_type": "code",
      "metadata": {
        "colab": {
          "base_uri": "https://localhost:8080/"
        },
        "id": "ksqWe_i4IWpa",
        "outputId": "902f56f1-10fa-422e-e9a8-5934a70d1ff9"
      },
      "source": [
        "print('min reliability: ', min(res.values()))\n",
        "print('max reliability: ', max(res.values()))\n",
        "print('mean reliability: ', sum(res.values())/8)"
      ],
      "execution_count": 11,
      "outputs": [
        {
          "output_type": "stream",
          "text": [
            "min reliability:  0.8644567316553384\n",
            "max reliability:  0.961445396533741\n",
            "mean reliability:  0.9153858928750043\n"
          ],
          "name": "stdout"
        }
      ]
    },
    {
      "cell_type": "code",
      "metadata": {
        "colab": {
          "base_uri": "https://localhost:8080/",
          "height": 86
        },
        "id": "QggUDH2Y51mT",
        "outputId": "4530bfac-2024-4da8-8b54-b050e7d2810a"
      },
      "source": [
        "'''\n",
        "print('banana reliability: ', compute_reliability(banana))\n",
        "print('beach reliability: ', compute_reliability(beach))\n",
        "print('car reliability: ', compute_reliability(car))\n",
        "print('church reliability: ', compute_reliability(church))\n",
        "print('lighthouse reliability: ', compute_reliability(lighthouse))\n",
        "print('mountain reliability: ', compute_reliability(mountain))\n",
        "print('mug reliability: ', compute_reliability(mug))\n",
        "print('plane reliability: ', compute_reliability(plane))\n",
        "'''"
      ],
      "execution_count": 12,
      "outputs": [
        {
          "output_type": "execute_result",
          "data": {
            "application/vnd.google.colaboratory.intrinsic+json": {
              "type": "string"
            },
            "text/plain": [
              "\"\\nprint('banana reliability: ', compute_reliability(banana))\\nprint('beach reliability: ', compute_reliability(beach))\\nprint('car reliability: ', compute_reliability(car))\\nprint('church reliability: ', compute_reliability(church))\\nprint('lighthouse reliability: ', compute_reliability(lighthouse))\\nprint('mountain reliability: ', compute_reliability(mountain))\\nprint('mug reliability: ', compute_reliability(mug))\\nprint('plane reliability: ', compute_reliability(plane))\\n\""
            ]
          },
          "metadata": {
            "tags": []
          },
          "execution_count": 12
        }
      ]
    },
    {
      "cell_type": "markdown",
      "metadata": {
        "id": "4n5SO67sPg5R"
      },
      "source": [
        "## Correlation to models ##\n",
        "\n",
        "Problem - different order of images in survey and model?"
      ]
    },
    {
      "cell_type": "code",
      "metadata": {
        "scrolled": true,
        "id": "EubrVFeKRi6m"
      },
      "source": [
        "# If windows\n",
        "# google_df=pd.read_csv('../GoogleNet/googlenet_scores_wordnet_id_closest_label.csv')\n",
        "# vgg_df=pd.read_csv('../VGG/vgg_scores_wordnet_id_closest_label.csv')\n",
        "# alex_df=pd.read_csv('../alexnet/alexnet_scores_wordnet_id_closest_label.csv')\n",
        "overfeat_df = pd.read_csv('/content/drive/MyDrive/1016/Project/Typicality_project/Overfeat/overfeat_scores_wordnet_id_closest_label.csv',index_col=0)\n",
        "overfeat_df.head()"
      ],
      "execution_count": null,
      "outputs": []
    },
    {
      "cell_type": "code",
      "metadata": {
        "id": "nB1C2WTzb9qn"
      },
      "source": [
        "overfeat_df['dir'] = overfeat_df['dir'].astype('int')"
      ],
      "execution_count": 50,
      "outputs": []
    },
    {
      "cell_type": "code",
      "metadata": {
        "colab": {
          "base_uri": "https://localhost:8080/",
          "height": 758
        },
        "id": "osAwpMmzcW6C",
        "outputId": "ba8aa7be-6f10-489d-d07a-84b00d76f42e"
      },
      "source": [
        "overfeat_df = overfeat_df.sort_values(by=['type','dir'])\n",
        "overfeat_df"
      ],
      "execution_count": 52,
      "outputs": [
        {
          "output_type": "execute_result",
          "data": {
            "text/html": [
              "<div>\n",
              "<style scoped>\n",
              "    .dataframe tbody tr th:only-of-type {\n",
              "        vertical-align: middle;\n",
              "    }\n",
              "\n",
              "    .dataframe tbody tr th {\n",
              "        vertical-align: top;\n",
              "    }\n",
              "\n",
              "    .dataframe thead th {\n",
              "        text-align: right;\n",
              "    }\n",
              "</style>\n",
              "<table border=\"1\" class=\"dataframe\">\n",
              "  <thead>\n",
              "    <tr style=\"text-align: right;\">\n",
              "      <th></th>\n",
              "      <th>type</th>\n",
              "      <th>dir</th>\n",
              "      <th>id_labels</th>\n",
              "      <th>readable_labels</th>\n",
              "      <th>similarity_score</th>\n",
              "      <th>closest_id_label</th>\n",
              "      <th>closest_similarity_score</th>\n",
              "      <th>closest_readable_label</th>\n",
              "      <th>closest_prob</th>\n",
              "    </tr>\n",
              "  </thead>\n",
              "  <tbody>\n",
              "    <tr>\n",
              "      <th>112</th>\n",
              "      <td>Banana</td>\n",
              "      <td>1</td>\n",
              "      <td>{'07753592-n': 0.980348, '07717410-n': 0.00572...</td>\n",
              "      <td>{'banana': 0.980348, 'acorn squash': 0.0057260...</td>\n",
              "      <td>{'07753592-n': 1.0, '07717410-n': 0.1428571428...</td>\n",
              "      <td>07753592-n</td>\n",
              "      <td>1.0</td>\n",
              "      <td>banana</td>\n",
              "      <td>0.980348</td>\n",
              "    </tr>\n",
              "    <tr>\n",
              "      <th>120</th>\n",
              "      <td>Banana</td>\n",
              "      <td>2</td>\n",
              "      <td>{'02606052-n': 0.41746099999999997, '07753592-...</td>\n",
              "      <td>{'rock beauty, Holocanthus tricolor': 0.417460...</td>\n",
              "      <td>{'02606052-n': 0.047619047619047616, '07753592...</td>\n",
              "      <td>07753592-n</td>\n",
              "      <td>1.0</td>\n",
              "      <td>banana</td>\n",
              "      <td>0.123135</td>\n",
              "    </tr>\n",
              "    <tr>\n",
              "      <th>121</th>\n",
              "      <td>Banana</td>\n",
              "      <td>3</td>\n",
              "      <td>{'07753592-n': 0.41874700000000004, '03065424-...</td>\n",
              "      <td>{'banana': 0.41874700000000004, 'coil, spiral,...</td>\n",
              "      <td>{'07753592-n': 1.0, '03065424-n': 0.0909090909...</td>\n",
              "      <td>07753592-n</td>\n",
              "      <td>1.0</td>\n",
              "      <td>banana</td>\n",
              "      <td>0.418747</td>\n",
              "    </tr>\n",
              "    <tr>\n",
              "      <th>122</th>\n",
              "      <td>Banana</td>\n",
              "      <td>4</td>\n",
              "      <td>{'07753592-n': 0.618004, '07720875-n': 0.14292...</td>\n",
              "      <td>{'banana': 0.618004, 'bell pepper': 0.142925, ...</td>\n",
              "      <td>{'07753592-n': 1.0, '07720875-n': 0.125, '0771...</td>\n",
              "      <td>07753592-n</td>\n",
              "      <td>1.0</td>\n",
              "      <td>banana</td>\n",
              "      <td>0.618004</td>\n",
              "    </tr>\n",
              "    <tr>\n",
              "      <th>123</th>\n",
              "      <td>Banana</td>\n",
              "      <td>5</td>\n",
              "      <td>{'07753592-n': 0.364579, '07930864-n': 0.12127...</td>\n",
              "      <td>{'banana': 0.364579, 'cup': 0.121272, 'coil, s...</td>\n",
              "      <td>{'07753592-n': 1.0, '07930864-n': 0.0769230769...</td>\n",
              "      <td>07753592-n</td>\n",
              "      <td>1.0</td>\n",
              "      <td>banana</td>\n",
              "      <td>0.364579</td>\n",
              "    </tr>\n",
              "    <tr>\n",
              "      <th>...</th>\n",
              "      <td>...</td>\n",
              "      <td>...</td>\n",
              "      <td>...</td>\n",
              "      <td>...</td>\n",
              "      <td>...</td>\n",
              "      <td>...</td>\n",
              "      <td>...</td>\n",
              "      <td>...</td>\n",
              "      <td>...</td>\n",
              "    </tr>\n",
              "    <tr>\n",
              "      <th>3</th>\n",
              "      <td>Plane</td>\n",
              "      <td>12</td>\n",
              "      <td>{'04592741-n': 0.318848, '03874293-n': 0.16218...</td>\n",
              "      <td>{'wing': 0.318848, 'paddlewheel, paddle wheel'...</td>\n",
              "      <td>{'04592741-n': 0.1, '03874293-n': 0.0769230769...</td>\n",
              "      <td>02690373-n</td>\n",
              "      <td>0.5</td>\n",
              "      <td>airliner</td>\n",
              "      <td>0.113196</td>\n",
              "    </tr>\n",
              "    <tr>\n",
              "      <th>4</th>\n",
              "      <td>Plane</td>\n",
              "      <td>13</td>\n",
              "      <td>{'04552348-n': 0.145282, '04065272-n': 0.14077...</td>\n",
              "      <td>{'warplane, military plane': 0.145282, 'recrea...</td>\n",
              "      <td>{'04552348-n': 0.3333333333333333, '04065272-n...</td>\n",
              "      <td>02690373-n</td>\n",
              "      <td>0.5</td>\n",
              "      <td>airliner</td>\n",
              "      <td>0.057365</td>\n",
              "    </tr>\n",
              "    <tr>\n",
              "      <th>5</th>\n",
              "      <td>Plane</td>\n",
              "      <td>14</td>\n",
              "      <td>{'03933933-n': 0.352139, '03160309-n': 0.29153...</td>\n",
              "      <td>{'pier': 0.352139, 'dam, dike, dyke': 0.291537...</td>\n",
              "      <td>{'03933933-n': 0.1, '03160309-n': 0.0833333333...</td>\n",
              "      <td>03933933-n</td>\n",
              "      <td>0.1</td>\n",
              "      <td>pier</td>\n",
              "      <td>0.352139</td>\n",
              "    </tr>\n",
              "    <tr>\n",
              "      <th>6</th>\n",
              "      <td>Plane</td>\n",
              "      <td>15</td>\n",
              "      <td>{'04273569-n': 0.9261280000000001, '04483307-n...</td>\n",
              "      <td>{'speedboat': 0.9261280000000001, 'trimaran': ...</td>\n",
              "      <td>{'04273569-n': 0.125, '04483307-n': 0.125, '02...</td>\n",
              "      <td>02690373-n</td>\n",
              "      <td>0.5</td>\n",
              "      <td>airliner</td>\n",
              "      <td>0.001270</td>\n",
              "    </tr>\n",
              "    <tr>\n",
              "      <th>7</th>\n",
              "      <td>Plane</td>\n",
              "      <td>16</td>\n",
              "      <td>{'04008634-n': 0.20134000000000002, '04266014-...</td>\n",
              "      <td>{'projectile, missile': 0.20134000000000002, '...</td>\n",
              "      <td>{'04008634-n': 0.09090909090909091, '04266014-...</td>\n",
              "      <td>02690373-n</td>\n",
              "      <td>0.5</td>\n",
              "      <td>airliner</td>\n",
              "      <td>0.137867</td>\n",
              "    </tr>\n",
              "  </tbody>\n",
              "</table>\n",
              "<p>128 rows × 9 columns</p>\n",
              "</div>"
            ],
            "text/plain": [
              "       type  dir  ... closest_readable_label closest_prob\n",
              "112  Banana    1  ...                 banana     0.980348\n",
              "120  Banana    2  ...                 banana     0.123135\n",
              "121  Banana    3  ...                 banana     0.418747\n",
              "122  Banana    4  ...                 banana     0.618004\n",
              "123  Banana    5  ...                 banana     0.364579\n",
              "..      ...  ...  ...                    ...          ...\n",
              "3     Plane   12  ...               airliner     0.113196\n",
              "4     Plane   13  ...               airliner     0.057365\n",
              "5     Plane   14  ...                   pier     0.352139\n",
              "6     Plane   15  ...               airliner     0.001270\n",
              "7     Plane   16  ...               airliner     0.137867\n",
              "\n",
              "[128 rows x 9 columns]"
            ]
          },
          "metadata": {
            "tags": []
          },
          "execution_count": 52
        }
      ]
    },
    {
      "cell_type": "code",
      "metadata": {
        "id": "dAF0PvtAPQBc"
      },
      "source": [
        "# with GoogLeNet\n",
        "google_df=pd.read_csv('../content/drive/MyDrive/1016/Project/Typicality_project/GoogleNet/googlenet_scores_wordnet_id_closest_label.csv')\n",
        "vgg_df=pd.read_csv('../content/drive/MyDrive/1016/Project/Typicality_project/VGG/vgg_scores_wordnet_id_closest_label.csv')\n",
        "alex_df=pd.read_csv('../content/drive/MyDrive/1016/Project/Typicality_project/alexnet/alexnet_scores_wordnet_id_closest_label.csv')\n",
        "\n",
        "google_df.head()"
      ],
      "execution_count": null,
      "outputs": []
    },
    {
      "cell_type": "code",
      "metadata": {
        "id": "x9pusfssRgPZ"
      },
      "source": [
        "Bana=[google_df[google_df['type']=='Banana']['closest_prob'], \n",
        "      alex_df[alex_df['type']=='Banana']['closest_prob'],\n",
        "      vgg_df[vgg_df['type']=='Banana']['closest_prob'],\n",
        "      overfeat_df[overfeat_df['type']=='Banana']['closest_prob']]\n",
        "\n",
        "Beach=[google_df[google_df['type']=='Beach']['closest_prob'],\n",
        "       alex_df[alex_df['type']=='Beach']['closest_prob'],\n",
        "       vgg_df[vgg_df['type']=='Beach']['closest_prob'],\n",
        "       overfeat_df[overfeat_df['type']=='Beach']['closest_prob']]\n",
        "\n",
        "Car=[google_df[google_df['type']=='Car']['closest_prob'],\n",
        "     alex_df[alex_df['type']=='Car']['closest_prob'],\n",
        "     vgg_df[vgg_df['type']=='Car']['closest_prob'],\n",
        "     overfeat_df[overfeat_df['type']=='Car']['closest_prob']]\n",
        "\n",
        "Church=[google_df[google_df['type']=='Church']['closest_prob'],\n",
        "        alex_df[alex_df['type']=='Church']['closest_prob'],\n",
        "        vgg_df[vgg_df['type']=='Church']['closest_prob'],\n",
        "        overfeat_df[overfeat_df['type']=='Church']['closest_prob']]\n",
        "\n",
        "Light=[google_df[google_df['type']=='Lighthouse']['closest_prob'],\n",
        "       alex_df[alex_df['type']=='Lighthouse']['closest_prob'],\n",
        "       vgg_df[vgg_df['type']=='Lighthouse']['closest_prob'],\n",
        "       overfeat_df[overfeat_df['type']=='Lighthouse']['closest_prob']]\n",
        "\n",
        "Mount=[google_df[google_df['type']=='Mountain']['closest_prob'],\n",
        "       alex_df[alex_df['type']=='Mountain']['closest_prob'],\n",
        "       vgg_df[vgg_df['type']=='Mountain']['closest_prob'],\n",
        "       overfeat_df[overfeat_df['type']=='Mountain']['closest_prob']]\n",
        "\n",
        "Mug=[google_df[google_df['type']=='Mug']['closest_prob'],\n",
        "     alex_df[alex_df['type']=='Mug']['closest_prob'],\n",
        "     vgg_df[vgg_df['type']=='Mug']['closest_prob'],\n",
        "     overfeat_df[overfeat_df['type']=='Mug']['closest_prob']]\n",
        "\n",
        "Plane=[google_df[google_df['type']=='Plane']['closest_prob'],\n",
        "       alex_df[alex_df['type']=='Plane']['closest_prob'],\n",
        "       vgg_df[vgg_df['type']=='Plane']['closest_prob'],\n",
        "       overfeat_df[overfeat_df['type']=='Plane']['closest_prob']]"
      ],
      "execution_count": 54,
      "outputs": []
    },
    {
      "cell_type": "markdown",
      "metadata": {
        "id": "0DKr_yJ-V159"
      },
      "source": [
        "# Overfeat"
      ]
    },
    {
      "cell_type": "code",
      "metadata": {
        "colab": {
          "base_uri": "https://localhost:8080/"
        },
        "id": "eNwaekozV16L",
        "outputId": "325c72c1-b28e-4ef4-9d7d-5de9cd7bd1ab"
      },
      "source": [
        "#bana=banana.mean()\n",
        "#Bana=Bana.reset_index(drop=True, inplace=True)\n",
        "corr=[]\n",
        "for i in range(banana.shape[0]):\n",
        "  if i!=17 and i!=21:\n",
        "    bana=banana.iloc[i]\n",
        "    coef, p=stats.pearsonr(bana.values, Bana[3].values)\n",
        "    print(coef)\n",
        "    #coef=np.corrcoef(bana, Bana)\n",
        "    #coef, p=spearmanr(bana, Bana)\n",
        "    corr.append(abs(coef))\n",
        "bana_corr=np.mean(corr)\n",
        "print('Banana correlation: ', bana_corr)"
      ],
      "execution_count": 55,
      "outputs": [
        {
          "output_type": "stream",
          "text": [
            "0.7525478449133675\n",
            "0.38217886941039725\n",
            "0.6156713031141431\n",
            "0.4872118499957767\n",
            "0.5447223469535333\n",
            "0.4602924941427539\n",
            "0.3736638637488939\n",
            "0.22783782646499803\n",
            "0.5504527529032759\n",
            "0.45499724666253705\n",
            "0.6792142910954797\n",
            "0.13193140096621217\n",
            "0.6213501594965359\n",
            "0.444960663449721\n",
            "0.6771121174615106\n",
            "0.4287188490187555\n",
            "0.4953798315938281\n",
            "0.6243684056945796\n",
            "0.4709743550340037\n",
            "0.633064446824263\n",
            "0.4687072148569925\n",
            "0.40727334714998104\n",
            "0.40727334714998104\n",
            "0.48785796196734454\n",
            "0.2835042885050709\n",
            "0.6264488933530588\n",
            "0.40727334714998104\n",
            "0.702268714461332\n",
            "0.46409858721361946\n",
            "0.40727334714998104\n",
            "0.5160746160130258\n",
            "0.5484026793006227\n",
            "0.18403913186483456\n",
            "0.5268538314728851\n",
            "Banana correlation:  0.48511765372215515\n"
          ],
          "name": "stdout"
        }
      ]
    },
    {
      "cell_type": "code",
      "metadata": {
        "colab": {
          "base_uri": "https://localhost:8080/"
        },
        "id": "e7YxUSbrV16O",
        "outputId": "242c6769-ea6e-47f9-df6c-ef8fb2fe65c9"
      },
      "source": [
        "corr=[]\n",
        "for i in range(beach.shape[0]):\n",
        "  #if i!=17 and i!=21:\n",
        "  bea=beach.iloc[i]\n",
        "  coef, p=stats.pearsonr(bea.values, Beach[3].values)\n",
        "  print(coef)\n",
        "  #coef=np.corrcoef(bea, Beach)\n",
        "    #coef, p=spearmanr(bana, Bana)\n",
        "  corr.append(coef)\n",
        "bea_corr=np.mean(corr)\n",
        "print('Beach correlation: ', bea_corr)"
      ],
      "execution_count": 56,
      "outputs": [
        {
          "output_type": "stream",
          "text": [
            "0.1397138594301332\n",
            "0.22812061349040513\n",
            "-0.27640833937019627\n",
            "0.032492787070559276\n",
            "0.269391584621871\n",
            "0.09036420079798217\n",
            "0.08787324234141773\n",
            "0.37667540529100946\n",
            "-0.19714423164400616\n",
            "-0.3075636997955658\n",
            "0.12106011426129065\n",
            "-0.2139881901367406\n",
            "-0.1692510357964329\n",
            "-0.04588763125529918\n",
            "-0.243986758224398\n",
            "-0.07412710711533402\n",
            "-0.02625487064351159\n",
            "-0.16330665982462492\n",
            "0.05978552836647992\n",
            "-0.007187953901836727\n",
            "0.40534163952315216\n",
            "-0.2568150044676176\n",
            "-0.1773060850354131\n",
            "0.05514014605033768\n",
            "-0.0932783448782233\n",
            "0.01951190860751846\n",
            "0.04386752189449066\n",
            "-0.04598933814363167\n",
            "0.010077030375622534\n",
            "0.24633620418955884\n",
            "0.04277206525235262\n",
            "-0.06955057871592757\n",
            "0.1892630153975027\n",
            "0.2949642416366595\n",
            "0.3555760827473881\n",
            "-0.05724307614298329\n",
            "Beach correlation:  0.017862174618166363\n"
          ],
          "name": "stdout"
        }
      ]
    },
    {
      "cell_type": "code",
      "metadata": {
        "colab": {
          "base_uri": "https://localhost:8080/"
        },
        "id": "myDWPU0ZV16P",
        "outputId": "1ad1a157-ed50-4141-daf0-039f00e4ecc1"
      },
      "source": [
        "corr=[]\n",
        "for i in range(car.shape[0]):\n",
        "  #if i!=17 and i!=21:\n",
        "  ca=car.iloc[i]\n",
        "  coef, p=stats.pearsonr(ca.values, Car[3].sort_index().values)\n",
        "  print(coef)\n",
        "  #coef=np.corrcoef(ca, Car)\n",
        "    #coef, p=spearmanr(bana, Bana)\n",
        "  corr.append(coef)\n",
        "car_corr=np.mean(corr)\n",
        "print('Car correlation: ', car_corr)"
      ],
      "execution_count": 57,
      "outputs": [
        {
          "output_type": "stream",
          "text": [
            "-0.5585590908322242\n",
            "-0.5780887792086912\n",
            "-0.47615164417329764\n",
            "-0.4598211777249163\n",
            "-0.512274396608509\n",
            "-0.3114767577712535\n",
            "-0.04458078912054647\n",
            "-0.5704231183756417\n",
            "0.004814982364936299\n",
            "-0.19888883479986594\n",
            "-0.32146161059482603\n",
            "-0.39311319318421944\n",
            "-0.42847193404952905\n",
            "-0.2997015734375358\n",
            "-0.5650132567598767\n",
            "-0.591096979702443\n",
            "-0.5572882117827046\n",
            "-0.4643844729319757\n",
            "-0.5823510230791871\n",
            "-0.5588717019123115\n",
            "-0.4746105487446607\n",
            "-0.2551994865018357\n",
            "-0.3618477868547648\n",
            "-0.46192846790510267\n",
            "-0.42331407667343596\n",
            "-0.34577470380142383\n",
            "-0.34614808766327976\n",
            "-0.2450399203982684\n",
            "-0.39237623384297776\n",
            "-0.6370199033441362\n",
            "-0.4083888842113849\n",
            "-0.3711043723193542\n",
            "-0.6885852603384874\n",
            "-0.5024369547218268\n",
            "-0.33616896364001486\n",
            "-0.11865349143404415\n",
            "Car correlation:  -0.41210557516887825\n"
          ],
          "name": "stdout"
        }
      ]
    },
    {
      "cell_type": "code",
      "metadata": {
        "colab": {
          "base_uri": "https://localhost:8080/"
        },
        "id": "9Tlow9b-V16Q",
        "outputId": "80b121bf-192a-445d-d14b-69ac8b550655"
      },
      "source": [
        "corr=[]\n",
        "for i in range(church.shape[0]):\n",
        "  #if i!=17 and i!=21:\n",
        "  ch=church.iloc[i]\n",
        "  coef, p=stats.pearsonr(ch.values, Church[3].values)\n",
        "  print(coef)\n",
        "  #coef=np.corrcoef(ch, Church)\n",
        "    #coef, p=spearmanr(bana, Bana)\n",
        "  corr.append(coef)\n",
        "church_corr=np.mean(corr)\n",
        "print('Church correlation: ', church_corr)"
      ],
      "execution_count": 58,
      "outputs": [
        {
          "output_type": "stream",
          "text": [
            "0.29211980595063564\n",
            "0.21146885450424446\n",
            "0.34647641718309097\n",
            "0.11756862369723614\n",
            "0.11821367514809494\n",
            "0.22645978108201864\n",
            "-0.25801014316385074\n",
            "0.2033173296345609\n",
            "0.10910486503138991\n",
            "0.15568549538815274\n",
            "0.5453970575782292\n",
            "0.12209917426834695\n",
            "0.29922304242708986\n",
            "0.4553343958958551\n",
            "0.4637364270305442\n",
            "0.057250081567086636\n",
            "-0.007338665837687525\n",
            "-0.18501533397532582\n",
            "0.6759396717399389\n",
            "0.32641600581020014\n",
            "0.3988980193915289\n",
            "0.26384770943529906\n",
            "-0.04262183150453878\n",
            "-0.04028847024720622\n",
            "0.07991503979357327\n",
            "0.32392363112625705\n",
            "0.5141461841867154\n",
            "-0.2141383018360884\n",
            "-0.024729742594791215\n",
            "0.07867873221420124\n",
            "0.3609795274007464\n",
            "0.40825384601905196\n",
            "0.6266863145419246\n",
            "0.022513259198047197\n",
            "0.23516793954124812\n",
            "0.1632049085647573\n",
            "Church correlation:  0.20638564794973824\n"
          ],
          "name": "stdout"
        }
      ]
    },
    {
      "cell_type": "code",
      "metadata": {
        "colab": {
          "base_uri": "https://localhost:8080/"
        },
        "id": "KDW_5vzJV16S",
        "outputId": "f3e85bdb-7bd8-48af-92f5-298e3a5c3a58"
      },
      "source": [
        "corr=[]\n",
        "for i in range(lighthouse.shape[0]):\n",
        "  #if i!=17 and i!=21:\n",
        "  li=lighthouse.iloc[i]\n",
        "  coef, p=stats.pearsonr(li.values, Light[3].values)\n",
        "  print(coef)\n",
        "  #coef=np.corrcoef(li, Light)\n",
        "    #coef, p=spearmanr(bana, Bana)\n",
        "  corr.append(coef)\n",
        "light_corr=np.mean(corr)\n",
        "print('Lighthouse correlation: ', light_corr)"
      ],
      "execution_count": 59,
      "outputs": [
        {
          "output_type": "stream",
          "text": [
            "0.5550087939521223\n",
            "0.5190539292016654\n",
            "0.5945604020905829\n",
            "0.43975477284680536\n",
            "0.6241588436116132\n",
            "0.35579196666553503\n",
            "0.42149884989814235\n",
            "0.32048403782867757\n",
            "0.2716569533451296\n",
            "0.5224307852548764\n",
            "0.4400407878860087\n",
            "0.40209420075263735\n",
            "0.5313931046854139\n",
            "0.6447010259088555\n",
            "0.6552303844779734\n",
            "0.30526680223818997\n",
            "0.13850251692666127\n",
            "0.3655756125016404\n",
            "0.2615139693642133\n",
            "0.3383711314003172\n",
            "0.3290760497814422\n",
            "0.3144280618066335\n",
            "0.35047450618334586\n",
            "0.22942231396732354\n",
            "0.6740400312602886\n",
            "0.49318753981657026\n",
            "0.3920646798133487\n",
            "0.2450471834939125\n",
            "0.4976664162043229\n",
            "0.507240832642557\n",
            "0.4662833198513847\n",
            "0.30444568156299834\n",
            "0.5307809442984353\n",
            "0.45924026004941726\n",
            "0.5221363459444124\n",
            "0.48882942100593463\n",
            "Lighthouse correlation:  0.4308736794033164\n"
          ],
          "name": "stdout"
        }
      ]
    },
    {
      "cell_type": "code",
      "metadata": {
        "colab": {
          "base_uri": "https://localhost:8080/"
        },
        "id": "BG3WLOSTV16T",
        "outputId": "70672e1d-892e-4b62-beff-f9a83d2240f3"
      },
      "source": [
        "corr=[]\n",
        "for i in range(mountain.shape[0]):\n",
        "  if i!=31:\n",
        "    mount=mountain.iloc[i]\n",
        "    coef, p=stats.pearsonr(mount.values, Mount[3].values)\n",
        "    print(coef)\n",
        "  #coef=np.corrcoef(mount, Mount)\n",
        "    #coef, p=spearmanr(bana, Bana)\n",
        "    corr.append(coef)\n",
        "mount_corr=np.mean(corr)\n",
        "print('Mountain correlation: ', mount_corr)"
      ],
      "execution_count": 60,
      "outputs": [
        {
          "output_type": "stream",
          "text": [
            "0.49400187800170564\n",
            "0.4041819800811123\n",
            "0.624542170312138\n",
            "0.27251040498390555\n",
            "0.31115758464692017\n",
            "0.35204997434692653\n",
            "0.4601804189194829\n",
            "0.1668812463836925\n",
            "0.3255872307288502\n",
            "0.35177333888094375\n",
            "0.11049535740528053\n",
            "0.32509711776389527\n",
            "-0.010121305416835341\n",
            "0.5038335666201246\n",
            "0.4336418267025898\n",
            "0.27746934464862144\n",
            "0.3424377558210887\n",
            "0.3429201691304182\n",
            "0.37664798161178864\n",
            "0.42907366266033\n",
            "0.30941948525969865\n",
            "-0.010121305416835348\n",
            "-0.010121305416835348\n",
            "0.45692833332631805\n",
            "-0.010121305416835341\n",
            "0.2204172691571345\n",
            "0.04306363565495496\n",
            "0.5049564500928551\n",
            "0.18661693270778826\n",
            "0.36511281092520903\n",
            "0.5592206536306439\n",
            "0.444118612560257\n",
            "0.37571552456770146\n",
            "0.2955186564644831\n",
            "0.501947340123859\n",
            "Mountain correlation:  0.317915242641525\n"
          ],
          "name": "stdout"
        }
      ]
    },
    {
      "cell_type": "code",
      "metadata": {
        "colab": {
          "base_uri": "https://localhost:8080/"
        },
        "id": "7avGVXiPV16U",
        "outputId": "06e653a2-1225-47bb-e1d4-7f8212bcc743"
      },
      "source": [
        "corr=[]\n",
        "for i in range(mug.shape[0]):\n",
        "  #if i!=17 and i!=21:\n",
        "  m=mug.iloc[i]\n",
        "  coef, p=stats.pearsonr(m.values, Mug[3].values)\n",
        "  print(coef)\n",
        "  #coef=np.corrcoef(m, Mug)\n",
        "    #coef, p=spearmanr(bana, Bana)\n",
        "  corr.append(coef)\n",
        "mug_corr=np.mean(corr)\n",
        "print('Mug correlation: ', mug_corr)"
      ],
      "execution_count": 61,
      "outputs": [
        {
          "output_type": "stream",
          "text": [
            "0.019363121149863577\n",
            "0.2821209406246138\n",
            "0.26331084781791203\n",
            "0.12971416847811337\n",
            "-0.14262814862554696\n",
            "0.07047704458027357\n",
            "-0.13620411573537447\n",
            "0.21205750186161815\n",
            "0.14492293754176439\n",
            "-0.14774070023343372\n",
            "-0.20373435634395842\n",
            "0.30796613054031136\n",
            "0.19619954268828707\n",
            "0.2380097219976827\n",
            "0.05755969542648298\n",
            "0.03408908406600987\n",
            "0.2325903924608069\n",
            "0.31467981957650826\n",
            "-0.22306801204158727\n",
            "0.0005194517298946974\n",
            "0.12402222985567934\n",
            "0.14178144480051263\n",
            "0.04127509453801836\n",
            "0.07791525037803587\n",
            "0.32331909618510407\n",
            "-0.03791221103003356\n",
            "0.17963043580767485\n",
            "0.03988275837330856\n",
            "-0.05594632083855228\n",
            "-0.04443042727236267\n",
            "0.1892293496014408\n",
            "0.1011062413037928\n",
            "-0.25748413101753714\n",
            "0.39341149447804147\n",
            "-0.04077680391835853\n",
            "-0.1617367112686045\n",
            "Mug correlation:  0.07398588493156671\n"
          ],
          "name": "stdout"
        }
      ]
    },
    {
      "cell_type": "code",
      "metadata": {
        "colab": {
          "base_uri": "https://localhost:8080/"
        },
        "id": "WMtaQ0HmV16V",
        "outputId": "23d85f53-8595-4fbe-d743-a9c10cb7d618"
      },
      "source": [
        "corr=[]\n",
        "for i in range(plane.shape[0]):\n",
        "  #if i!=17 and i!=21:\n",
        "  pla=plane.iloc[i]\n",
        "  coef, p=stats.pearsonr(pla.values, Plane[3].values)\n",
        "  print(coef)\n",
        "  #coef=np.corrcoef(pla, Plane)\n",
        "    #coef, p=spearmanr(bana, Bana)\n",
        "  corr.append(coef)\n",
        "plane_corr=np.mean(corr)\n",
        "print('Plane correlation: ', plane_corr)"
      ],
      "execution_count": 62,
      "outputs": [
        {
          "output_type": "stream",
          "text": [
            "0.3733783138972454\n",
            "0.328825411045726\n",
            "0.5263725808814399\n",
            "0.5526736805870113\n",
            "0.339722562328166\n",
            "0.3886173535172511\n",
            "0.5618211014482211\n",
            "0.30382490110754745\n",
            "0.2182592344565666\n",
            "0.3197542396195615\n",
            "0.7597886915137337\n",
            "0.29972537043928504\n",
            "0.4495305498810829\n",
            "0.38084089429788653\n",
            "0.4893372283153249\n",
            "0.43390265390310306\n",
            "0.4520875308337081\n",
            "0.6808553958937591\n",
            "0.16992704661090474\n",
            "0.5161849191437232\n",
            "0.22037173574497482\n",
            "0.2139274794057392\n",
            "0.16600294751536135\n",
            "0.4248239741606915\n",
            "0.41680710525062103\n",
            "0.2873750691653437\n",
            "0.4353962414815016\n",
            "0.04347484823300499\n",
            "0.35895768935742367\n",
            "0.39853888043577435\n",
            "0.4776110346522841\n",
            "0.22821228664045615\n",
            "0.39057783755049325\n",
            "0.5877448319962606\n",
            "0.5130355145793004\n",
            "0.5049356864335415\n",
            "Plane correlation:  0.3948117450645561\n"
          ],
          "name": "stdout"
        }
      ]
    },
    {
      "cell_type": "code",
      "metadata": {
        "colab": {
          "base_uri": "https://localhost:8080/"
        },
        "id": "rBgsiiLSV16W",
        "outputId": "79478c94-dc52-4d66-8219-4c43cfff3c9d"
      },
      "source": [
        "sum_corr=bana_corr+bea_corr+car_corr+church_corr+mount_corr+mug_corr+plane_corr+light_corr\n",
        "avg_corr=sum_corr/8\n",
        "avg_corr"
      ],
      "execution_count": 63,
      "outputs": [
        {
          "output_type": "execute_result",
          "data": {
            "text/plain": [
              "0.1893558066452682"
            ]
          },
          "metadata": {
            "tags": []
          },
          "execution_count": 63
        }
      ]
    }
  ]
}