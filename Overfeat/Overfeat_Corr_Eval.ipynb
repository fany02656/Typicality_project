{
  "nbformat": 4,
  "nbformat_minor": 0,
  "metadata": {
    "colab": {
      "name": "correlation_overfeat.ipynb",
      "provenance": [],
      "collapsed_sections": []
    },
    "kernelspec": {
      "display_name": "Python 3",
      "language": "python",
      "name": "python3"
    },
    "language_info": {
      "codemirror_mode": {
        "name": "ipython",
        "version": 3
      },
      "file_extension": ".py",
      "mimetype": "text/x-python",
      "name": "python",
      "nbconvert_exporter": "python",
      "pygments_lexer": "ipython3",
      "version": "3.8.3"
    },
    "toc": {
      "base_numbering": 1,
      "nav_menu": {},
      "number_sections": false,
      "sideBar": true,
      "skip_h1_title": false,
      "title_cell": "Table of Contents",
      "title_sidebar": "Contents",
      "toc_cell": false,
      "toc_position": {},
      "toc_section_display": true,
      "toc_window_display": false
    }
  },
  "cells": [
    {
      "cell_type": "code",
      "metadata": {
        "colab": {
          "base_uri": "https://localhost:8080/"
        },
        "id": "oncpfoLQxulm",
        "outputId": "b5c541d4-5dc3-4fea-a037-6da51a9f98e7"
      },
      "source": [
        "from google.colab import drive\n",
        "drive.mount('/content/drive')"
      ],
      "execution_count": 1,
      "outputs": [
        {
          "output_type": "stream",
          "text": [
            "Drive already mounted at /content/drive; to attempt to forcibly remount, call drive.mount(\"/content/drive\", force_remount=True).\n"
          ],
          "name": "stdout"
        }
      ]
    },
    {
      "cell_type": "code",
      "metadata": {
        "colab": {
          "base_uri": "https://localhost:8080/"
        },
        "id": "VFO1vaSWx5m7",
        "outputId": "0c9faee6-e4f3-4706-dca2-8ff3ddf2cd75"
      },
      "source": [
        "%cd drive/MyDrive/1016/Project/Typicality_project/"
      ],
      "execution_count": 2,
      "outputs": [
        {
          "output_type": "stream",
          "text": [
            "/content/drive/MyDrive/1016/Project/Typicality_project\n"
          ],
          "name": "stdout"
        }
      ]
    },
    {
      "cell_type": "code",
      "metadata": {
        "id": "1Plrod5x8T74"
      },
      "source": [
        "import pandas as pd\n",
        "from scipy.stats import spearmanr\n",
        "import numpy as np\n",
        "from sklearn.model_selection import train_test_split\n",
        "import os\n",
        "import matplotlib.pyplot as plt\n",
        "from scipy import stats\n",
        "import ast "
      ],
      "execution_count": 3,
      "outputs": []
    },
    {
      "cell_type": "code",
      "metadata": {
        "id": "4zxPkip5xrby"
      },
      "source": [
        "categories = ['banana','beach','car','church','lighthouse','mountain','mug','plane']\n",
        "path='./Analysis/human_rating_bycat'"
      ],
      "execution_count": 4,
      "outputs": []
    },
    {
      "cell_type": "code",
      "metadata": {
        "id": "T-LoLvQDxrb3"
      },
      "source": [
        "for i, cate in enumerate(categories):\n",
        "    col = [cate+'_'+str(i+1) for i in range(16)]\n",
        "    new = pd.read_csv(path+'/'+cate+'.csv')\n",
        "    new.columns = col\n",
        "    if i == 0:\n",
        "        old = new\n",
        "    else:\n",
        "        old = pd.concat([old,new],axis=1)\n",
        "df = old"
      ],
      "execution_count": 5,
      "outputs": []
    },
    {
      "cell_type": "code",
      "metadata": {
        "colab": {
          "base_uri": "https://localhost:8080/",
          "height": 244
        },
        "id": "Ay14WFpwxrb5",
        "outputId": "b6ebdbf7-0c22-4365-e352-6b899c0bcec4"
      },
      "source": [
        "df.head()"
      ],
      "execution_count": 6,
      "outputs": [
        {
          "output_type": "execute_result",
          "data": {
            "text/html": [
              "<div>\n",
              "<style scoped>\n",
              "    .dataframe tbody tr th:only-of-type {\n",
              "        vertical-align: middle;\n",
              "    }\n",
              "\n",
              "    .dataframe tbody tr th {\n",
              "        vertical-align: top;\n",
              "    }\n",
              "\n",
              "    .dataframe thead th {\n",
              "        text-align: right;\n",
              "    }\n",
              "</style>\n",
              "<table border=\"1\" class=\"dataframe\">\n",
              "  <thead>\n",
              "    <tr style=\"text-align: right;\">\n",
              "      <th></th>\n",
              "      <th>banana_1</th>\n",
              "      <th>banana_2</th>\n",
              "      <th>banana_3</th>\n",
              "      <th>banana_4</th>\n",
              "      <th>banana_5</th>\n",
              "      <th>banana_6</th>\n",
              "      <th>banana_7</th>\n",
              "      <th>banana_8</th>\n",
              "      <th>banana_9</th>\n",
              "      <th>banana_10</th>\n",
              "      <th>banana_11</th>\n",
              "      <th>banana_12</th>\n",
              "      <th>banana_13</th>\n",
              "      <th>banana_14</th>\n",
              "      <th>banana_15</th>\n",
              "      <th>banana_16</th>\n",
              "      <th>beach_1</th>\n",
              "      <th>beach_2</th>\n",
              "      <th>beach_3</th>\n",
              "      <th>beach_4</th>\n",
              "      <th>beach_5</th>\n",
              "      <th>beach_6</th>\n",
              "      <th>beach_7</th>\n",
              "      <th>beach_8</th>\n",
              "      <th>beach_9</th>\n",
              "      <th>beach_10</th>\n",
              "      <th>beach_11</th>\n",
              "      <th>beach_12</th>\n",
              "      <th>beach_13</th>\n",
              "      <th>beach_14</th>\n",
              "      <th>beach_15</th>\n",
              "      <th>beach_16</th>\n",
              "      <th>car_1</th>\n",
              "      <th>car_2</th>\n",
              "      <th>car_3</th>\n",
              "      <th>car_4</th>\n",
              "      <th>car_5</th>\n",
              "      <th>car_6</th>\n",
              "      <th>car_7</th>\n",
              "      <th>car_8</th>\n",
              "      <th>...</th>\n",
              "      <th>mountain_9</th>\n",
              "      <th>mountain_10</th>\n",
              "      <th>mountain_11</th>\n",
              "      <th>mountain_12</th>\n",
              "      <th>mountain_13</th>\n",
              "      <th>mountain_14</th>\n",
              "      <th>mountain_15</th>\n",
              "      <th>mountain_16</th>\n",
              "      <th>mug_1</th>\n",
              "      <th>mug_2</th>\n",
              "      <th>mug_3</th>\n",
              "      <th>mug_4</th>\n",
              "      <th>mug_5</th>\n",
              "      <th>mug_6</th>\n",
              "      <th>mug_7</th>\n",
              "      <th>mug_8</th>\n",
              "      <th>mug_9</th>\n",
              "      <th>mug_10</th>\n",
              "      <th>mug_11</th>\n",
              "      <th>mug_12</th>\n",
              "      <th>mug_13</th>\n",
              "      <th>mug_14</th>\n",
              "      <th>mug_15</th>\n",
              "      <th>mug_16</th>\n",
              "      <th>plane_1</th>\n",
              "      <th>plane_2</th>\n",
              "      <th>plane_3</th>\n",
              "      <th>plane_4</th>\n",
              "      <th>plane_5</th>\n",
              "      <th>plane_6</th>\n",
              "      <th>plane_7</th>\n",
              "      <th>plane_8</th>\n",
              "      <th>plane_9</th>\n",
              "      <th>plane_10</th>\n",
              "      <th>plane_11</th>\n",
              "      <th>plane_12</th>\n",
              "      <th>plane_13</th>\n",
              "      <th>plane_14</th>\n",
              "      <th>plane_15</th>\n",
              "      <th>plane_16</th>\n",
              "    </tr>\n",
              "  </thead>\n",
              "  <tbody>\n",
              "    <tr>\n",
              "      <th>0</th>\n",
              "      <td>7</td>\n",
              "      <td>5</td>\n",
              "      <td>6</td>\n",
              "      <td>5</td>\n",
              "      <td>5</td>\n",
              "      <td>7</td>\n",
              "      <td>7</td>\n",
              "      <td>6</td>\n",
              "      <td>6</td>\n",
              "      <td>4</td>\n",
              "      <td>2</td>\n",
              "      <td>3</td>\n",
              "      <td>7</td>\n",
              "      <td>4</td>\n",
              "      <td>4</td>\n",
              "      <td>6</td>\n",
              "      <td>4</td>\n",
              "      <td>4</td>\n",
              "      <td>7</td>\n",
              "      <td>6</td>\n",
              "      <td>7</td>\n",
              "      <td>6</td>\n",
              "      <td>7</td>\n",
              "      <td>4</td>\n",
              "      <td>6</td>\n",
              "      <td>7</td>\n",
              "      <td>3</td>\n",
              "      <td>3</td>\n",
              "      <td>5</td>\n",
              "      <td>5</td>\n",
              "      <td>4</td>\n",
              "      <td>1</td>\n",
              "      <td>6</td>\n",
              "      <td>7</td>\n",
              "      <td>6</td>\n",
              "      <td>7</td>\n",
              "      <td>7</td>\n",
              "      <td>4</td>\n",
              "      <td>4</td>\n",
              "      <td>7</td>\n",
              "      <td>...</td>\n",
              "      <td>7</td>\n",
              "      <td>5</td>\n",
              "      <td>7</td>\n",
              "      <td>7</td>\n",
              "      <td>2</td>\n",
              "      <td>7</td>\n",
              "      <td>7</td>\n",
              "      <td>6</td>\n",
              "      <td>4</td>\n",
              "      <td>5</td>\n",
              "      <td>3</td>\n",
              "      <td>5</td>\n",
              "      <td>4</td>\n",
              "      <td>5</td>\n",
              "      <td>7</td>\n",
              "      <td>7</td>\n",
              "      <td>2</td>\n",
              "      <td>7</td>\n",
              "      <td>6</td>\n",
              "      <td>7</td>\n",
              "      <td>5</td>\n",
              "      <td>7</td>\n",
              "      <td>7</td>\n",
              "      <td>5</td>\n",
              "      <td>7</td>\n",
              "      <td>5</td>\n",
              "      <td>7</td>\n",
              "      <td>5</td>\n",
              "      <td>5</td>\n",
              "      <td>7</td>\n",
              "      <td>7</td>\n",
              "      <td>3</td>\n",
              "      <td>7</td>\n",
              "      <td>7</td>\n",
              "      <td>2</td>\n",
              "      <td>5</td>\n",
              "      <td>6</td>\n",
              "      <td>4</td>\n",
              "      <td>4</td>\n",
              "      <td>7</td>\n",
              "    </tr>\n",
              "    <tr>\n",
              "      <th>1</th>\n",
              "      <td>7</td>\n",
              "      <td>6</td>\n",
              "      <td>7</td>\n",
              "      <td>6</td>\n",
              "      <td>6</td>\n",
              "      <td>6</td>\n",
              "      <td>6</td>\n",
              "      <td>6</td>\n",
              "      <td>6</td>\n",
              "      <td>6</td>\n",
              "      <td>5</td>\n",
              "      <td>4</td>\n",
              "      <td>6</td>\n",
              "      <td>7</td>\n",
              "      <td>4</td>\n",
              "      <td>6</td>\n",
              "      <td>4</td>\n",
              "      <td>5</td>\n",
              "      <td>5</td>\n",
              "      <td>5</td>\n",
              "      <td>5</td>\n",
              "      <td>5</td>\n",
              "      <td>7</td>\n",
              "      <td>5</td>\n",
              "      <td>5</td>\n",
              "      <td>5</td>\n",
              "      <td>4</td>\n",
              "      <td>5</td>\n",
              "      <td>2</td>\n",
              "      <td>6</td>\n",
              "      <td>4</td>\n",
              "      <td>5</td>\n",
              "      <td>4</td>\n",
              "      <td>6</td>\n",
              "      <td>6</td>\n",
              "      <td>4</td>\n",
              "      <td>5</td>\n",
              "      <td>1</td>\n",
              "      <td>1</td>\n",
              "      <td>7</td>\n",
              "      <td>...</td>\n",
              "      <td>5</td>\n",
              "      <td>5</td>\n",
              "      <td>6</td>\n",
              "      <td>6</td>\n",
              "      <td>4</td>\n",
              "      <td>4</td>\n",
              "      <td>5</td>\n",
              "      <td>5</td>\n",
              "      <td>5</td>\n",
              "      <td>6</td>\n",
              "      <td>1</td>\n",
              "      <td>5</td>\n",
              "      <td>5</td>\n",
              "      <td>6</td>\n",
              "      <td>6</td>\n",
              "      <td>6</td>\n",
              "      <td>2</td>\n",
              "      <td>5</td>\n",
              "      <td>5</td>\n",
              "      <td>6</td>\n",
              "      <td>2</td>\n",
              "      <td>6</td>\n",
              "      <td>6</td>\n",
              "      <td>5</td>\n",
              "      <td>6</td>\n",
              "      <td>5</td>\n",
              "      <td>5</td>\n",
              "      <td>3</td>\n",
              "      <td>5</td>\n",
              "      <td>5</td>\n",
              "      <td>7</td>\n",
              "      <td>3</td>\n",
              "      <td>4</td>\n",
              "      <td>7</td>\n",
              "      <td>3</td>\n",
              "      <td>6</td>\n",
              "      <td>5</td>\n",
              "      <td>5</td>\n",
              "      <td>3</td>\n",
              "      <td>7</td>\n",
              "    </tr>\n",
              "    <tr>\n",
              "      <th>2</th>\n",
              "      <td>7</td>\n",
              "      <td>7</td>\n",
              "      <td>7</td>\n",
              "      <td>6</td>\n",
              "      <td>6</td>\n",
              "      <td>7</td>\n",
              "      <td>7</td>\n",
              "      <td>7</td>\n",
              "      <td>7</td>\n",
              "      <td>7</td>\n",
              "      <td>2</td>\n",
              "      <td>5</td>\n",
              "      <td>7</td>\n",
              "      <td>7</td>\n",
              "      <td>4</td>\n",
              "      <td>7</td>\n",
              "      <td>5</td>\n",
              "      <td>7</td>\n",
              "      <td>7</td>\n",
              "      <td>7</td>\n",
              "      <td>7</td>\n",
              "      <td>7</td>\n",
              "      <td>7</td>\n",
              "      <td>5</td>\n",
              "      <td>7</td>\n",
              "      <td>7</td>\n",
              "      <td>5</td>\n",
              "      <td>6</td>\n",
              "      <td>7</td>\n",
              "      <td>7</td>\n",
              "      <td>5</td>\n",
              "      <td>5</td>\n",
              "      <td>6</td>\n",
              "      <td>7</td>\n",
              "      <td>7</td>\n",
              "      <td>7</td>\n",
              "      <td>7</td>\n",
              "      <td>5</td>\n",
              "      <td>4</td>\n",
              "      <td>7</td>\n",
              "      <td>...</td>\n",
              "      <td>7</td>\n",
              "      <td>4</td>\n",
              "      <td>7</td>\n",
              "      <td>7</td>\n",
              "      <td>6</td>\n",
              "      <td>7</td>\n",
              "      <td>6</td>\n",
              "      <td>7</td>\n",
              "      <td>6</td>\n",
              "      <td>7</td>\n",
              "      <td>5</td>\n",
              "      <td>4</td>\n",
              "      <td>5</td>\n",
              "      <td>7</td>\n",
              "      <td>7</td>\n",
              "      <td>5</td>\n",
              "      <td>3</td>\n",
              "      <td>7</td>\n",
              "      <td>7</td>\n",
              "      <td>6</td>\n",
              "      <td>5</td>\n",
              "      <td>7</td>\n",
              "      <td>7</td>\n",
              "      <td>6</td>\n",
              "      <td>7</td>\n",
              "      <td>6</td>\n",
              "      <td>7</td>\n",
              "      <td>4</td>\n",
              "      <td>7</td>\n",
              "      <td>7</td>\n",
              "      <td>7</td>\n",
              "      <td>4</td>\n",
              "      <td>6</td>\n",
              "      <td>7</td>\n",
              "      <td>4</td>\n",
              "      <td>5</td>\n",
              "      <td>6</td>\n",
              "      <td>5</td>\n",
              "      <td>5</td>\n",
              "      <td>7</td>\n",
              "    </tr>\n",
              "    <tr>\n",
              "      <th>3</th>\n",
              "      <td>7</td>\n",
              "      <td>7</td>\n",
              "      <td>7</td>\n",
              "      <td>2</td>\n",
              "      <td>3</td>\n",
              "      <td>7</td>\n",
              "      <td>7</td>\n",
              "      <td>5</td>\n",
              "      <td>5</td>\n",
              "      <td>4</td>\n",
              "      <td>1</td>\n",
              "      <td>2</td>\n",
              "      <td>6</td>\n",
              "      <td>5</td>\n",
              "      <td>1</td>\n",
              "      <td>5</td>\n",
              "      <td>3</td>\n",
              "      <td>5</td>\n",
              "      <td>4</td>\n",
              "      <td>4</td>\n",
              "      <td>7</td>\n",
              "      <td>5</td>\n",
              "      <td>6</td>\n",
              "      <td>3</td>\n",
              "      <td>6</td>\n",
              "      <td>7</td>\n",
              "      <td>4</td>\n",
              "      <td>3</td>\n",
              "      <td>3</td>\n",
              "      <td>2</td>\n",
              "      <td>3</td>\n",
              "      <td>2</td>\n",
              "      <td>6</td>\n",
              "      <td>7</td>\n",
              "      <td>6</td>\n",
              "      <td>5</td>\n",
              "      <td>7</td>\n",
              "      <td>3</td>\n",
              "      <td>2</td>\n",
              "      <td>7</td>\n",
              "      <td>...</td>\n",
              "      <td>7</td>\n",
              "      <td>3</td>\n",
              "      <td>4</td>\n",
              "      <td>6</td>\n",
              "      <td>4</td>\n",
              "      <td>5</td>\n",
              "      <td>3</td>\n",
              "      <td>6</td>\n",
              "      <td>1</td>\n",
              "      <td>4</td>\n",
              "      <td>2</td>\n",
              "      <td>3</td>\n",
              "      <td>3</td>\n",
              "      <td>6</td>\n",
              "      <td>7</td>\n",
              "      <td>5</td>\n",
              "      <td>1</td>\n",
              "      <td>6</td>\n",
              "      <td>7</td>\n",
              "      <td>4</td>\n",
              "      <td>5</td>\n",
              "      <td>5</td>\n",
              "      <td>5</td>\n",
              "      <td>4</td>\n",
              "      <td>7</td>\n",
              "      <td>5</td>\n",
              "      <td>6</td>\n",
              "      <td>1</td>\n",
              "      <td>3</td>\n",
              "      <td>6</td>\n",
              "      <td>7</td>\n",
              "      <td>2</td>\n",
              "      <td>4</td>\n",
              "      <td>7</td>\n",
              "      <td>2</td>\n",
              "      <td>3</td>\n",
              "      <td>3</td>\n",
              "      <td>1</td>\n",
              "      <td>2</td>\n",
              "      <td>7</td>\n",
              "    </tr>\n",
              "    <tr>\n",
              "      <th>4</th>\n",
              "      <td>7</td>\n",
              "      <td>6</td>\n",
              "      <td>7</td>\n",
              "      <td>5</td>\n",
              "      <td>5</td>\n",
              "      <td>7</td>\n",
              "      <td>7</td>\n",
              "      <td>6</td>\n",
              "      <td>6</td>\n",
              "      <td>5</td>\n",
              "      <td>4</td>\n",
              "      <td>4</td>\n",
              "      <td>7</td>\n",
              "      <td>7</td>\n",
              "      <td>4</td>\n",
              "      <td>5</td>\n",
              "      <td>5</td>\n",
              "      <td>5</td>\n",
              "      <td>6</td>\n",
              "      <td>6</td>\n",
              "      <td>7</td>\n",
              "      <td>7</td>\n",
              "      <td>7</td>\n",
              "      <td>6</td>\n",
              "      <td>6</td>\n",
              "      <td>7</td>\n",
              "      <td>5</td>\n",
              "      <td>5</td>\n",
              "      <td>6</td>\n",
              "      <td>5</td>\n",
              "      <td>5</td>\n",
              "      <td>4</td>\n",
              "      <td>5</td>\n",
              "      <td>7</td>\n",
              "      <td>6</td>\n",
              "      <td>5</td>\n",
              "      <td>5</td>\n",
              "      <td>5</td>\n",
              "      <td>4</td>\n",
              "      <td>5</td>\n",
              "      <td>...</td>\n",
              "      <td>6</td>\n",
              "      <td>4</td>\n",
              "      <td>6</td>\n",
              "      <td>6</td>\n",
              "      <td>4</td>\n",
              "      <td>6</td>\n",
              "      <td>7</td>\n",
              "      <td>7</td>\n",
              "      <td>4</td>\n",
              "      <td>4</td>\n",
              "      <td>3</td>\n",
              "      <td>4</td>\n",
              "      <td>5</td>\n",
              "      <td>5</td>\n",
              "      <td>6</td>\n",
              "      <td>7</td>\n",
              "      <td>4</td>\n",
              "      <td>6</td>\n",
              "      <td>5</td>\n",
              "      <td>7</td>\n",
              "      <td>7</td>\n",
              "      <td>6</td>\n",
              "      <td>6</td>\n",
              "      <td>6</td>\n",
              "      <td>7</td>\n",
              "      <td>4</td>\n",
              "      <td>5</td>\n",
              "      <td>4</td>\n",
              "      <td>4</td>\n",
              "      <td>6</td>\n",
              "      <td>6</td>\n",
              "      <td>4</td>\n",
              "      <td>5</td>\n",
              "      <td>6</td>\n",
              "      <td>4</td>\n",
              "      <td>4</td>\n",
              "      <td>5</td>\n",
              "      <td>3</td>\n",
              "      <td>4</td>\n",
              "      <td>7</td>\n",
              "    </tr>\n",
              "  </tbody>\n",
              "</table>\n",
              "<p>5 rows × 128 columns</p>\n",
              "</div>"
            ],
            "text/plain": [
              "   banana_1  banana_2  banana_3  ...  plane_14  plane_15  plane_16\n",
              "0         7         5         6  ...         4         4         7\n",
              "1         7         6         7  ...         5         3         7\n",
              "2         7         7         7  ...         5         5         7\n",
              "3         7         7         7  ...         1         2         7\n",
              "4         7         6         7  ...         3         4         7\n",
              "\n",
              "[5 rows x 128 columns]"
            ]
          },
          "metadata": {
            "tags": []
          },
          "execution_count": 6
        }
      ]
    },
    {
      "cell_type": "markdown",
      "metadata": {
        "id": "opCAkrpIxrb-"
      },
      "source": [
        "(Test) Use quantiles to remove outliers "
      ]
    },
    {
      "cell_type": "code",
      "metadata": {
        "id": "30TTweYFxrcA"
      },
      "source": [
        "quantile_low = df.quantile(0.1)\n",
        "quantile_high = df.quantile(0.9)\n",
        "iqr = quantile_high - quantile_low"
      ],
      "execution_count": 7,
      "outputs": []
    },
    {
      "cell_type": "code",
      "metadata": {
        "id": "lkSE0eBdxrcB"
      },
      "source": [
        "outliers = (df < quantile_low) | (df > quantile_high)\n",
        "df_new = df[outliers.sum(axis=1) <= 12]"
      ],
      "execution_count": 8,
      "outputs": []
    },
    {
      "cell_type": "markdown",
      "metadata": {
        "id": "2d3yVk9fxrcC"
      },
      "source": [
        "Compute 7 scorse and sort images by order in survey"
      ]
    },
    {
      "cell_type": "code",
      "metadata": {
        "id": "t91poez-yu8J"
      },
      "source": [
        "# header_list = [\"type\", \"dir\", \"id_labels\", \"readable_labels\", \"id_label\", \"prob\", \"readable_label\"]\n",
        "# overfeat_df=pd.read_csv('./Overfeat/overfeat_scores_final.csv',index_col=0,header=0,names=header_list)"
      ],
      "execution_count": 9,
      "outputs": []
    },
    {
      "cell_type": "code",
      "metadata": {
        "id": "Wqbzp01gxrcE"
      },
      "source": [
        "header_list = [\"type\", \"dir\", \"id_labels\", \"readable_labels\", \"id_label\", \"prob\", \"readable_label\"]\n",
        "overfeat_df=pd.read_csv('./Overfeat/overfeat_scores_final.csv',index_col=0,header=0,names=header_list)\n",
        "overfeat_df['typicality_score'] = np.round(overfeat_df['prob'] * 100,2)\n",
        "overfeat_df['7_score']= np.round(overfeat_df['typicality_score']*7/100,2)\n",
        "overfeat_df['type'] = overfeat_df['type'].apply(lambda x: x.lower())"
      ],
      "execution_count": 10,
      "outputs": []
    },
    {
      "cell_type": "code",
      "metadata": {
        "id": "ZN0EoRHcxrcG"
      },
      "source": [
        "overfeat_df['number'] = overfeat_df['dir'].astype('int')\n",
        "overfeat_df = overfeat_df.sort_values(['type','number']).reset_index(drop=True)"
      ],
      "execution_count": 11,
      "outputs": []
    },
    {
      "cell_type": "code",
      "metadata": {
        "colab": {
          "base_uri": "https://localhost:8080/",
          "height": 195
        },
        "id": "2K1_y4jaxrcH",
        "outputId": "5f3c9253-295b-49b7-8f27-71e3aa9d75f1"
      },
      "source": [
        "overfeat_df.head()"
      ],
      "execution_count": 12,
      "outputs": [
        {
          "output_type": "execute_result",
          "data": {
            "text/html": [
              "<div>\n",
              "<style scoped>\n",
              "    .dataframe tbody tr th:only-of-type {\n",
              "        vertical-align: middle;\n",
              "    }\n",
              "\n",
              "    .dataframe tbody tr th {\n",
              "        vertical-align: top;\n",
              "    }\n",
              "\n",
              "    .dataframe thead th {\n",
              "        text-align: right;\n",
              "    }\n",
              "</style>\n",
              "<table border=\"1\" class=\"dataframe\">\n",
              "  <thead>\n",
              "    <tr style=\"text-align: right;\">\n",
              "      <th></th>\n",
              "      <th>type</th>\n",
              "      <th>dir</th>\n",
              "      <th>id_labels</th>\n",
              "      <th>readable_labels</th>\n",
              "      <th>id_label</th>\n",
              "      <th>prob</th>\n",
              "      <th>readable_label</th>\n",
              "      <th>typicality_score</th>\n",
              "      <th>7_score</th>\n",
              "      <th>number</th>\n",
              "    </tr>\n",
              "  </thead>\n",
              "  <tbody>\n",
              "    <tr>\n",
              "      <th>0</th>\n",
              "      <td>banana</td>\n",
              "      <td>1</td>\n",
              "      <td>{'07753592-n': 0.980348, '07717410-n': 0.00572...</td>\n",
              "      <td>{'banana': 0.980348, 'acorn squash': 0.0057260...</td>\n",
              "      <td>07753592-n</td>\n",
              "      <td>0.980348</td>\n",
              "      <td>banana</td>\n",
              "      <td>98.03</td>\n",
              "      <td>6.86</td>\n",
              "      <td>1</td>\n",
              "    </tr>\n",
              "    <tr>\n",
              "      <th>1</th>\n",
              "      <td>banana</td>\n",
              "      <td>2</td>\n",
              "      <td>{'02606052-n': 0.41746099999999997, '07753592-...</td>\n",
              "      <td>{'rock beauty, Holocanthus tricolor': 0.417460...</td>\n",
              "      <td>07753592-n</td>\n",
              "      <td>0.123135</td>\n",
              "      <td>banana</td>\n",
              "      <td>12.31</td>\n",
              "      <td>0.86</td>\n",
              "      <td>2</td>\n",
              "    </tr>\n",
              "    <tr>\n",
              "      <th>2</th>\n",
              "      <td>banana</td>\n",
              "      <td>3</td>\n",
              "      <td>{'07753592-n': 0.41874700000000004, '03065424-...</td>\n",
              "      <td>{'banana': 0.41874700000000004, 'coil, spiral,...</td>\n",
              "      <td>07753592-n</td>\n",
              "      <td>0.418747</td>\n",
              "      <td>banana</td>\n",
              "      <td>41.87</td>\n",
              "      <td>2.93</td>\n",
              "      <td>3</td>\n",
              "    </tr>\n",
              "    <tr>\n",
              "      <th>3</th>\n",
              "      <td>banana</td>\n",
              "      <td>4</td>\n",
              "      <td>{'07753592-n': 0.618004, '07720875-n': 0.14292...</td>\n",
              "      <td>{'banana': 0.618004, 'bell pepper': 0.142925, ...</td>\n",
              "      <td>07753592-n</td>\n",
              "      <td>0.618004</td>\n",
              "      <td>banana</td>\n",
              "      <td>61.80</td>\n",
              "      <td>4.33</td>\n",
              "      <td>4</td>\n",
              "    </tr>\n",
              "    <tr>\n",
              "      <th>4</th>\n",
              "      <td>banana</td>\n",
              "      <td>5</td>\n",
              "      <td>{'07753592-n': 0.364579, '07930864-n': 0.12127...</td>\n",
              "      <td>{'banana': 0.364579, 'cup': 0.121272, 'coil, s...</td>\n",
              "      <td>07753592-n</td>\n",
              "      <td>0.364579</td>\n",
              "      <td>banana</td>\n",
              "      <td>36.46</td>\n",
              "      <td>2.55</td>\n",
              "      <td>5</td>\n",
              "    </tr>\n",
              "  </tbody>\n",
              "</table>\n",
              "</div>"
            ],
            "text/plain": [
              "     type  dir  ... 7_score number\n",
              "0  banana    1  ...    6.86      1\n",
              "1  banana    2  ...    0.86      2\n",
              "2  banana    3  ...    2.93      3\n",
              "3  banana    4  ...    4.33      4\n",
              "4  banana    5  ...    2.55      5\n",
              "\n",
              "[5 rows x 10 columns]"
            ]
          },
          "metadata": {
            "tags": []
          },
          "execution_count": 12
        }
      ]
    },
    {
      "cell_type": "markdown",
      "metadata": {
        "id": "dBFSOaksxrcI"
      },
      "source": [
        "# Correlation with human ratings"
      ]
    },
    {
      "cell_type": "markdown",
      "metadata": {
        "id": "aMLmHzO9xrcX"
      },
      "source": [
        "Changes from original script: \n",
        "1. Use spearman rank correlation instead of pearson\n",
        "2. Compute average human ratings first, and then compute correlation with neural net typicality scores"
      ]
    },
    {
      "cell_type": "markdown",
      "metadata": {
        "id": "9JPwfao_xrcZ"
      },
      "source": [
        "without dropping outliers"
      ]
    },
    {
      "cell_type": "code",
      "metadata": {
        "colab": {
          "base_uri": "https://localhost:8080/"
        },
        "id": "D_TQHkwmxrcb",
        "outputId": "40aa375d-690d-4ccc-dc7d-eb9693893716"
      },
      "source": [
        "final_corr = dict()\n",
        "for t in np.unique(overfeat_df['type']):\n",
        "    col_names = [t + '_' + str(i+1) for i in range(16)]\n",
        "    human_ratings = df[col_names] \n",
        "    net_ratings = overfeat_df[overfeat_df['type'] == t] \n",
        "    \n",
        "    human_scores = human_ratings.mean().values\n",
        "#     net_scores = net_ratings['readable_labels'].apply(lambda x: ast.literal_eval(x)[list(ast.literal_eval(x).keys())[0]]).values\n",
        "#     net_scores = net_ratings['7_score'].values # both get worse scores\n",
        "\n",
        "    net_scores = net_ratings['typicality_score'].values\n",
        "    \n",
        "    coef, p=stats.spearmanr(human_scores, net_scores)\n",
        "#     coef, p=stats.pearsonr(human_scores, net_scores)\n",
        "    final_corr[t]=coef\n",
        "    print(f'{t}: ', final_corr[t])"
      ],
      "execution_count": 13,
      "outputs": [
        {
          "output_type": "stream",
          "text": [
            "banana:  0.7099648397193359\n",
            "beach:  0.40470945467236635\n",
            "car:  0.44542966659981903\n",
            "church:  0.38410606425268223\n",
            "lighthouse:  0.6147058823529412\n",
            "mountain:  0.4930096993281554\n",
            "mug:  0.3006633093458874\n",
            "plane:  0.5682670754510278\n"
          ],
          "name": "stdout"
        }
      ]
    },
    {
      "cell_type": "code",
      "metadata": {
        "colab": {
          "base_uri": "https://localhost:8080/"
        },
        "id": "iUvPRttpxrce",
        "outputId": "b3901e86-b6f9-44a8-bb67-e9941872c699"
      },
      "source": [
        "print(np.mean(list(final_corr.values())))"
      ],
      "execution_count": 14,
      "outputs": [
        {
          "output_type": "stream",
          "text": [
            "0.49010699896527693\n"
          ],
          "name": "stdout"
        }
      ]
    },
    {
      "cell_type": "markdown",
      "metadata": {
        "id": "RuthsNCyxrcg"
      },
      "source": [
        "after dropping outliers"
      ]
    },
    {
      "cell_type": "code",
      "metadata": {
        "colab": {
          "base_uri": "https://localhost:8080/"
        },
        "id": "fAiN3Sagxrch",
        "outputId": "8fa6759d-4c4f-4368-e73f-99f55109cec6"
      },
      "source": [
        "final_corr = dict()\n",
        "for t in np.unique(overfeat_df['type']):\n",
        "    col_names = [t + '_' + str(i+1) for i in range(16)]\n",
        "    \n",
        "    human_ratings = df_new[col_names] \n",
        "    net_ratings = overfeat_df[overfeat_df['type'] == t] \n",
        "    \n",
        "    human_scores = human_ratings.mean().values\n",
        "    net_scores = net_ratings['7_score'].values\n",
        "    coef, p=stats.spearmanr(human_scores, net_scores)\n",
        "    final_corr[t]=coef\n",
        "    print(f'{t}: ', final_corr[t])"
      ],
      "execution_count": 15,
      "outputs": [
        {
          "output_type": "stream",
          "text": [
            "banana:  0.6804444721634385\n",
            "beach:  0.39572597333024884\n",
            "car:  0.5037180695877399\n",
            "church:  0.32818257597068257\n",
            "lighthouse:  0.5949932815016497\n",
            "mountain:  0.4892675634202017\n",
            "mug:  0.3165680473372781\n",
            "plane:  0.544378698224852\n"
          ],
          "name": "stdout"
        }
      ]
    },
    {
      "cell_type": "code",
      "metadata": {
        "colab": {
          "base_uri": "https://localhost:8080/"
        },
        "id": "DuoTr0JRxrcl",
        "outputId": "45dc04e8-1e11-4a06-e0cd-2da4d6f3b0d8"
      },
      "source": [
        "print(np.mean(list(final_corr.values())))"
      ],
      "execution_count": 16,
      "outputs": [
        {
          "output_type": "stream",
          "text": [
            "0.4816598351920114\n"
          ],
          "name": "stdout"
        }
      ]
    },
    {
      "cell_type": "code",
      "metadata": {
        "id": "Zx5n9o54xrco"
      },
      "source": [
        "overfeat_df['human_score'] = np.array(df.apply(np.mean,axis=0))"
      ],
      "execution_count": 17,
      "outputs": []
    },
    {
      "cell_type": "code",
      "metadata": {
        "id": "r_SwNIEzxrcq"
      },
      "source": [
        "overfeat_df.to_csv('overfeat_result.csv')"
      ],
      "execution_count": 18,
      "outputs": []
    }
  ]
}