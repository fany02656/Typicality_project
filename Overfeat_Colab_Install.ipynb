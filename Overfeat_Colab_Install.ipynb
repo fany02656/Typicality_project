{
  "nbformat": 4,
  "nbformat_minor": 0,
  "metadata": {
    "colab": {
      "name": "Untitled0.ipynb",
      "provenance": [],
      "collapsed_sections": []
    },
    "kernelspec": {
      "name": "python3",
      "display_name": "Python 3"
    },
    "language_info": {
      "name": "python"
    }
  },
  "cells": [
    {
      "cell_type": "markdown",
      "metadata": {
        "id": "J1IIhMyrJGkg"
      },
      "source": [
        "Load Google Drive to Colab"
      ]
    },
    {
      "cell_type": "code",
      "metadata": {
        "colab": {
          "base_uri": "https://localhost:8080/"
        },
        "id": "V4He5u6O11wP",
        "outputId": "ad796833-4a81-4546-ed1b-a3126e6f94bc"
      },
      "source": [
        "from google.colab import drive\n",
        "drive.mount('/content/drive')"
      ],
      "execution_count": 2,
      "outputs": [
        {
          "output_type": "stream",
          "text": [
            "Mounted at /content/drive\n"
          ],
          "name": "stdout"
        }
      ]
    },
    {
      "cell_type": "code",
      "metadata": {
        "id": "bUTakb_B2b8X",
        "colab": {
          "base_uri": "https://localhost:8080/"
        },
        "outputId": "4be99356-27e6-4c0d-975b-4aa2be8fb82c"
      },
      "source": [
        "%cd drive/MyDrive/1016/Project/"
      ],
      "execution_count": 3,
      "outputs": [
        {
          "output_type": "stream",
          "text": [
            "/content/drive/MyDrive/1016/Project\n"
          ],
          "name": "stdout"
        }
      ]
    },
    {
      "cell_type": "markdown",
      "metadata": {
        "id": "sj1JA-YkpJNk"
      },
      "source": [
        "Prerequisite package imagemagick"
      ]
    },
    {
      "cell_type": "code",
      "metadata": {
        "id": "209qQPKDotXR"
      },
      "source": [
        "!sudo apt-get install imagemagick"
      ],
      "execution_count": null,
      "outputs": []
    },
    {
      "cell_type": "markdown",
      "metadata": {
        "id": "2WeLzBBqJRz1"
      },
      "source": [
        "Clone the Overfeat Repo to Google Drive"
      ]
    },
    {
      "cell_type": "code",
      "metadata": {
        "colab": {
          "base_uri": "https://localhost:8080/"
        },
        "id": "XhCJaijI3Qif",
        "outputId": "789042aa-32c1-4cad-d22c-11326134d352"
      },
      "source": [
        "!git clone https://github.com/sermanet/OverFeat.git"
      ],
      "execution_count": 4,
      "outputs": [
        {
          "output_type": "stream",
          "text": [
            "Cloning into 'OverFeat'...\n",
            "remote: Enumerating objects: 278, done.\u001b[K\n",
            "remote: Total 278 (delta 0), reused 0 (delta 0), pack-reused 278\u001b[K\n",
            "Receiving objects: 100% (278/278), 23.76 MiB | 10.62 MiB/s, done.\n",
            "Resolving deltas: 100% (80/80), done.\n",
            "Checking out files: 100% (119/119), done.\n"
          ],
          "name": "stdout"
        }
      ]
    },
    {
      "cell_type": "code",
      "metadata": {
        "colab": {
          "base_uri": "https://localhost:8080/"
        },
        "id": "KWDemSTt3iiY",
        "outputId": "3cb25aa9-13e9-4310-8dfb-11eb340d43c4"
      },
      "source": [
        "%cd OverFeat/"
      ],
      "execution_count": 5,
      "outputs": [
        {
          "output_type": "stream",
          "text": [
            "/content/drive/My Drive/1016/Project/OverFeat\n"
          ],
          "name": "stdout"
        }
      ]
    },
    {
      "cell_type": "markdown",
      "metadata": {
        "id": "QIik2bK0JZ3H"
      },
      "source": [
        "Download the weight. This might have problem that Colab reads location 'My Drive' instead of 'MyDrive'. It appears random, sometimes it would read 'MyDrive', sometime with space. Add a replace(' ','') to file path."
      ]
    },
    {
      "cell_type": "code",
      "metadata": {
        "id": "mBWJNHk-m9eG"
      },
      "source": [
        "!chmod 755 -R /content/drive/MyDrive/1016/Project/OverFeat"
      ],
      "execution_count": 7,
      "outputs": []
    },
    {
      "cell_type": "code",
      "metadata": {
        "id": "EJfsimgE3nGF"
      },
      "source": [
        "!python download_weights.py"
      ],
      "execution_count": null,
      "outputs": []
    },
    {
      "cell_type": "markdown",
      "metadata": {
        "id": "B2zS5a6MJ-ls"
      },
      "source": [
        "The instruction said run recompile if OpenBLAS not installed. I did recompile while debugging the directory path problem, might not be necessary."
      ]
    },
    {
      "cell_type": "code",
      "metadata": {
        "colab": {
          "base_uri": "https://localhost:8080/"
        },
        "id": "FOWKQ6Cl7Pda",
        "outputId": "c032d507-7afc-47ff-b16b-eb69e22b6cad"
      },
      "source": [
        "%cd src"
      ],
      "execution_count": 11,
      "outputs": [
        {
          "output_type": "stream",
          "text": [
            "/content/drive/My Drive/1016/Project/OverFeat/src\n"
          ],
          "name": "stdout"
        }
      ]
    },
    {
      "cell_type": "code",
      "metadata": {
        "id": "BlFqxVlN_fHh"
      },
      "source": [
        "!make all"
      ],
      "execution_count": null,
      "outputs": []
    },
    {
      "cell_type": "code",
      "metadata": {
        "id": "YDLCXJTK_r5d"
      },
      "source": [
        "!make cam"
      ],
      "execution_count": null,
      "outputs": []
    },
    {
      "cell_type": "markdown",
      "metadata": {
        "id": "6DNelHQNKQgw"
      },
      "source": [
        "Set working location to OverFeat folder again"
      ]
    },
    {
      "cell_type": "code",
      "metadata": {
        "colab": {
          "base_uri": "https://localhost:8080/"
        },
        "id": "FD7J748x_3Li",
        "outputId": "3c116624-bb68-4df4-f9f6-ad84502340b7"
      },
      "source": [
        "%cd .."
      ],
      "execution_count": 14,
      "outputs": [
        {
          "output_type": "stream",
          "text": [
            "/content/drive/My Drive/1016/Project/OverFeat\n"
          ],
          "name": "stdout"
        }
      ]
    },
    {
      "cell_type": "code",
      "metadata": {
        "colab": {
          "base_uri": "https://localhost:8080/"
        },
        "id": "QMIXWSrb4TiN",
        "outputId": "8065851a-78fe-44cd-dca2-2670e7f33747"
      },
      "source": [
        "!pwd"
      ],
      "execution_count": 15,
      "outputs": [
        {
          "output_type": "stream",
          "text": [
            "/content/drive/My Drive/1016/Project/OverFeat\n"
          ],
          "name": "stdout"
        }
      ]
    },
    {
      "cell_type": "markdown",
      "metadata": {
        "id": "iYv0pqGsKXwM"
      },
      "source": [
        "Set permission to the OverFeat folder. This was another problem I encountered when trying to run the sample picture."
      ]
    },
    {
      "cell_type": "code",
      "metadata": {
        "id": "1mj1D8o9ATwQ"
      },
      "source": [
        "!chmod 755 -R /content/drive/MyDrive/1016/Project/OverFeat"
      ],
      "execution_count": 28,
      "outputs": []
    },
    {
      "cell_type": "markdown",
      "metadata": {
        "id": "jfWKgJlAKimf"
      },
      "source": [
        "Now the Overfeat default example should work"
      ]
    },
    {
      "cell_type": "code",
      "metadata": {
        "colab": {
          "base_uri": "https://localhost:8080/"
        },
        "id": "mWAmiH1i_xpl",
        "outputId": "e92d41bc-a57e-4c32-83e3-4b2f28cec8db"
      },
      "source": [
        "!bin/linux_64/overfeat -n 6 samples/car1.jpg"
      ],
      "execution_count": 36,
      "outputs": [
        {
          "output_type": "stream",
          "text": [
            "/content/drive/MyDrive/1016/Project/OverFeat/bin/linux_64\n",
            "beach wagon, station wagon, wagon, estate car, beach waggon, station waggon, waggon 0.312566\n",
            "tow truck, tow car, wrecker 0.143237\n",
            "limousine, limo 0.0974719\n",
            "police van, police wagon, paddy wagon, patrol wagon, wagon, black Maria 0.0869667\n",
            "car wheel 0.0566886\n",
            "ambulance 0.0432228\n"
          ],
          "name": "stdout"
        }
      ]
    },
    {
      "cell_type": "code",
      "metadata": {
        "id": "6QNpa7aJKxRA"
      },
      "source": [
        ""
      ],
      "execution_count": null,
      "outputs": []
    }
  ]
}