{
  "nbformat": 4,
  "nbformat_minor": 0,
  "metadata": {
    "colab": {
      "name": "Untitled0.ipynb",
      "provenance": [],
      "collapsed_sections": []
    },
    "kernelspec": {
      "name": "python3",
      "display_name": "Python 3"
    },
    "language_info": {
      "name": "python"
    }
  },
  "cells": [
    {
      "cell_type": "markdown",
      "metadata": {
        "id": "J1IIhMyrJGkg"
      },
      "source": [
        "Load Google Drive to Colab"
      ]
    },
    {
      "cell_type": "code",
      "metadata": {
        "colab": {
          "base_uri": "https://localhost:8080/"
        },
        "id": "V4He5u6O11wP",
        "outputId": "5ff7154e-57d5-4f5b-8cbb-30dec464337c"
      },
      "source": [
        "from google.colab import drive\n",
        "drive.mount('/content/drive')"
      ],
      "execution_count": 60,
      "outputs": [
        {
          "output_type": "stream",
          "text": [
            "Drive already mounted at /content/drive; to attempt to forcibly remount, call drive.mount(\"/content/drive\", force_remount=True).\n"
          ],
          "name": "stdout"
        }
      ]
    },
    {
      "cell_type": "code",
      "metadata": {
        "id": "bUTakb_B2b8X",
        "colab": {
          "base_uri": "https://localhost:8080/"
        },
        "outputId": "2bc2fbef-c867-438f-a812-6b0e3a9df04a"
      },
      "source": [
        "%cd drive/MyDrive/1016/Project/"
      ],
      "execution_count": null,
      "outputs": [
        {
          "output_type": "stream",
          "text": [
            "[Errno 2] No such file or directory: 'drive/MyDrive/1016/Project/'\n",
            "/content/drive/My Drive/1016/Project/OverFeat\n"
          ],
          "name": "stdout"
        }
      ]
    },
    {
      "cell_type": "markdown",
      "metadata": {
        "id": "sj1JA-YkpJNk"
      },
      "source": [
        "Prerequisite package imagemagick"
      ]
    },
    {
      "cell_type": "code",
      "metadata": {
        "id": "209qQPKDotXR"
      },
      "source": [
        "!sudo apt-get install imagemagick"
      ],
      "execution_count": null,
      "outputs": []
    },
    {
      "cell_type": "markdown",
      "metadata": {
        "id": "2WeLzBBqJRz1"
      },
      "source": [
        "Clone the Overfeat Repo to Google Drive"
      ]
    },
    {
      "cell_type": "code",
      "metadata": {
        "colab": {
          "base_uri": "https://localhost:8080/"
        },
        "id": "XhCJaijI3Qif",
        "outputId": "789042aa-32c1-4cad-d22c-11326134d352"
      },
      "source": [
        "!git clone https://github.com/sermanet/OverFeat.git"
      ],
      "execution_count": null,
      "outputs": [
        {
          "output_type": "stream",
          "text": [
            "Cloning into 'OverFeat'...\n",
            "remote: Enumerating objects: 278, done.\u001b[K\n",
            "remote: Total 278 (delta 0), reused 0 (delta 0), pack-reused 278\u001b[K\n",
            "Receiving objects: 100% (278/278), 23.76 MiB | 10.62 MiB/s, done.\n",
            "Resolving deltas: 100% (80/80), done.\n",
            "Checking out files: 100% (119/119), done.\n"
          ],
          "name": "stdout"
        }
      ]
    },
    {
      "cell_type": "code",
      "metadata": {
        "colab": {
          "base_uri": "https://localhost:8080/"
        },
        "id": "KWDemSTt3iiY",
        "outputId": "b4f25406-9844-4c07-814e-72a82a55434a"
      },
      "source": [
        "%cd OverFeat/"
      ],
      "execution_count": null,
      "outputs": [
        {
          "output_type": "stream",
          "text": [
            "/content/drive/My Drive/1016/Project/OverFeat\n"
          ],
          "name": "stdout"
        }
      ]
    },
    {
      "cell_type": "markdown",
      "metadata": {
        "id": "QIik2bK0JZ3H"
      },
      "source": [
        "Download the weight. This might have problem that Colab reads location 'My Drive' instead of 'MyDrive'. It appears random, sometimes it would read 'MyDrive', sometime with space. Add a replace(' ','') to file path."
      ]
    },
    {
      "cell_type": "code",
      "metadata": {
        "id": "mBWJNHk-m9eG"
      },
      "source": [
        "!chmod 755 -R /content/drive/MyDrive/1016/Project/OverFeat"
      ],
      "execution_count": null,
      "outputs": []
    },
    {
      "cell_type": "code",
      "metadata": {
        "id": "EJfsimgE3nGF"
      },
      "source": [
        "!python download_weights.py"
      ],
      "execution_count": null,
      "outputs": []
    },
    {
      "cell_type": "markdown",
      "metadata": {
        "id": "B2zS5a6MJ-ls"
      },
      "source": [
        "The instruction said run recompile if OpenBLAS not installed. I did recompile while debugging the directory path problem, might not be necessary."
      ]
    },
    {
      "cell_type": "code",
      "metadata": {
        "colab": {
          "base_uri": "https://localhost:8080/"
        },
        "id": "FOWKQ6Cl7Pda",
        "outputId": "c032d507-7afc-47ff-b16b-eb69e22b6cad"
      },
      "source": [
        "%cd src"
      ],
      "execution_count": null,
      "outputs": [
        {
          "output_type": "stream",
          "text": [
            "/content/drive/My Drive/1016/Project/OverFeat/src\n"
          ],
          "name": "stdout"
        }
      ]
    },
    {
      "cell_type": "code",
      "metadata": {
        "id": "BlFqxVlN_fHh"
      },
      "source": [
        "!make all"
      ],
      "execution_count": null,
      "outputs": []
    },
    {
      "cell_type": "code",
      "metadata": {
        "id": "YDLCXJTK_r5d"
      },
      "source": [
        "!make cam"
      ],
      "execution_count": null,
      "outputs": []
    },
    {
      "cell_type": "markdown",
      "metadata": {
        "id": "6DNelHQNKQgw"
      },
      "source": [
        "Set working location to OverFeat folder again"
      ]
    },
    {
      "cell_type": "code",
      "metadata": {
        "colab": {
          "base_uri": "https://localhost:8080/"
        },
        "id": "FD7J748x_3Li",
        "outputId": "3c116624-bb68-4df4-f9f6-ad84502340b7"
      },
      "source": [
        "%cd .."
      ],
      "execution_count": null,
      "outputs": [
        {
          "output_type": "stream",
          "text": [
            "/content/drive/My Drive/1016/Project/OverFeat\n"
          ],
          "name": "stdout"
        }
      ]
    },
    {
      "cell_type": "code",
      "metadata": {
        "colab": {
          "base_uri": "https://localhost:8080/"
        },
        "id": "QMIXWSrb4TiN",
        "outputId": "ac0f47b1-c083-400a-f1ee-34979e0ebc4d"
      },
      "source": [
        "!pwd"
      ],
      "execution_count": null,
      "outputs": [
        {
          "output_type": "stream",
          "text": [
            "/content/drive/My Drive/1016/Project/OverFeat\n"
          ],
          "name": "stdout"
        }
      ]
    },
    {
      "cell_type": "markdown",
      "metadata": {
        "id": "iYv0pqGsKXwM"
      },
      "source": [
        "Set permission to the OverFeat folder. This was another problem I encountered when trying to run the sample picture."
      ]
    },
    {
      "cell_type": "code",
      "metadata": {
        "id": "1mj1D8o9ATwQ"
      },
      "source": [
        "!chmod 755 -R /content/drive/MyDrive/1016/Project/OverFeat"
      ],
      "execution_count": null,
      "outputs": []
    },
    {
      "cell_type": "markdown",
      "metadata": {
        "id": "jfWKgJlAKimf"
      },
      "source": [
        "Now the Overfeat default example should work"
      ]
    },
    {
      "cell_type": "code",
      "metadata": {
        "colab": {
          "base_uri": "https://localhost:8080/"
        },
        "id": "mWAmiH1i_xpl",
        "outputId": "935421fb-62d7-4718-9e02-a860e0c506b7"
      },
      "source": [
        "!bin/linux_64/overfeat -n 6 samples/bee.jpg"
      ],
      "execution_count": null,
      "outputs": [
        {
          "output_type": "stream",
          "text": [
            "bee 0.862415\n",
            "leaf beetle, chrysomelid 0.0539294\n",
            "fly 0.0305984\n",
            "long-horned beetle, longicorn, longicorn beetle 0.0205278\n",
            "ladybug, ladybeetle, lady beetle, ladybird, ladybird beetle 0.018931\n",
            "ant, emmet, pismire 0.00558904\n"
          ],
          "name": "stdout"
        }
      ]
    },
    {
      "cell_type": "code",
      "metadata": {
        "id": "fpbJ6t-7n0O0"
      },
      "source": [
        "import os\n",
        "import re"
      ],
      "execution_count": null,
      "outputs": []
    },
    {
      "cell_type": "code",
      "metadata": {
        "colab": {
          "base_uri": "https://localhost:8080/"
        },
        "id": "lxSWPyptn02z",
        "outputId": "f73fad4a-2f53-47ff-847a-7c49fb166b24"
      },
      "source": [
        "mypath = os.getcwd() + '/images'\n",
        "categories = [i for i in os.walk(mypath)][0][1]\n",
        "categories"
      ],
      "execution_count": null,
      "outputs": [
        {
          "output_type": "execute_result",
          "data": {
            "text/plain": [
              "['Plane', 'Mug', 'Mountain', 'Lighthouse', 'Church', 'Car', 'Beach', 'Banana']"
            ]
          },
          "metadata": {
            "tags": []
          },
          "execution_count": 11
        }
      ]
    },
    {
      "cell_type": "code",
      "metadata": {
        "id": "6QNpa7aJKxRA"
      },
      "source": [
        "for cat in categories:\n",
        "    dir_path = mypath + '/' + cat\n",
        "    d = 'images/' + cat\n",
        "    files = [i[2] for i in os.walk(dir_path)][0]\n",
        "    files.sort()\n",
        "\n",
        "    for f in files:\n",
        "        basename = re.findall(r'[0-9]+',os.path.basename(f))[0]\n",
        "        input_path = d+'/'+f\n",
        "        output_path = d.replace('images','output') + '/' + basename + '.txt'\n",
        "        print(input_path)\n",
        "        # print(output_path)\n",
        "\n",
        "        cmd = 'bin/linux_64/overfeat -n 6 {} > {}'.format(input_path,output_path)\n",
        "        os.system(cmd)"
      ],
      "execution_count": null,
      "outputs": []
    },
    {
      "cell_type": "code",
      "metadata": {
        "id": "uoil4gTnn4Zp"
      },
      "source": [
        "result_array = []\n",
        "for cat in categories:\n",
        "    dir_path = os.getcwd() + '/output/' + cat\n",
        "    files = [i[2] for i in os.walk(dir_path)][0]\n",
        "    files.sort()\n",
        "\n",
        "    for f in files:\n",
        "        basename = re.findall(r'[0-9]+',os.path.basename(f))[0]\n",
        "        f_path = dir_path + '/' + f\n",
        "\n",
        "        file = open(f_path,'r')\n",
        "        lines = file.readlines()\n",
        " \n",
        "        for line in lines:\n",
        "            name = re.findall(r'[^0-9]+',line)[0][:-1]\n",
        "            prob = float(line[len(name)+1:-1])\n",
        "            result_array.append([cat,basename,name,prob])"
      ],
      "execution_count": null,
      "outputs": []
    },
    {
      "cell_type": "code",
      "metadata": {
        "id": "GpcBNacg0G34"
      },
      "source": [
        "import pandas as pd"
      ],
      "execution_count": null,
      "outputs": []
    },
    {
      "cell_type": "code",
      "metadata": {
        "id": "OLK7X5iv0Ygi"
      },
      "source": [
        "result = pd.DataFrame(result_array)"
      ],
      "execution_count": null,
      "outputs": []
    },
    {
      "cell_type": "code",
      "metadata": {
        "id": "muDarORo0da8"
      },
      "source": [
        "result.to_csv('overfeat_results.txt',sep='\\t')"
      ],
      "execution_count": null,
      "outputs": []
    }
  ]
}