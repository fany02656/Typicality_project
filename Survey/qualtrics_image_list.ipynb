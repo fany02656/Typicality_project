{
 "cells": [
  {
   "cell_type": "markdown",
   "metadata": {},
   "source": [
    "This document print out the image urls as lists for 8 categories of images"
   ]
  },
  {
   "cell_type": "code",
   "execution_count": 38,
   "metadata": {},
   "outputs": [],
   "source": [
    "import pandas as pd"
   ]
  },
  {
   "cell_type": "code",
   "execution_count": 39,
   "metadata": {},
   "outputs": [],
   "source": [
    "def form_tuple(lst):\n",
    "    res = []\n",
    "    for i in range(len(lst)-1):\n",
    "        elem1, elem2 = lst[i], lst[i+1]\n",
    "        res.append((elem1, elem2))\n",
    "    return res\n",
    "\n",
    "def subsetting(lst, index):\n",
    "    return lst[index[0]:index[1]]"
   ]
  },
  {
   "cell_type": "code",
   "execution_count": 40,
   "metadata": {},
   "outputs": [],
   "source": [
    "# read urls\n",
    "df = pd.read_csv('image_url.csv', header = None)\n",
    "df = df.dropna()"
   ]
  },
  {
   "cell_type": "code",
   "execution_count": 41,
   "metadata": {},
   "outputs": [
    {
     "data": {
      "text/plain": [
       "[(0, 16),\n",
       " (16, 32),\n",
       " (32, 48),\n",
       " (48, 64),\n",
       " (64, 80),\n",
       " (80, 96),\n",
       " (96, 112),\n",
       " (112, 128)]"
      ]
     },
     "execution_count": 41,
     "metadata": {},
     "output_type": "execute_result"
    }
   ],
   "source": [
    "# subsetting url list to obtain 8 lists of urls\n",
    "src = \"https://cmu.ca1.qualtrics.com/ControlPanel/Graphic.php?IM=\"\n",
    "url = list(src + df[1])\n",
    "subset = [*range(0, len(url)+1, 16)]\n",
    "subset = form_tuple(subset)\n",
    "subset"
   ]
  },
  {
   "cell_type": "code",
   "execution_count": 44,
   "metadata": {},
   "outputs": [],
   "source": [
    "img_url = []\n",
    "for index in subset:\n",
    "    img_url.append(subsetting(url, index))"
   ]
  },
  {
   "cell_type": "code",
   "execution_count": 47,
   "metadata": {},
   "outputs": [
    {
     "data": {
      "text/plain": [
       "[['https://cmu.ca1.qualtrics.com/ControlPanel/Graphic.php?IM=IM_bBBbNwwLYOEKAK2',\n",
       "  'https://cmu.ca1.qualtrics.com/ControlPanel/Graphic.php?IM=IM_6rk5UtX1IPYCT1Y',\n",
       "  'https://cmu.ca1.qualtrics.com/ControlPanel/Graphic.php?IM=IM_38nIufPLS4jRrDw',\n",
       "  'https://cmu.ca1.qualtrics.com/ControlPanel/Graphic.php?IM=IM_ezI2h0NgF4dTzvw',\n",
       "  'https://cmu.ca1.qualtrics.com/ControlPanel/Graphic.php?IM=IM_bfpZzTUcixC2gcK',\n",
       "  'https://cmu.ca1.qualtrics.com/ControlPanel/Graphic.php?IM=IM_6g9FEiNxU84Wdsq',\n",
       "  'https://cmu.ca1.qualtrics.com/ControlPanel/Graphic.php?IM=IM_5gnorNXtOu2irnU',\n",
       "  'https://cmu.ca1.qualtrics.com/ControlPanel/Graphic.php?IM=IM_7OFcPUQrREFY7uS',\n",
       "  'https://cmu.ca1.qualtrics.com/ControlPanel/Graphic.php?IM=IM_79hLMhbQGX7CzJQ',\n",
       "  'https://cmu.ca1.qualtrics.com/ControlPanel/Graphic.php?IM=IM_6RJxMRNE76ermzI',\n",
       "  'https://cmu.ca1.qualtrics.com/ControlPanel/Graphic.php?IM=IM_3dZlk3SjjOWbcHA',\n",
       "  'https://cmu.ca1.qualtrics.com/ControlPanel/Graphic.php?IM=IM_a3ocxhjaTy0iO9w',\n",
       "  'https://cmu.ca1.qualtrics.com/ControlPanel/Graphic.php?IM=IM_dmWlmziUI4TxWC2',\n",
       "  'https://cmu.ca1.qualtrics.com/ControlPanel/Graphic.php?IM=IM_6FmsS88cCJWEQZM',\n",
       "  'https://cmu.ca1.qualtrics.com/ControlPanel/Graphic.php?IM=IM_e2nnqgOYDzB8rK6',\n",
       "  'https://cmu.ca1.qualtrics.com/ControlPanel/Graphic.php?IM=IM_dbg7VtuaAdH6d82'],\n",
       " ['https://cmu.ca1.qualtrics.com/ControlPanel/Graphic.php?IM=IM_2tsdDcUjMxYNNQi',\n",
       "  'https://cmu.ca1.qualtrics.com/ControlPanel/Graphic.php?IM=IM_0kOj6gfoIANk4NE',\n",
       "  'https://cmu.ca1.qualtrics.com/ControlPanel/Graphic.php?IM=IM_ekTiNocRYop7bcq',\n",
       "  'https://cmu.ca1.qualtrics.com/ControlPanel/Graphic.php?IM=IM_3m9ZeSYfyAbNqJg',\n",
       "  'https://cmu.ca1.qualtrics.com/ControlPanel/Graphic.php?IM=IM_e4gmkOl8Bhqjzym',\n",
       "  'https://cmu.ca1.qualtrics.com/ControlPanel/Graphic.php?IM=IM_0P0iMQ5iflc69ls',\n",
       "  'https://cmu.ca1.qualtrics.com/ControlPanel/Graphic.php?IM=IM_6hrOWynEcnyEOSG',\n",
       "  'https://cmu.ca1.qualtrics.com/ControlPanel/Graphic.php?IM=IM_0PyMS6W69igWYJ0',\n",
       "  'https://cmu.ca1.qualtrics.com/ControlPanel/Graphic.php?IM=IM_9KBiJdQ5Yjb5OU6',\n",
       "  'https://cmu.ca1.qualtrics.com/ControlPanel/Graphic.php?IM=IM_0TKaaYI2PnpPBHM',\n",
       "  'https://cmu.ca1.qualtrics.com/ControlPanel/Graphic.php?IM=IM_esK9hwdF8DL8wtM',\n",
       "  'https://cmu.ca1.qualtrics.com/ControlPanel/Graphic.php?IM=IM_6QCzRmle1ecf6Oa',\n",
       "  'https://cmu.ca1.qualtrics.com/ControlPanel/Graphic.php?IM=IM_4U8wXXRNI6unvM2',\n",
       "  'https://cmu.ca1.qualtrics.com/ControlPanel/Graphic.php?IM=IM_bmtJX1ibcz1aE2a',\n",
       "  'https://cmu.ca1.qualtrics.com/ControlPanel/Graphic.php?IM=IM_b1Vnl6ynk9GHJf8',\n",
       "  'https://cmu.ca1.qualtrics.com/ControlPanel/Graphic.php?IM=IM_39otDaWdVPYIXhY'],\n",
       " ['https://cmu.ca1.qualtrics.com/ControlPanel/Graphic.php?IM=IM_bwoNqkAyDD4tiv4',\n",
       "  'https://cmu.ca1.qualtrics.com/ControlPanel/Graphic.php?IM=IM_8xhDlmtyS5L1dFs',\n",
       "  'https://cmu.ca1.qualtrics.com/ControlPanel/Graphic.php?IM=IM_etDXdOzwffPyUpo',\n",
       "  'https://cmu.ca1.qualtrics.com/ControlPanel/Graphic.php?IM=IM_3rYwji49Osx1WeO',\n",
       "  'https://cmu.ca1.qualtrics.com/ControlPanel/Graphic.php?IM=IM_eh2YDDtBGFgEMUm',\n",
       "  'https://cmu.ca1.qualtrics.com/ControlPanel/Graphic.php?IM=IM_ePBBmpiFlYJik98',\n",
       "  'https://cmu.ca1.qualtrics.com/ControlPanel/Graphic.php?IM=IM_cTHdfUio39VLHUi',\n",
       "  'https://cmu.ca1.qualtrics.com/ControlPanel/Graphic.php?IM=IM_0dnVTyXJGDNt8zA',\n",
       "  'https://cmu.ca1.qualtrics.com/ControlPanel/Graphic.php?IM=IM_2i6c6NKo9M3Tuo6',\n",
       "  'https://cmu.ca1.qualtrics.com/ControlPanel/Graphic.php?IM=IM_dmoFPHzGr5zfWhE',\n",
       "  'https://cmu.ca1.qualtrics.com/ControlPanel/Graphic.php?IM=IM_0eUd83RtrkZbwX4',\n",
       "  'https://cmu.ca1.qualtrics.com/ControlPanel/Graphic.php?IM=IM_1M7y5NzyYEVMVxk',\n",
       "  'https://cmu.ca1.qualtrics.com/ControlPanel/Graphic.php?IM=IM_cNgIltaHEbm3eyG',\n",
       "  'https://cmu.ca1.qualtrics.com/ControlPanel/Graphic.php?IM=IM_e5wtQvi7LBshaFo',\n",
       "  'https://cmu.ca1.qualtrics.com/ControlPanel/Graphic.php?IM=IM_bHDBQE0YJ2Sc1kG',\n",
       "  'https://cmu.ca1.qualtrics.com/ControlPanel/Graphic.php?IM=IM_5vHkMS4o6dfZrjo'],\n",
       " ['https://cmu.ca1.qualtrics.com/ControlPanel/Graphic.php?IM=IM_6gruJ3PK40IRYx0',\n",
       "  'https://cmu.ca1.qualtrics.com/ControlPanel/Graphic.php?IM=IM_cITRuN8BkRgjmXs',\n",
       "  'https://cmu.ca1.qualtrics.com/ControlPanel/Graphic.php?IM=IM_6KXu5eqeWhmjyhU',\n",
       "  'https://cmu.ca1.qualtrics.com/ControlPanel/Graphic.php?IM=IM_73xqdRbs3p0oq7c',\n",
       "  'https://cmu.ca1.qualtrics.com/ControlPanel/Graphic.php?IM=IM_0Jvmi7x6WN3xE3A',\n",
       "  'https://cmu.ca1.qualtrics.com/ControlPanel/Graphic.php?IM=IM_bw4GrbXwQ0i8Uya',\n",
       "  'https://cmu.ca1.qualtrics.com/ControlPanel/Graphic.php?IM=IM_1ZIJZd6OYHbvBcO',\n",
       "  'https://cmu.ca1.qualtrics.com/ControlPanel/Graphic.php?IM=IM_2fcFV6FkMhwJu4u',\n",
       "  'https://cmu.ca1.qualtrics.com/ControlPanel/Graphic.php?IM=IM_0ImrdekSkFGswke',\n",
       "  'https://cmu.ca1.qualtrics.com/ControlPanel/Graphic.php?IM=IM_bklb5RRgLP7RYRo',\n",
       "  'https://cmu.ca1.qualtrics.com/ControlPanel/Graphic.php?IM=IM_eSgwsNWSs6sYcjs',\n",
       "  'https://cmu.ca1.qualtrics.com/ControlPanel/Graphic.php?IM=IM_6PannfZSjBQPRmm',\n",
       "  'https://cmu.ca1.qualtrics.com/ControlPanel/Graphic.php?IM=IM_3eXgvdJIcFhP9mS',\n",
       "  'https://cmu.ca1.qualtrics.com/ControlPanel/Graphic.php?IM=IM_3CtFP6IeAiuohg2',\n",
       "  'https://cmu.ca1.qualtrics.com/ControlPanel/Graphic.php?IM=IM_5oM0KwoDYd3GmJ8',\n",
       "  'https://cmu.ca1.qualtrics.com/ControlPanel/Graphic.php?IM=IM_cuwyBaTkPeDhD6e'],\n",
       " ['https://cmu.ca1.qualtrics.com/ControlPanel/Graphic.php?IM=IM_bPnZ7OdUjMEDcV0',\n",
       "  'https://cmu.ca1.qualtrics.com/ControlPanel/Graphic.php?IM=IM_eQDRWkNy08Bpsxg',\n",
       "  'https://cmu.ca1.qualtrics.com/ControlPanel/Graphic.php?IM=IM_8uDjBnaH2kUt33E',\n",
       "  'https://cmu.ca1.qualtrics.com/ControlPanel/Graphic.php?IM=IM_0qDteg44aaVO8jc',\n",
       "  'https://cmu.ca1.qualtrics.com/ControlPanel/Graphic.php?IM=IM_dcfi12jJoT98bJ4',\n",
       "  'https://cmu.ca1.qualtrics.com/ControlPanel/Graphic.php?IM=IM_00NOwQSwTmX2glg',\n",
       "  'https://cmu.ca1.qualtrics.com/ControlPanel/Graphic.php?IM=IM_0fGcv7iWqWxqH3w',\n",
       "  'https://cmu.ca1.qualtrics.com/ControlPanel/Graphic.php?IM=IM_0U1NSj3K1BfRrrE',\n",
       "  'https://cmu.ca1.qualtrics.com/ControlPanel/Graphic.php?IM=IM_55rhYx2hrkPzTue',\n",
       "  'https://cmu.ca1.qualtrics.com/ControlPanel/Graphic.php?IM=IM_080KEtA1ZhK9z9k',\n",
       "  'https://cmu.ca1.qualtrics.com/ControlPanel/Graphic.php?IM=IM_4HpwlDorv7L39DU',\n",
       "  'https://cmu.ca1.qualtrics.com/ControlPanel/Graphic.php?IM=IM_bCt4qSQvAQdq4ce',\n",
       "  'https://cmu.ca1.qualtrics.com/ControlPanel/Graphic.php?IM=IM_9tPBv8qPXuvMCTI',\n",
       "  'https://cmu.ca1.qualtrics.com/ControlPanel/Graphic.php?IM=IM_0NwhkxdNiic7wSG',\n",
       "  'https://cmu.ca1.qualtrics.com/ControlPanel/Graphic.php?IM=IM_0HhRE0gfc0Oa4vA',\n",
       "  'https://cmu.ca1.qualtrics.com/ControlPanel/Graphic.php?IM=IM_8okXG5iWrwxnNOe'],\n",
       " ['https://cmu.ca1.qualtrics.com/ControlPanel/Graphic.php?IM=IM_7O4rqF19P9YlT82',\n",
       "  'https://cmu.ca1.qualtrics.com/ControlPanel/Graphic.php?IM=IM_1TVzXJ5hcePlvSK',\n",
       "  'https://cmu.ca1.qualtrics.com/ControlPanel/Graphic.php?IM=IM_6MwDlEutcjAh1Oe',\n",
       "  'https://cmu.ca1.qualtrics.com/ControlPanel/Graphic.php?IM=IM_9srppaEOGRZl7oi',\n",
       "  'https://cmu.ca1.qualtrics.com/ControlPanel/Graphic.php?IM=IM_ac3ouutMixL2VEO',\n",
       "  'https://cmu.ca1.qualtrics.com/ControlPanel/Graphic.php?IM=IM_6QjFecDCv2Ji7d4',\n",
       "  'https://cmu.ca1.qualtrics.com/ControlPanel/Graphic.php?IM=IM_dhQZQ4CbvGFbkmG',\n",
       "  'https://cmu.ca1.qualtrics.com/ControlPanel/Graphic.php?IM=IM_a3PvYPUZ5ByRyVo',\n",
       "  'https://cmu.ca1.qualtrics.com/ControlPanel/Graphic.php?IM=IM_cCR9WmrX5UZ6NZs',\n",
       "  'https://cmu.ca1.qualtrics.com/ControlPanel/Graphic.php?IM=IM_7OIsSpeQdAxBKjc',\n",
       "  'https://cmu.ca1.qualtrics.com/ControlPanel/Graphic.php?IM=IM_37Q0qrGUWAwLqFE',\n",
       "  'https://cmu.ca1.qualtrics.com/ControlPanel/Graphic.php?IM=IM_0ktqyvmH3024dU2',\n",
       "  'https://cmu.ca1.qualtrics.com/ControlPanel/Graphic.php?IM=IM_72oagQS0teQDWYe',\n",
       "  'https://cmu.ca1.qualtrics.com/ControlPanel/Graphic.php?IM=IM_af98shGzmf8SPdA',\n",
       "  'https://cmu.ca1.qualtrics.com/ControlPanel/Graphic.php?IM=IM_1BWCIF2pMz71vgy',\n",
       "  'https://cmu.ca1.qualtrics.com/ControlPanel/Graphic.php?IM=IM_73TyRauxeiLZx78'],\n",
       " ['https://cmu.ca1.qualtrics.com/ControlPanel/Graphic.php?IM=IM_dlZNEfUNS8cLlH0',\n",
       "  'https://cmu.ca1.qualtrics.com/ControlPanel/Graphic.php?IM=IM_9Y6D8Z81Cpq75rw',\n",
       "  'https://cmu.ca1.qualtrics.com/ControlPanel/Graphic.php?IM=IM_9twmVo5UI5DUNOm',\n",
       "  'https://cmu.ca1.qualtrics.com/ControlPanel/Graphic.php?IM=IM_e5TSNhklNO01OQK',\n",
       "  'https://cmu.ca1.qualtrics.com/ControlPanel/Graphic.php?IM=IM_3z1NrkCuU1JSZgO',\n",
       "  'https://cmu.ca1.qualtrics.com/ControlPanel/Graphic.php?IM=IM_4JIFQlJpLWD1IJ8',\n",
       "  'https://cmu.ca1.qualtrics.com/ControlPanel/Graphic.php?IM=IM_24OzlxkxmSY1ojk',\n",
       "  'https://cmu.ca1.qualtrics.com/ControlPanel/Graphic.php?IM=IM_aVkyNUlL5B8APQy',\n",
       "  'https://cmu.ca1.qualtrics.com/ControlPanel/Graphic.php?IM=IM_3sW2N95lsXVNNcO',\n",
       "  'https://cmu.ca1.qualtrics.com/ControlPanel/Graphic.php?IM=IM_6hrIaOnkLuPB5c2',\n",
       "  'https://cmu.ca1.qualtrics.com/ControlPanel/Graphic.php?IM=IM_eeY46mkAKZkW1nw',\n",
       "  'https://cmu.ca1.qualtrics.com/ControlPanel/Graphic.php?IM=IM_2nufRExwyLu0QUC',\n",
       "  'https://cmu.ca1.qualtrics.com/ControlPanel/Graphic.php?IM=IM_8D4xvQNbbTei7C6',\n",
       "  'https://cmu.ca1.qualtrics.com/ControlPanel/Graphic.php?IM=IM_9npwr7Zga2po9bE',\n",
       "  'https://cmu.ca1.qualtrics.com/ControlPanel/Graphic.php?IM=IM_1Mou9E3TaTyWSMu',\n",
       "  'https://cmu.ca1.qualtrics.com/ControlPanel/Graphic.php?IM=IM_eRNHtbSatJVvTF4'],\n",
       " ['https://cmu.ca1.qualtrics.com/ControlPanel/Graphic.php?IM=IM_bgyTCblDtkKqW3k',\n",
       "  'https://cmu.ca1.qualtrics.com/ControlPanel/Graphic.php?IM=IM_enGa8DtYgk6kD0G',\n",
       "  'https://cmu.ca1.qualtrics.com/ControlPanel/Graphic.php?IM=IM_6DNRpMpxpZ1eBfg',\n",
       "  'https://cmu.ca1.qualtrics.com/ControlPanel/Graphic.php?IM=IM_8rgDsBqv84zu76S',\n",
       "  'https://cmu.ca1.qualtrics.com/ControlPanel/Graphic.php?IM=IM_25d4IFJR4bZ4oMS',\n",
       "  'https://cmu.ca1.qualtrics.com/ControlPanel/Graphic.php?IM=IM_b2Q0Xc1NLOLkUZg',\n",
       "  'https://cmu.ca1.qualtrics.com/ControlPanel/Graphic.php?IM=IM_8bQVz2lSZF29gjQ',\n",
       "  'https://cmu.ca1.qualtrics.com/ControlPanel/Graphic.php?IM=IM_b1MCBs7KRSDyz2u',\n",
       "  'https://cmu.ca1.qualtrics.com/ControlPanel/Graphic.php?IM=IM_29mNEDtSy0QcYvQ',\n",
       "  'https://cmu.ca1.qualtrics.com/ControlPanel/Graphic.php?IM=IM_9vrioFnC4w6QhZY',\n",
       "  'https://cmu.ca1.qualtrics.com/ControlPanel/Graphic.php?IM=IM_3qkVfFTDnY0WH9Y',\n",
       "  'https://cmu.ca1.qualtrics.com/ControlPanel/Graphic.php?IM=IM_8Im3kcJNkqoZCzs',\n",
       "  'https://cmu.ca1.qualtrics.com/ControlPanel/Graphic.php?IM=IM_diCsyBP6wsSS7A2',\n",
       "  'https://cmu.ca1.qualtrics.com/ControlPanel/Graphic.php?IM=IM_aWbP2P86oK1p5e6',\n",
       "  'https://cmu.ca1.qualtrics.com/ControlPanel/Graphic.php?IM=IM_8bQid040ZR2P8fs',\n",
       "  'https://cmu.ca1.qualtrics.com/ControlPanel/Graphic.php?IM=IM_3qi6hX652J0QcBw']]"
      ]
     },
     "execution_count": 47,
     "metadata": {},
     "output_type": "execute_result"
    }
   ],
   "source": [
    "img_url"
   ]
  }
 ],
 "metadata": {
  "kernelspec": {
   "display_name": "Python 3",
   "language": "python",
   "name": "python3"
  },
  "language_info": {
   "codemirror_mode": {
    "name": "ipython",
    "version": 3
   },
   "file_extension": ".py",
   "mimetype": "text/x-python",
   "name": "python",
   "nbconvert_exporter": "python",
   "pygments_lexer": "ipython3",
   "version": "3.8.3"
  }
 },
 "nbformat": 4,
 "nbformat_minor": 4
}
