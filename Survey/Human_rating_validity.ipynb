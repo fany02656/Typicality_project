{
 "cells": [
  {
   "cell_type": "code",
   "execution_count": 1,
   "metadata": {},
   "outputs": [],
   "source": [
    "import pandas as pd\n",
    "import numpy as np\n",
    "import sklearn.model_selection as model\n",
    "import scipy.stats as stat"
   ]
  },
  {
   "cell_type": "code",
   "execution_count": 2,
   "metadata": {},
   "outputs": [],
   "source": [
    "# read data\n",
    "# order: banana, mug, beach, mountain, car, plane, lighthouse, church\n",
    "df = pd.read_csv('Human_rating.csv')\n",
    "category = [\"banana\", \"mug\", \"beach\", \"mountain\", \"car\", \"plane\", \"lighthouse\", \"church\"]"
   ]
  },
  {
   "cell_type": "code",
   "execution_count": 36,
   "metadata": {},
   "outputs": [],
   "source": [
    "df_lst = []\n",
    "start = 0\n",
    "for i in range(16, df.shape[1] + 1, 16):\n",
    "    df_lst.append(df.iloc[:, start:i])\n",
    "    start = i"
   ]
  },
  {
   "cell_type": "code",
   "execution_count": 65,
   "metadata": {},
   "outputs": [],
   "source": [
    "def compute_reliability(df):\n",
    "    reliability = []\n",
    "    for i in range(36):\n",
    "        b1, b2 = model.train_test_split(df, test_size = 0.5)\n",
    "        b1, b2 = b1.mean(), b2.mean()\n",
    "        coef, p = stat.spearmanr(b1, b2)\n",
    "        reliability.append(coef)\n",
    "    return np.mean(reliability)"
   ]
  },
  {
   "cell_type": "code",
   "execution_count": 75,
   "metadata": {},
   "outputs": [],
   "source": [
    "res = {}\n",
    "for i, cat in enumerate(df_lst):\n",
    "    res[category[i]] = compute_reliability(cat)"
   ]
  },
  {
   "cell_type": "code",
   "execution_count": 76,
   "metadata": {},
   "outputs": [
    {
     "data": {
      "text/plain": [
       "{'banana': 0.8891861280326577,\n",
       " 'mug': 0.873923094817432,\n",
       " 'beach': 0.9582105118623253,\n",
       " 'mountain': 0.9058305715977636,\n",
       " 'car': 0.9373556791107668,\n",
       " 'plane': 0.9470325453895687,\n",
       " 'lighthouse': 0.8997571341173387,\n",
       " 'church': 0.9063910226102609}"
      ]
     },
     "execution_count": 76,
     "metadata": {},
     "output_type": "execute_result"
    }
   ],
   "source": [
    "res"
   ]
  },
  {
   "cell_type": "code",
   "execution_count": 70,
   "metadata": {},
   "outputs": [
    {
     "name": "stdout",
     "output_type": "stream",
     "text": [
      "min reliability:  0.8737419740553487\n",
      "max reliability:  0.9560057362983131\n",
      "mean reliability:  0.9136912418930322\n"
     ]
    }
   ],
   "source": [
    "print('min reliability: ', min(res.values()))\n",
    "print('max reliability: ', max(res.values()))\n",
    "print('mean reliability: ', sum(res.values())/8)"
   ]
  }
 ],
 "metadata": {
  "kernelspec": {
   "display_name": "Python 3",
   "language": "python",
   "name": "python3"
  },
  "language_info": {
   "codemirror_mode": {
    "name": "ipython",
    "version": 3
   },
   "file_extension": ".py",
   "mimetype": "text/x-python",
   "name": "python",
   "nbconvert_exporter": "python",
   "pygments_lexer": "ipython3",
   "version": "3.8.3"
  }
 },
 "nbformat": 4,
 "nbformat_minor": 4
}
