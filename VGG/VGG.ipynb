{
 "cells": [
  {
   "cell_type": "code",
   "execution_count": 1,
   "metadata": {},
   "outputs": [],
   "source": [
    "import numpy as np\n",
    "import pandas as pd\n",
    "import torch\n",
    "from PIL import Image\n",
    "from torchvision import transforms\n",
    "import os\n",
    "import matplotlib.pyplot as plt"
   ]
  },
  {
   "cell_type": "code",
   "execution_count": 2,
   "metadata": {},
   "outputs": [
    {
     "name": "stderr",
     "output_type": "stream",
     "text": [
      "Using cache found in C:\\Users\\Yi Wen/.cache\\torch\\hub\\pytorch_vision_v0.9.0\n"
     ]
    },
    {
     "data": {
      "text/plain": [
       "VGG(\n",
       "  (features): Sequential(\n",
       "    (0): Conv2d(3, 64, kernel_size=(3, 3), stride=(1, 1), padding=(1, 1))\n",
       "    (1): ReLU(inplace=True)\n",
       "    (2): MaxPool2d(kernel_size=2, stride=2, padding=0, dilation=1, ceil_mode=False)\n",
       "    (3): Conv2d(64, 128, kernel_size=(3, 3), stride=(1, 1), padding=(1, 1))\n",
       "    (4): ReLU(inplace=True)\n",
       "    (5): MaxPool2d(kernel_size=2, stride=2, padding=0, dilation=1, ceil_mode=False)\n",
       "    (6): Conv2d(128, 256, kernel_size=(3, 3), stride=(1, 1), padding=(1, 1))\n",
       "    (7): ReLU(inplace=True)\n",
       "    (8): Conv2d(256, 256, kernel_size=(3, 3), stride=(1, 1), padding=(1, 1))\n",
       "    (9): ReLU(inplace=True)\n",
       "    (10): MaxPool2d(kernel_size=2, stride=2, padding=0, dilation=1, ceil_mode=False)\n",
       "    (11): Conv2d(256, 512, kernel_size=(3, 3), stride=(1, 1), padding=(1, 1))\n",
       "    (12): ReLU(inplace=True)\n",
       "    (13): Conv2d(512, 512, kernel_size=(3, 3), stride=(1, 1), padding=(1, 1))\n",
       "    (14): ReLU(inplace=True)\n",
       "    (15): MaxPool2d(kernel_size=2, stride=2, padding=0, dilation=1, ceil_mode=False)\n",
       "    (16): Conv2d(512, 512, kernel_size=(3, 3), stride=(1, 1), padding=(1, 1))\n",
       "    (17): ReLU(inplace=True)\n",
       "    (18): Conv2d(512, 512, kernel_size=(3, 3), stride=(1, 1), padding=(1, 1))\n",
       "    (19): ReLU(inplace=True)\n",
       "    (20): MaxPool2d(kernel_size=2, stride=2, padding=0, dilation=1, ceil_mode=False)\n",
       "  )\n",
       "  (avgpool): AdaptiveAvgPool2d(output_size=(7, 7))\n",
       "  (classifier): Sequential(\n",
       "    (0): Linear(in_features=25088, out_features=4096, bias=True)\n",
       "    (1): ReLU(inplace=True)\n",
       "    (2): Dropout(p=0.5, inplace=False)\n",
       "    (3): Linear(in_features=4096, out_features=4096, bias=True)\n",
       "    (4): ReLU(inplace=True)\n",
       "    (5): Dropout(p=0.5, inplace=False)\n",
       "    (6): Linear(in_features=4096, out_features=1000, bias=True)\n",
       "  )\n",
       ")"
      ]
     },
     "execution_count": 2,
     "metadata": {},
     "output_type": "execute_result"
    }
   ],
   "source": [
    "model = torch.hub.load('pytorch/vision:v0.9.0', 'vgg11', pretrained=True, force_reload=True)\n",
    "model.eval()"
   ]
  },
  {
   "cell_type": "code",
   "execution_count": 8,
   "metadata": {},
   "outputs": [],
   "source": [
    "# Load data: if Windows\n",
    "path='../Image/All_Cropped'\n",
    "\n",
    "images={}\n",
    "\n",
    "directory=['Mountain', 'Beach', \n",
    "           'Mug', 'Banana', \n",
    "           'Car', 'Plane', \n",
    "           'Lighthouse', 'Church']\n",
    "\n",
    "for dir in directory:\n",
    "    images[dir]=[file for file in os.listdir(path+'/'+dir) if file.endswith(('jpeg', 'jpg'))]"
   ]
  },
  {
   "cell_type": "code",
   "execution_count": 9,
   "metadata": {},
   "outputs": [],
   "source": [
    "preprocess = transforms.Compose([\n",
    "    transforms.ToTensor(),\n",
    "    transforms.Normalize(mean=[0.485, 0.456, 0.406], std=[0.229, 0.224, 0.225]), # this should be the mean and std for alexnet training dataset\n",
    "])"
   ]
  },
  {
   "cell_type": "code",
   "execution_count": 10,
   "metadata": {},
   "outputs": [],
   "source": [
    "# read labels \n",
    "with open(\"../imagenet_classes.txt\", \"r\") as f:\n",
    "    categories = [s.strip() for s in f.readlines()]\n",
    "\n",
    "# read labels to wordnet synsets\n",
    "ltw = pd.read_json('../imagenet_label_to_wordnet_synset.json').T\n",
    "selected_labels = pd.read_csv('../selected_labels.csv',index_col=0) # selected labels"
   ]
  },
  {
   "cell_type": "code",
   "execution_count": 11,
   "metadata": {},
   "outputs": [
    {
     "data": {
      "text/plain": [
       "{'Banana': '07753592-n',\n",
       " 'Beach': '09428293-n',\n",
       " 'Car': '02814533-n',\n",
       " 'Church': '03028079-n',\n",
       " 'Lighthouse': '02814860-n',\n",
       " 'Mountain': '09193705-n',\n",
       " 'Mug': '03063599-n',\n",
       " 'Plane': '02690373-n'}"
      ]
     },
     "execution_count": 11,
     "metadata": {},
     "output_type": "execute_result"
    }
   ],
   "source": [
    "# map type to corresponding label's wordnet id\n",
    "id_mapping = dict()\n",
    "for i in selected_labels.index:\n",
    "    id_mapping[selected_labels.loc[i]['type']] = selected_labels.loc[i]['id']\n",
    "id_mapping"
   ]
  },
  {
   "cell_type": "code",
   "execution_count": 12,
   "metadata": {},
   "outputs": [
    {
     "data": {
      "text/plain": [
       "{'Banana': 'banana',\n",
       " 'Beach': 'seashore, coast, seacoast, sea-coast',\n",
       " 'Car': 'beach wagon, station wagon, wagon, estate car, beach waggon, station waggon, waggon',\n",
       " 'Church': 'church, church building',\n",
       " 'Lighthouse': 'beacon, lighthouse, beacon light, pharos',\n",
       " 'Mountain': 'alp',\n",
       " 'Mug': 'coffee mug',\n",
       " 'Plane': 'airliner'}"
      ]
     },
     "execution_count": 12,
     "metadata": {},
     "output_type": "execute_result"
    }
   ],
   "source": [
    "# map type to corresponding label's readable label\n",
    "readable_mapping = dict()\n",
    "for i in selected_labels.index:\n",
    "    readable_mapping[selected_labels.loc[i]['type']] = selected_labels.loc[i]['label']\n",
    "readable_mapping"
   ]
  },
  {
   "cell_type": "markdown",
   "metadata": {},
   "source": [
    "Compute mean and std of all images"
   ]
  },
  {
   "cell_type": "code",
   "execution_count": 13,
   "metadata": {},
   "outputs": [],
   "source": [
    "#type prob cate+filename\n",
    "# all_img={'type':[], 'dir':[],'id_labels':[],'readable_labels':[]}\n",
    "all_img={'type':[], 'dir':[],'prob':[], 'id_label':[], 'readable_label':[]}"
   ]
  },
  {
   "cell_type": "code",
   "execution_count": 14,
   "metadata": {
    "scrolled": true
   },
   "outputs": [],
   "source": [
    "for cate, filename in images.items():\n",
    "    selected_id_label = id_mapping[cate] \n",
    "    selected_readable_label = readable_mapping[cate] \n",
    "    for f in filename:\n",
    "        dir=os.path.join(path,cate,f)\n",
    "        img=Image.open(dir)\n",
    "        #print(dir)\n",
    "        input_tensor=preprocess(img)\n",
    "        input_batch = input_tensor.unsqueeze(0)\n",
    "\n",
    "        if torch.cuda.is_available():\n",
    "            input_batch= input_batch.to('cuda')\n",
    "            model.to('cuda')\n",
    "\n",
    "        with torch.no_grad():\n",
    "            output = model(input_batch)\n",
    "        \n",
    "        probabilities = torch.nn.functional.softmax(output[0], dim=0)\n",
    "        \n",
    "        # Get all 1000 categories per image\n",
    "        prob, catid = torch.topk(probabilities, probabilities.size(0))\n",
    "#         temp1 = {}\n",
    "        temp2 = {}\n",
    "        for i in range(prob.size(0)):\n",
    "#             temp1[categories[catid[i].item()]] = prob[i].item() # readable labels\n",
    "            temp2[ltw['id'][catid[i].item()]] = prob[i].item() # wordnet synset id\n",
    "        \n",
    "        all_img['dir'].append(dir)\n",
    "#         all_img['readable_labels'].append(temp1)\n",
    "#         all_img['id_labels'].append(temp2)\n",
    "        all_img['readable_label'].append(selected_readable_label)\n",
    "        all_img['id_label'].append(selected_id_label)\n",
    "        all_img['prob'].append(temp2[selected_id_label])\n",
    "        \n",
    "        \n",
    "        if 'Mountain' in cate:\n",
    "            all_img['type'].append('Mountain')\n",
    "        if 'Beach' in cate:\n",
    "            all_img['type'].append('Beach')\n",
    "        if 'Mug' in cate:\n",
    "            all_img['type'].append('Mug')\n",
    "        if 'Banana' in cate:\n",
    "            all_img['type'].append('Banana')\n",
    "        if 'Car' in cate:\n",
    "            all_img['type'].append('Car')\n",
    "        if 'Plane' in cate:\n",
    "            all_img['type'].append('Plane')\n",
    "        if 'Lighthouse' in cate:\n",
    "            all_img['type'].append('Lighthouse')\n",
    "        if 'Church' in cate:\n",
    "            all_img['type'].append('Church')\n",
    "\n",
    "#         print('Typicality of ',f, ' = ',probabilities.max()*100)"
   ]
  },
  {
   "cell_type": "code",
   "execution_count": 15,
   "metadata": {
    "scrolled": true
   },
   "outputs": [],
   "source": [
    "all_img_df=pd.DataFrame(all_img)"
   ]
  },
  {
   "cell_type": "code",
   "execution_count": 16,
   "metadata": {},
   "outputs": [
    {
     "data": {
      "text/html": [
       "<div>\n",
       "<style scoped>\n",
       "    .dataframe tbody tr th:only-of-type {\n",
       "        vertical-align: middle;\n",
       "    }\n",
       "\n",
       "    .dataframe tbody tr th {\n",
       "        vertical-align: top;\n",
       "    }\n",
       "\n",
       "    .dataframe thead th {\n",
       "        text-align: right;\n",
       "    }\n",
       "</style>\n",
       "<table border=\"1\" class=\"dataframe\">\n",
       "  <thead>\n",
       "    <tr style=\"text-align: right;\">\n",
       "      <th></th>\n",
       "      <th>type</th>\n",
       "      <th>dir</th>\n",
       "      <th>prob</th>\n",
       "      <th>id_label</th>\n",
       "      <th>readable_label</th>\n",
       "    </tr>\n",
       "  </thead>\n",
       "  <tbody>\n",
       "    <tr>\n",
       "      <th>0</th>\n",
       "      <td>Mountain</td>\n",
       "      <td>../Image/All_Cropped\\Mountain\\1.jpg</td>\n",
       "      <td>0.020162</td>\n",
       "      <td>09193705-n</td>\n",
       "      <td>alp</td>\n",
       "    </tr>\n",
       "    <tr>\n",
       "      <th>1</th>\n",
       "      <td>Mountain</td>\n",
       "      <td>../Image/All_Cropped\\Mountain\\10.jpg</td>\n",
       "      <td>0.212414</td>\n",
       "      <td>09193705-n</td>\n",
       "      <td>alp</td>\n",
       "    </tr>\n",
       "    <tr>\n",
       "      <th>2</th>\n",
       "      <td>Mountain</td>\n",
       "      <td>../Image/All_Cropped\\Mountain\\11.jpg</td>\n",
       "      <td>0.695464</td>\n",
       "      <td>09193705-n</td>\n",
       "      <td>alp</td>\n",
       "    </tr>\n",
       "    <tr>\n",
       "      <th>3</th>\n",
       "      <td>Mountain</td>\n",
       "      <td>../Image/All_Cropped\\Mountain\\12.jpg</td>\n",
       "      <td>0.589797</td>\n",
       "      <td>09193705-n</td>\n",
       "      <td>alp</td>\n",
       "    </tr>\n",
       "    <tr>\n",
       "      <th>4</th>\n",
       "      <td>Mountain</td>\n",
       "      <td>../Image/All_Cropped\\Mountain\\13.jpg</td>\n",
       "      <td>0.088032</td>\n",
       "      <td>09193705-n</td>\n",
       "      <td>alp</td>\n",
       "    </tr>\n",
       "  </tbody>\n",
       "</table>\n",
       "</div>"
      ],
      "text/plain": [
       "       type                                   dir      prob    id_label  \\\n",
       "0  Mountain   ../Image/All_Cropped\\Mountain\\1.jpg  0.020162  09193705-n   \n",
       "1  Mountain  ../Image/All_Cropped\\Mountain\\10.jpg  0.212414  09193705-n   \n",
       "2  Mountain  ../Image/All_Cropped\\Mountain\\11.jpg  0.695464  09193705-n   \n",
       "3  Mountain  ../Image/All_Cropped\\Mountain\\12.jpg  0.589797  09193705-n   \n",
       "4  Mountain  ../Image/All_Cropped\\Mountain\\13.jpg  0.088032  09193705-n   \n",
       "\n",
       "  readable_label  \n",
       "0            alp  \n",
       "1            alp  \n",
       "2            alp  \n",
       "3            alp  \n",
       "4            alp  "
      ]
     },
     "execution_count": 16,
     "metadata": {},
     "output_type": "execute_result"
    }
   ],
   "source": [
    "all_img_df.head()"
   ]
  },
  {
   "cell_type": "code",
   "execution_count": 17,
   "metadata": {},
   "outputs": [],
   "source": [
    "# all_img_df.to_csv('vgg_final.csv')"
   ]
  }
 ],
 "metadata": {
  "kernelspec": {
   "display_name": "Python 3",
   "language": "python",
   "name": "python3"
  },
  "language_info": {
   "codemirror_mode": {
    "name": "ipython",
    "version": 3
   },
   "file_extension": ".py",
   "mimetype": "text/x-python",
   "name": "python",
   "nbconvert_exporter": "python",
   "pygments_lexer": "ipython3",
   "version": "3.8.3"
  },
  "toc": {
   "base_numbering": 1,
   "nav_menu": {},
   "number_sections": false,
   "sideBar": true,
   "skip_h1_title": false,
   "title_cell": "Table of Contents",
   "title_sidebar": "Contents",
   "toc_cell": false,
   "toc_position": {},
   "toc_section_display": true,
   "toc_window_display": false
  }
 },
 "nbformat": 4,
 "nbformat_minor": 4
}
