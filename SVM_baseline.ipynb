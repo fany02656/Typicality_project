{
 "cells": [
  {
   "cell_type": "code",
   "execution_count": 1,
   "metadata": {},
   "outputs": [],
   "source": [
    "from PIL import Image\n",
    "from torchvision import transforms\n",
    "import os"
   ]
  },
  {
   "cell_type": "code",
   "execution_count": 3,
   "metadata": {},
   "outputs": [],
   "source": [
    "import torch\n",
    "# model = torch.hub.load('pytorch/vision:v0.9.0', 'googlenet', pretrained=True)\n",
    "# model.eval()"
   ]
  },
  {
   "cell_type": "markdown",
   "metadata": {},
   "source": [
    "Load data and data preprocess"
   ]
  },
  {
   "cell_type": "code",
   "execution_count": 7,
   "metadata": {},
   "outputs": [],
   "source": [
    "#Load data: if Windows\n",
    "path='Image/All_Cropped'\n",
    "\n",
    "images={}\n",
    "directory=['Mountain', 'Beach', \n",
    "           'Mug', 'Banana', \n",
    "           'Car', 'Plane', \n",
    "           'Lighthouse', 'Church']\n",
    "\n",
    "for dir in directory:\n",
    "    images[dir]=[file for file in os.listdir(path+'/'+dir) if file.endswith(('jpeg', 'jpg'))]"
   ]
  },
  {
   "cell_type": "code",
   "execution_count": 5,
   "metadata": {},
   "outputs": [],
   "source": [
    "preprocess = transforms.Compose([\n",
    "    transforms.Resize(256),\n",
    "    transforms.CenterCrop(224),\n",
    "    transforms.ToTensor(),\n",
    "    transforms.Normalize(mean=[0.485, 0.456, 0.406], std=[0.229, 0.224, 0.225]),\n",
    "])"
   ]
  },
  {
   "cell_type": "code",
   "execution_count": 6,
   "metadata": {},
   "outputs": [],
   "source": [
    "#type prob cate+filename\n",
    "all_img={'type':[], 'typicality_score': [], 'dir':[]}"
   ]
  },
  {
   "cell_type": "code",
   "execution_count": null,
   "metadata": {},
   "outputs": [],
   "source": [
    "for cate, filename in images.items():\n",
    "  for f in filename:\n",
    "    dir=os.path.join(path,cate,f)\n",
    "    img=Image.open(dir)\n",
    "    #print(dir)\n",
    "    input_tensor=preprocess(img)\n",
    "    input_batch = input_tensor.unsqueeze(0)\n",
    "\n",
    "    if torch.cuda.is_available():\n",
    "      input_batch= input_batch.to('cuda')\n",
    "      model.to('cuda')\n",
    "\n",
    "    with torch.no_grad():\n",
    "      output = model(input_batch)\n",
    "\n",
    "    probabilities = torch.nn.functional.softmax(output[0], dim=0)\n",
    "    typ_score=round(float(probabilities.max()*100),1)\n",
    "\n",
    "    all_img['dir'].append(dir)\n",
    "    all_img['typicality_score'].append(typ_score)\n",
    "    if 'Mountain' in cate:\n",
    "      all_img['type'].append('Mountain')\n",
    "    if 'Beach' in cate:\n",
    "      all_img['type'].append('Beach')\n",
    "    if 'Mug' in cate:\n",
    "      all_img['type'].append('Mug')\n",
    "    if 'Banana' in cate:\n",
    "      all_img['type'].append('Banana')\n",
    "    if 'Car' in cate:\n",
    "      all_img['type'].append('Car')\n",
    "    if 'Plane' in cate:\n",
    "      all_img['type'].append('Plane')\n",
    "    if 'Lighthouse' in cate:\n",
    "      all_img['type'].append('Lighthouse')\n",
    "    if 'Church' in cate:\n",
    "      all_img['type'].append('Church')\n",
    "\n",
    "    #print('Typicality of ',f, ' = ',probabilities.max()*100)"
   ]
  },
  {
   "cell_type": "code",
   "execution_count": null,
   "metadata": {},
   "outputs": [],
   "source": [
    "import pandas as pd\n",
    "all_img_df=pd.DataFrame(all_img)\n",
    "all_img_df.head()\n",
    "#len(all_img_df)"
   ]
  }
 ],
 "metadata": {
  "kernelspec": {
   "display_name": "Python 3",
   "language": "python",
   "name": "python3"
  },
  "language_info": {
   "codemirror_mode": {
    "name": "ipython",
    "version": 3
   },
   "file_extension": ".py",
   "mimetype": "text/x-python",
   "name": "python",
   "nbconvert_exporter": "python",
   "pygments_lexer": "ipython3",
   "version": "3.8.3"
  }
 },
 "nbformat": 4,
 "nbformat_minor": 4
}
