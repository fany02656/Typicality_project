{
  "nbformat": 4,
  "nbformat_minor": 0,
  "metadata": {
    "colab": {
      "name": "Analysis.ipynb",
      "provenance": [],
      "collapsed_sections": []
    },
    "kernelspec": {
      "display_name": "Python 3",
      "name": "python3"
    },
    "language_info": {
      "name": "python"
    }
  },
  "cells": [
    {
      "cell_type": "markdown",
      "metadata": {
        "id": "93Ol-a-OOfXH"
      },
      "source": [
        "\n",
        "\n",
        "*   mean rating of each image\n",
        "*   spearman's rank correlation - reliability: Across 25 random splits, the average reliability across all eight categories was ..., min/max category.\n",
        "*   compute correlation with models (pearson rank correlations?)\n",
        "*   find \"outliers\" to compare scores, e.g. bananas with spots, image of groups of items \n",
        "*   the role of feature complexity"
      ]
    },
    {
      "cell_type": "code",
      "metadata": {
        "id": "1Plrod5x8T74"
      },
      "source": [
        "import pandas as pd\n",
        "from scipy.stats import spearmanr\n",
        "import numpy as np\n",
        "from sklearn.model_selection import train_test_split\n",
        "import os\n",
        "import matplotlib.pyplot as plt\n",
        "from scipy import stats"
      ],
      "execution_count": 3,
      "outputs": []
    },
    {
      "cell_type": "markdown",
      "metadata": {
        "id": "HwX2Z6DUPdR8"
      },
      "source": [
        "## Data reliability ##"
      ]
    },
    {
      "cell_type": "code",
      "metadata": {
        "id": "ZAI5-tHXOcJi"
      },
      "source": [
        "path='/content/drive/MyDrive/typicality/human_rating'\n",
        "banana=pd.read_csv(path+'/banana.csv')\n",
        "beach=pd.read_csv(path+'/beach.csv')\n",
        "car=pd.read_csv(path+'/car.csv')\n",
        "church=pd.read_csv(path+'/church.csv')\n",
        "lighthouse=pd.read_csv(path+'/lighthouse.csv')\n",
        "mountain=pd.read_csv(path+'/mountain.csv')\n",
        "mug=pd.read_csv(path+'/mug.csv')\n",
        "plane=pd.read_csv(path+'/plane.csv')"
      ],
      "execution_count": 4,
      "outputs": []
    },
    {
      "cell_type": "code",
      "metadata": {
        "colab": {
          "base_uri": "https://localhost:8080/",
          "height": 298
        },
        "id": "sKmHn82DN2Q6",
        "outputId": "17da45af-ccef-4045-a473-7bfe8049bbac"
      },
      "source": [
        "plt.hist(banana.mean())\n",
        "plt.title('banana')"
      ],
      "execution_count": 5,
      "outputs": [
        {
          "output_type": "execute_result",
          "data": {
            "text/plain": [
              "Text(0.5, 1.0, 'banana')"
            ]
          },
          "metadata": {
            "tags": []
          },
          "execution_count": 5
        },
        {
          "output_type": "display_data",
          "data": {
            "image/png": "[encoded data removed]",
            "text/plain": [
              "<Figure size 432x288 with 1 Axes>"
            ]
          },
          "metadata": {
            "tags": [],
            "needs_background": "light"
          }
        }
      ]
    },
    {
      "cell_type": "code",
      "metadata": {
        "id": "iRS1FVyZ4QC7"
      },
      "source": [
        "def compute_reliability(data):\n",
        "  reliability=[]\n",
        "  for i in range(25):\n",
        "    b1, b2=train_test_split(data, test_size=0.5)\n",
        "    b1, b2=b1.mean(), b2.mean()\n",
        "    coef, p=spearmanr(b1, b2)\n",
        "    reliability.append(coef)\n",
        "  return np.mean(reliability)"
      ],
      "execution_count": 6,
      "outputs": []
    },
    {
      "cell_type": "code",
      "metadata": {
        "id": "WJUIecIwHqeb"
      },
      "source": [
        "res={}\n",
        "data=[banana, beach, car, church, lighthouse, mountain, mug, plane]\n",
        "for i, cat in enumerate(data):\n",
        "  res[i]=compute_reliability(cat)"
      ],
      "execution_count": 7,
      "outputs": []
    },
    {
      "cell_type": "code",
      "metadata": {
        "colab": {
          "base_uri": "https://localhost:8080/"
        },
        "id": "MLn2KxLdKdca",
        "outputId": "566d7562-e510-4503-d48f-bd4702d473f7"
      },
      "source": [
        "res"
      ],
      "execution_count": 8,
      "outputs": [
        {
          "output_type": "execute_result",
          "data": {
            "text/plain": [
              "{0: 0.9012880611619434,\n",
              " 1: 0.9586327451298895,\n",
              " 2: 0.9405354022863933,\n",
              " 3: 0.9084291071187169,\n",
              " 4: 0.909183114922089,\n",
              " 5: 0.9136116615497464,\n",
              " 6: 0.8797511748612835,\n",
              " 7: 0.9511122339242604}"
            ]
          },
          "metadata": {
            "tags": []
          },
          "execution_count": 8
        }
      ]
    },
    {
      "cell_type": "code",
      "metadata": {
        "colab": {
          "base_uri": "https://localhost:8080/"
        },
        "id": "ksqWe_i4IWpa",
        "outputId": "24f55d88-a0e4-41e7-ce9c-9847ec909904"
      },
      "source": [
        "print('min reliability: ', min(res.values()))\n",
        "print('max reliability: ', max(res.values()))\n",
        "print('mean reliability: ', sum(res.values())/8)"
      ],
      "execution_count": 9,
      "outputs": [
        {
          "output_type": "stream",
          "text": [
            "min reliability:  0.8797511748612835\n",
            "max reliability:  0.9586327451298895\n",
            "mean reliability:  0.9203179376192903\n"
          ],
          "name": "stdout"
        }
      ]
    },
    {
      "cell_type": "code",
      "metadata": {
        "colab": {
          "base_uri": "https://localhost:8080/"
        },
        "id": "QggUDH2Y51mT",
        "outputId": "e53e93ae-cc97-486a-beb3-df1874ddec3f"
      },
      "source": [
        "'''\n",
        "print('banana reliability: ', compute_reliability(banana))\n",
        "print('beach reliability: ', compute_reliability(beach))\n",
        "print('car reliability: ', compute_reliability(car))\n",
        "print('church reliability: ', compute_reliability(church))\n",
        "print('lighthouse reliability: ', compute_reliability(lighthouse))\n",
        "print('mountain reliability: ', compute_reliability(mountain))\n",
        "print('mug reliability: ', compute_reliability(mug))\n",
        "print('plane reliability: ', compute_reliability(plane))\n",
        "'''"
      ],
      "execution_count": null,
      "outputs": [
        {
          "output_type": "stream",
          "text": [
            "banana reliability:  0.8558229443902253\n",
            "beach reliability:  0.9158266432518924\n",
            "car reliability:  0.9170486442344044\n",
            "church reliability:  0.8204281936851217\n",
            "lighthouse reliability:  0.8249010556329803\n",
            "mountain reliability:  0.8285940983198994\n",
            "mug reliability:  0.8756992202439241\n",
            "plane reliability:  0.9419826786338891\n"
          ],
          "name": "stdout"
        }
      ]
    },
    {
      "cell_type": "markdown",
      "metadata": {
        "id": "4n5SO67sPg5R"
      },
      "source": [
        "## Correlation to models ##\n",
        "\n",
        "Problem - different order of images in survey and model?"
      ]
    },
    {
      "cell_type": "code",
      "metadata": {
        "colab": {
          "base_uri": "https://localhost:8080/",
          "height": 204
        },
        "id": "dAF0PvtAPQBc",
        "outputId": "2857e276-28cd-49f3-cfd7-f733a7860a41"
      },
      "source": [
        "# with GoogLeNet\n",
        "google_df=pd.read_csv('/content/drive/MyDrive/typicality/google_withlabel.csv')\n",
        "google_df.head()"
      ],
      "execution_count": 10,
      "outputs": [
        {
          "output_type": "execute_result",
          "data": {
            "text/html": [
              "<div>\n",
              "<style scoped>\n",
              "    .dataframe tbody tr th:only-of-type {\n",
              "        vertical-align: middle;\n",
              "    }\n",
              "\n",
              "    .dataframe tbody tr th {\n",
              "        vertical-align: top;\n",
              "    }\n",
              "\n",
              "    .dataframe thead th {\n",
              "        text-align: right;\n",
              "    }\n",
              "</style>\n",
              "<table border=\"1\" class=\"dataframe\">\n",
              "  <thead>\n",
              "    <tr style=\"text-align: right;\">\n",
              "      <th></th>\n",
              "      <th>Unnamed: 0</th>\n",
              "      <th>type</th>\n",
              "      <th>typicality_score</th>\n",
              "      <th>dir</th>\n",
              "      <th>top5_labels</th>\n",
              "      <th>7_score</th>\n",
              "    </tr>\n",
              "  </thead>\n",
              "  <tbody>\n",
              "    <tr>\n",
              "      <th>0</th>\n",
              "      <td>0</td>\n",
              "      <td>Mountain</td>\n",
              "      <td>85.1</td>\n",
              "      <td>/content/drive/MyDrive/typicality/Typicality_p...</td>\n",
              "      <td>{'volcano': 0.8511720895767212, 'promontory': ...</td>\n",
              "      <td>6.0</td>\n",
              "    </tr>\n",
              "    <tr>\n",
              "      <th>1</th>\n",
              "      <td>1</td>\n",
              "      <td>Mountain</td>\n",
              "      <td>67.4</td>\n",
              "      <td>/content/drive/MyDrive/typicality/Typicality_p...</td>\n",
              "      <td>{'alp': 0.673840343952179, 'valley': 0.1376409...</td>\n",
              "      <td>4.7</td>\n",
              "    </tr>\n",
              "    <tr>\n",
              "      <th>2</th>\n",
              "      <td>2</td>\n",
              "      <td>Mountain</td>\n",
              "      <td>31.3</td>\n",
              "      <td>/content/drive/MyDrive/typicality/Typicality_p...</td>\n",
              "      <td>{'alp': 0.31291672587394714, 'valley': 0.16099...</td>\n",
              "      <td>2.2</td>\n",
              "    </tr>\n",
              "    <tr>\n",
              "      <th>3</th>\n",
              "      <td>3</td>\n",
              "      <td>Mountain</td>\n",
              "      <td>17.2</td>\n",
              "      <td>/content/drive/MyDrive/typicality/Typicality_p...</td>\n",
              "      <td>{'valley': 0.17231088876724243, 'alp': 0.13140...</td>\n",
              "      <td>1.2</td>\n",
              "    </tr>\n",
              "    <tr>\n",
              "      <th>4</th>\n",
              "      <td>4</td>\n",
              "      <td>Mountain</td>\n",
              "      <td>64.2</td>\n",
              "      <td>/content/drive/MyDrive/typicality/Typicality_p...</td>\n",
              "      <td>{'lakeside': 0.6420929431915283, 'boathouse': ...</td>\n",
              "      <td>4.5</td>\n",
              "    </tr>\n",
              "  </tbody>\n",
              "</table>\n",
              "</div>"
            ],
            "text/plain": [
              "   Unnamed: 0  ... 7_score\n",
              "0           0  ...     6.0\n",
              "1           1  ...     4.7\n",
              "2           2  ...     2.2\n",
              "3           3  ...     1.2\n",
              "4           4  ...     4.5\n",
              "\n",
              "[5 rows x 6 columns]"
            ]
          },
          "metadata": {
            "tags": []
          },
          "execution_count": 10
        }
      ]
    },
    {
      "cell_type": "code",
      "metadata": {
        "id": "x9pusfssRgPZ"
      },
      "source": [
        "Bana=google_df[google_df['type']=='Banana']['typicality_score']\n",
        "Beach=google_df[google_df['type']=='Beach']['typicality_score']\n",
        "Car=google_df[google_df['type']=='Car']['typicality_score']\n",
        "Church=google_df[google_df['type']=='Church']['typicality_score']\n",
        "Light=google_df[google_df['type']=='Lighthouse']['typicality_score']\n",
        "Mount=google_df[google_df['type']=='Mountain']['typicality_score']\n",
        "Mug=google_df[google_df['type']=='Mug']['typicality_score']\n",
        "Plane=google_df[google_df['type']=='Plane']['typicality_score']"
      ],
      "execution_count": 11,
      "outputs": []
    },
    {
      "cell_type": "markdown",
      "metadata": {
        "id": "xq4jALP7Run3"
      },
      "source": [
        "bananas caused the problem"
      ]
    },
    {
      "cell_type": "code",
      "metadata": {
        "colab": {
          "base_uri": "https://localhost:8080/"
        },
        "id": "nfceFkEvuzNm",
        "outputId": "7f2630df-9bdc-478b-ac64-4653c33240d7"
      },
      "source": [
        "banana.iloc[21]"
      ],
      "execution_count": 16,
      "outputs": [
        {
          "output_type": "execute_result",
          "data": {
            "text/plain": [
              "1     7\n",
              "2     7\n",
              "3     7\n",
              "4     7\n",
              "5     7\n",
              "6     7\n",
              "7     7\n",
              "8     7\n",
              "9     7\n",
              "10    7\n",
              "11    7\n",
              "12    7\n",
              "13    7\n",
              "14    7\n",
              "15    7\n",
              "16    7\n",
              "Name: 21, dtype: int64"
            ]
          },
          "metadata": {
            "tags": []
          },
          "execution_count": 16
        }
      ]
    },
    {
      "cell_type": "code",
      "metadata": {
        "colab": {
          "base_uri": "https://localhost:8080/"
        },
        "id": "unmEnIBwTlQ3",
        "outputId": "d7f08235-21a1-49b0-ce22-03b73fd3d69f"
      },
      "source": [
        "#bana=banana.mean()\n",
        "#Bana=Bana.reset_index(drop=True, inplace=True)\n",
        "corr=[]\n",
        "for i in range(banana.shape[0]):\n",
        "  if i!=17 and i!=21:\n",
        "    bana=banana.iloc[i]\n",
        "    coef, p=stats.pearsonr(bana.values, Bana.values)\n",
        "    print(coef)\n",
        "    #coef=np.corrcoef(bana, Bana)\n",
        "    #coef, p=spearmanr(bana, Bana)\n",
        "    corr.append(abs(coef))\n",
        "bana_corr=np.mean(corr)\n",
        "print('Banana correlation: ', bana_corr)"
      ],
      "execution_count": 17,
      "outputs": [
        {
          "output_type": "stream",
          "text": [
            "-0.2990236780521775\n",
            "-0.3990570802634277\n",
            "-0.3134289847335607\n",
            "-0.26841749919436186\n",
            "-0.3783728957841457\n",
            "-0.34340106831151274\n",
            "-0.2649020266632386\n",
            "0.01744458362728718\n",
            "-0.05559069632217423\n",
            "-0.11087938898066843\n",
            "-0.4489529988524572\n",
            "0.1070645902055159\n",
            "-0.3305929354917737\n",
            "-0.05091407296983663\n",
            "-0.40681799500350574\n",
            "-0.18497203426370024\n",
            "-0.2765623178612593\n",
            "-0.3369317986660743\n",
            "-0.266539305803667\n",
            "-0.23679475544191592\n",
            "-0.10574055384167583\n",
            "-0.25556668255535137\n",
            "-0.25556668255535137\n",
            "-0.2090219273474627\n",
            "-0.34138753803137967\n",
            "-0.33131061804807416\n",
            "-0.25556668255535137\n",
            "-0.32151102972751633\n",
            "-0.41157752677234566\n",
            "-0.25556668255535137\n",
            "-0.32868939128196517\n",
            "-0.4278820353731868\n",
            "-0.07896193987519967\n",
            "-0.22458094848943294\n",
            "Banana correlation:  0.26175267486770304\n"
          ],
          "name": "stdout"
        }
      ]
    },
    {
      "cell_type": "code",
      "metadata": {
        "colab": {
          "base_uri": "https://localhost:8080/"
        },
        "id": "Da58WwlCaS0J",
        "outputId": "167549da-8f1b-45a7-c771-6af5f28f26a9"
      },
      "source": [
        "corr=[]\n",
        "for i in range(beach.shape[0]):\n",
        "  #if i!=17 and i!=21:\n",
        "  bea=beach.iloc[i]\n",
        "  coef, p=stats.pearsonr(bea.values, Beach.values)\n",
        "  print(coef)\n",
        "  #coef=np.corrcoef(bea, Beach)\n",
        "    #coef, p=spearmanr(bana, Bana)\n",
        "  corr.append(coef)\n",
        "bea_corr=np.mean(corr)\n",
        "print('Beach correlation: ', bea_corr)"
      ],
      "execution_count": 18,
      "outputs": [
        {
          "output_type": "stream",
          "text": [
            "-0.12995261167574162\n",
            "0.5222888034426749\n",
            "0.166560199709492\n",
            "-0.09601483115216108\n",
            "-0.2068474492650485\n",
            "0.2627986156953933\n",
            "-0.42447407711223517\n",
            "-0.39935988576578385\n",
            "0.3578559081295195\n",
            "0.10934782296210258\n",
            "-0.09941324216457817\n",
            "-0.08778227636040198\n",
            "0.05728726109735585\n",
            "-0.048076627558831075\n",
            "-0.45236750136046466\n",
            "-0.19426664569360563\n",
            "-0.2754718181567793\n",
            "0.0199529089554335\n",
            "-0.22460189718459753\n",
            "-0.19572489894252276\n",
            "-0.4046447020572069\n",
            "-0.03562940652169533\n",
            "0.18385644178436455\n",
            "-0.34409185230187694\n",
            "0.08331129924650668\n",
            "-0.1536788193537405\n",
            "0.12761065718668305\n",
            "-0.1635189505703456\n",
            "-0.3232359144304162\n",
            "-0.09485692069310808\n",
            "0.08773536765126425\n",
            "0.0010041637203980353\n",
            "-0.003604588618818516\n",
            "-0.29151332608659775\n",
            "0.00046595495170261014\n",
            "-0.26066551177380454\n",
            "Beach correlation:  -0.08138106528520753\n"
          ],
          "name": "stdout"
        }
      ]
    },
    {
      "cell_type": "code",
      "metadata": {
        "colab": {
          "base_uri": "https://localhost:8080/"
        },
        "id": "5x_ay_JOa0T1",
        "outputId": "212c35e5-6f47-4150-b572-e6984c71d7fb"
      },
      "source": [
        "corr=[]\n",
        "for i in range(car.shape[0]):\n",
        "  #if i!=17 and i!=21:\n",
        "  ca=car.iloc[i]\n",
        "  coef, p=stats.pearsonr(ca.values, Car.sort_index().values)\n",
        "  print(coef)\n",
        "  #coef=np.corrcoef(ca, Car)\n",
        "    #coef, p=spearmanr(bana, Bana)\n",
        "  corr.append(coef)\n",
        "car_corr=np.mean(corr)\n",
        "print('Car correlation: ', car_corr)"
      ],
      "execution_count": 19,
      "outputs": [
        {
          "output_type": "stream",
          "text": [
            "-0.18664140968063042\n",
            "-0.3483507303909837\n",
            "-0.3455008285402779\n",
            "-0.1861044351301718\n",
            "-0.42097290923476666\n",
            "-0.4148088028589688\n",
            "-0.03283271381699879\n",
            "-0.4554234505080942\n",
            "-0.037215290795048206\n",
            "-0.23076446228738628\n",
            "-0.4208404086156253\n",
            "-0.3310725597148111\n",
            "-0.26585248631035796\n",
            "-0.4739101824244752\n",
            "-0.3067252000435977\n",
            "-0.23494282055134386\n",
            "-0.2451336106850759\n",
            "-0.242931578415104\n",
            "-0.415600012867621\n",
            "-0.4683095942407208\n",
            "-0.22498001817556634\n",
            "-0.26497228496825953\n",
            "-0.21083258928588386\n",
            "-0.31863179028558486\n",
            "-0.2556197920919945\n",
            "-0.006784104709240735\n",
            "-0.20468802624319654\n",
            "-0.15729714763575472\n",
            "-0.1482177014102425\n",
            "-0.18568086315827417\n",
            "-0.40324986598089263\n",
            "-0.341550960052226\n",
            "-0.46493733181698504\n",
            "-0.38555815524847603\n",
            "-0.23719513422134741\n",
            "-0.09343522246734767\n",
            "Car correlation:  -0.2768767909684259\n"
          ],
          "name": "stdout"
        }
      ]
    },
    {
      "cell_type": "code",
      "metadata": {
        "colab": {
          "base_uri": "https://localhost:8080/"
        },
        "id": "73pnu4ZobSUY",
        "outputId": "9fc22f8f-5c75-4c42-fe71-d7222cdc19d6"
      },
      "source": [
        "corr=[]\n",
        "for i in range(church.shape[0]):\n",
        "  #if i!=17 and i!=21:\n",
        "  ch=church.iloc[i]\n",
        "  coef, p=stats.pearsonr(ch.values, Church.values)\n",
        "  print(coef)\n",
        "  #coef=np.corrcoef(ch, Church)\n",
        "    #coef, p=spearmanr(bana, Bana)\n",
        "  corr.append(coef)\n",
        "church_corr=np.mean(corr)\n",
        "print('Church correlation: ', church_corr)"
      ],
      "execution_count": 20,
      "outputs": [
        {
          "output_type": "stream",
          "text": [
            "0.1391760271341022\n",
            "0.28916223123166046\n",
            "-0.0724403746209522\n",
            "0.662090254714628\n",
            "0.10949958894094608\n",
            "0.22738167824448147\n",
            "0.07097589444633648\n",
            "-0.00604126630164048\n",
            "-0.15719320182353982\n",
            "0.2763016192062508\n",
            "0.08684129142219885\n",
            "-0.08530270269402065\n",
            "0.46429974488908354\n",
            "0.41912484343736933\n",
            "0.16348273763032659\n",
            "0.3532536714558835\n",
            "-0.12379121086630754\n",
            "0.10861339990676899\n",
            "0.39427928554855907\n",
            "0.30950118014279215\n",
            "0.37347114595776265\n",
            "0.3765525423531404\n",
            "-0.2039303013061427\n",
            "0.13239817060827397\n",
            "0.29942139822964503\n",
            "0.24050155682607874\n",
            "-0.005282736805167165\n",
            "-0.06365966145422075\n",
            "0.34827896127790436\n",
            "0.42722203086933497\n",
            "0.2915523517564373\n",
            "0.35747417363105616\n",
            "0.29196815424359474\n",
            "0.2551963708616727\n",
            "0.21588813470471147\n",
            "0.25346186834679807\n",
            "Church correlation:  0.20054802367071686\n"
          ],
          "name": "stdout"
        }
      ]
    },
    {
      "cell_type": "code",
      "metadata": {
        "colab": {
          "base_uri": "https://localhost:8080/"
        },
        "id": "2NTomRSSbdSx",
        "outputId": "2254beea-ab1b-4e44-f96e-22f1ded60288"
      },
      "source": [
        "corr=[]\n",
        "for i in range(lighthouse.shape[0]):\n",
        "  #if i!=17 and i!=21:\n",
        "  li=lighthouse.iloc[i]\n",
        "  coef, p=stats.pearsonr(li.values, Light.values)\n",
        "  print(coef)\n",
        "  #coef=np.corrcoef(li, Light)\n",
        "    #coef, p=spearmanr(bana, Bana)\n",
        "  corr.append(coef)\n",
        "light_corr=np.mean(corr)\n",
        "print('Lighthouse correlation: ', light_corr)"
      ],
      "execution_count": 21,
      "outputs": [
        {
          "output_type": "stream",
          "text": [
            "0.20762485964479915\n",
            "-0.10758672789182751\n",
            "0.22920517049136677\n",
            "-0.08426887911283315\n",
            "0.22228280934334424\n",
            "0.3297874722141516\n",
            "-0.20304265602368576\n",
            "0.32931432352969925\n",
            "0.2780230283229969\n",
            "0.1112455576884038\n",
            "-0.20858436741527936\n",
            "-0.040679611428953114\n",
            "0.0098518276009434\n",
            "0.16794889990023604\n",
            "-0.1627200005612933\n",
            "0.17140204064794773\n",
            "-0.44186963368233695\n",
            "0.28991603392724136\n",
            "0.2977428226427572\n",
            "-0.20024306903101924\n",
            "0.4312361738516201\n",
            "-0.1843663141729227\n",
            "-0.19097370747200942\n",
            "-0.09474947800506843\n",
            "-0.037259513920874954\n",
            "0.18063149460535\n",
            "-0.16234285817373975\n",
            "0.10677368542706261\n",
            "0.29617615449974966\n",
            "0.2911860810679203\n",
            "-0.14176327792305715\n",
            "-0.07072459616771537\n",
            "0.357196490479639\n",
            "0.31850760813313167\n",
            "0.23839178057186833\n",
            "0.18129039735286306\n",
            "Lighthouse correlation:  0.07540444502667991\n"
          ],
          "name": "stdout"
        }
      ]
    },
    {
      "cell_type": "code",
      "metadata": {
        "colab": {
          "base_uri": "https://localhost:8080/"
        },
        "id": "-NiamVFqv39V",
        "outputId": "d59fadbf-daf9-47d6-abac-daf45789c3a5"
      },
      "source": [
        "mountain.iloc[31]"
      ],
      "execution_count": 29,
      "outputs": [
        {
          "output_type": "execute_result",
          "data": {
            "text/plain": [
              "1     7\n",
              "2     7\n",
              "3     7\n",
              "4     7\n",
              "5     7\n",
              "6     7\n",
              "7     7\n",
              "8     7\n",
              "9     7\n",
              "10    7\n",
              "11    7\n",
              "12    7\n",
              "13    7\n",
              "14    7\n",
              "15    7\n",
              "16    7\n",
              "Name: 31, dtype: int64"
            ]
          },
          "metadata": {
            "tags": []
          },
          "execution_count": 29
        }
      ]
    },
    {
      "cell_type": "code",
      "metadata": {
        "colab": {
          "base_uri": "https://localhost:8080/"
        },
        "id": "lWtpkEdLbrjK",
        "outputId": "b8196ab4-8f6f-4b91-db11-c972eaf49330"
      },
      "source": [
        "corr=[]\n",
        "for i in range(mountain.shape[0]):\n",
        "  if i!=31:\n",
        "    mount=mountain.iloc[i]\n",
        "    coef, p=stats.pearsonr(mount.values, Mount.values)\n",
        "    print(coef)\n",
        "  #coef=np.corrcoef(mount, Mount)\n",
        "    #coef, p=spearmanr(bana, Bana)\n",
        "    corr.append(coef)\n",
        "mount_corr=np.mean(corr)\n",
        "print('Mountain correlation: ', mount_corr)"
      ],
      "execution_count": 30,
      "outputs": [
        {
          "output_type": "stream",
          "text": [
            "-0.15626465740724638\n",
            "-0.038127742887033356\n",
            "0.33956160027320015\n",
            "0.046520245422140526\n",
            "-0.013394253660560344\n",
            "0.2636424005908616\n",
            "0.1647692538848452\n",
            "-0.06557943745645806\n",
            "-0.07997495845284802\n",
            "-0.255257560228515\n",
            "0.022232601893311915\n",
            "-0.0013935981614604936\n",
            "0.16496883301866772\n",
            "0.3129039280700262\n",
            "0.32359409009008144\n",
            "0.11975479107426105\n",
            "0.3613252952070112\n",
            "0.19210660786224562\n",
            "0.17502513394567976\n",
            "0.11225302990346563\n",
            "0.18875621408528337\n",
            "0.16496883301866774\n",
            "0.16496883301866774\n",
            "0.29193331494101676\n",
            "0.16496883301866772\n",
            "0.13860174464842034\n",
            "0.07467650606025152\n",
            "0.10250171060034285\n",
            "0.46908605912054463\n",
            "0.35907115716199645\n",
            "0.45919457429436994\n",
            "0.2710657805708978\n",
            "0.4369412710849786\n",
            "-0.0505179939735446\n",
            "0.01164420287324934\n",
            "Mountain correlation:  0.14961504695729963\n"
          ],
          "name": "stdout"
        }
      ]
    },
    {
      "cell_type": "code",
      "metadata": {
        "colab": {
          "base_uri": "https://localhost:8080/"
        },
        "id": "PMFW3MvYb1nl",
        "outputId": "f2d4a91c-471c-4cc1-a95c-ca758fd55504"
      },
      "source": [
        "corr=[]\n",
        "for i in range(mug.shape[0]):\n",
        "  #if i!=17 and i!=21:\n",
        "  m=mug.iloc[i]\n",
        "  coef, p=stats.pearsonr(m.values, Mug.values)\n",
        "  print(coef)\n",
        "  #coef=np.corrcoef(m, Mug)\n",
        "    #coef, p=spearmanr(bana, Bana)\n",
        "  corr.append(coef)\n",
        "mug_corr=np.mean(corr)\n",
        "print('Mug correlation: ', mug_corr)"
      ],
      "execution_count": 31,
      "outputs": [
        {
          "output_type": "stream",
          "text": [
            "-0.20839012738171037\n",
            "-0.20940772678803632\n",
            "-0.4001088192741641\n",
            "-0.18830781926986745\n",
            "-0.22968542489808513\n",
            "-0.46965130007561606\n",
            "0.08631470831102489\n",
            "-0.0735402340378638\n",
            "0.04711461151695204\n",
            "-0.17490708890582143\n",
            "0.30533008854476185\n",
            "-0.41740023855604674\n",
            "-0.4298592786870727\n",
            "-0.3189322402000071\n",
            "-0.12601278006173597\n",
            "-0.05719750852079415\n",
            "-0.22124354741094787\n",
            "-0.06807954566216692\n",
            "-0.10940864893685395\n",
            "0.2850867957559447\n",
            "-0.12506907042553989\n",
            "-0.2711034304216773\n",
            "-0.28140596577818316\n",
            "-0.26392997609210367\n",
            "-0.10691448220933489\n",
            "-0.002500038400848878\n",
            "-0.6085595006708838\n",
            "0.0794655431274032\n",
            "-0.062567379078919\n",
            "-0.3276719268087458\n",
            "-0.10582016737364708\n",
            "-0.29103008389233065\n",
            "-0.06043185309884462\n",
            "-0.4205341139642688\n",
            "-0.08379115010179362\n",
            "-0.015867680539904394\n",
            "Mug correlation:  -0.16461159445188137\n"
          ],
          "name": "stdout"
        }
      ]
    },
    {
      "cell_type": "code",
      "metadata": {
        "colab": {
          "base_uri": "https://localhost:8080/"
        },
        "id": "UZ8laGBIb_yj",
        "outputId": "70b58f26-5f08-454c-fbd6-ee5f01891167"
      },
      "source": [
        "corr=[]\n",
        "for i in range(plane.shape[0]):\n",
        "  #if i!=17 and i!=21:\n",
        "  pla=plane.iloc[i]\n",
        "  coef, p=stats.pearsonr(pla.values, Plane.values)\n",
        "  print(coef)\n",
        "  #coef=np.corrcoef(pla, Plane)\n",
        "    #coef, p=spearmanr(bana, Bana)\n",
        "  corr.append(coef)\n",
        "plane_corr=np.mean(corr)\n",
        "print('Plane correlation: ', plane_corr)"
      ],
      "execution_count": 32,
      "outputs": [
        {
          "output_type": "stream",
          "text": [
            "0.07037642580457076\n",
            "-0.06485825651484203\n",
            "0.037563601109056745\n",
            "0.12156062678793081\n",
            "0.12409900810843924\n",
            "-0.040002053568735874\n",
            "0.09865331398713159\n",
            "0.1992703850019404\n",
            "0.595721853445675\n",
            "0.24911597811387498\n",
            "0.24069205139178795\n",
            "0.0667585684143435\n",
            "-0.014089917807583285\n",
            "-0.07138377483938468\n",
            "-0.13088302843462732\n",
            "0.4502448104151789\n",
            "0.08631853713017844\n",
            "0.02311724950169397\n",
            "-0.04613949564213271\n",
            "0.17898606443031984\n",
            "-0.011060258491688235\n",
            "-0.18629115884737177\n",
            "-0.04105644164069919\n",
            "0.10368420775458437\n",
            "0.02109028836388256\n",
            "-0.20055038008026355\n",
            "-0.05698020171629742\n",
            "-0.2618190989152588\n",
            "0.08885411898896209\n",
            "0.10723446327470015\n",
            "-0.2432740239182729\n",
            "-0.15919214521680103\n",
            "-0.012726108007669615\n",
            "0.1288348266305322\n",
            "0.01808479847224112\n",
            "0.0862810345230238\n",
            "Plane correlation:  0.04322877411134499\n"
          ],
          "name": "stdout"
        }
      ]
    },
    {
      "cell_type": "code",
      "metadata": {
        "colab": {
          "base_uri": "https://localhost:8080/"
        },
        "id": "6IfnmDPocK4J",
        "outputId": "d81a57e1-9b4a-40c6-bc00-3f4bb96965f5"
      },
      "source": [
        "'''\n",
        "sum_corr=bana_corr+bea_corr+car_corr+church_corr+mount_corr+mug_corr+plane_corr+light_corr\n",
        "avg_corr=sum_corr/8\n",
        "avg_corr\n",
        "'''"
      ],
      "execution_count": null,
      "outputs": [
        {
          "output_type": "execute_result",
          "data": {
            "text/plain": [
              "0.17901414851876382"
            ]
          },
          "metadata": {
            "tags": []
          },
          "execution_count": 92
        }
      ]
    },
    {
      "cell_type": "code",
      "metadata": {
        "id": "kAb89S1lcp8j"
      },
      "source": [
        ""
      ],
      "execution_count": null,
      "outputs": []
    }
  ]
}