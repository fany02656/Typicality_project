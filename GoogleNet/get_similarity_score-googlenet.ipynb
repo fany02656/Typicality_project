{
 "cells": [
  {
   "cell_type": "code",
   "execution_count": 1,
   "metadata": {},
   "outputs": [],
   "source": [
    "import numpy as np\n",
    "import pandas as pd\n",
    "import torch\n",
    "from PIL import Image\n",
    "from torchvision import transforms\n",
    "import os\n",
    "import matplotlib.pyplot as plt\n",
    "import ast\n",
    "from functools import partial"
   ]
  },
  {
   "cell_type": "markdown",
   "metadata": {},
   "source": [
    "Use WordNet similarity score to find probabilitiy corresponding to the closest label "
   ]
  },
  {
   "cell_type": "code",
   "execution_count": 2,
   "metadata": {},
   "outputs": [],
   "source": [
    "from nltk.corpus import wordnet"
   ]
  },
  {
   "cell_type": "code",
   "execution_count": 3,
   "metadata": {},
   "outputs": [],
   "source": [
    "# df = pd.read_csv('googlenet_scores_wordnet_id.csv',index_col=0)"
   ]
  },
  {
   "cell_type": "markdown",
   "metadata": {},
   "source": [
    "Input dataframe columns: (see alexnet.ipynb for getting wordnet ids for corresponding labels)"
   ]
  },
  {
   "cell_type": "code",
   "execution_count": 4,
   "metadata": {},
   "outputs": [
    {
     "data": {
      "text/plain": [
       "Index(['type', 'dir', 'id_labels', 'readable_labels'], dtype='object')"
      ]
     },
     "execution_count": 4,
     "metadata": {},
     "output_type": "execute_result"
    }
   ],
   "source": [
    "df.columns"
   ]
  },
  {
   "cell_type": "code",
   "execution_count": 3,
   "metadata": {
    "scrolled": true
   },
   "outputs": [
    {
     "ename": "NameError",
     "evalue": "name 'df' is not defined",
     "output_type": "error",
     "traceback": [
      "\u001b[1;31m---------------------------------------------------------------------------\u001b[0m",
      "\u001b[1;31mNameError\u001b[0m                                 Traceback (most recent call last)",
      "\u001b[1;32m<ipython-input-3-902da9f31cff>\u001b[0m in \u001b[0;36m<module>\u001b[1;34m\u001b[0m\n\u001b[0;32m      1\u001b[0m \u001b[1;31m# manually select the synsnet with the correct definition for each type\u001b[0m\u001b[1;33m\u001b[0m\u001b[1;33m\u001b[0m\u001b[1;33m\u001b[0m\u001b[0m\n\u001b[1;32m----> 2\u001b[1;33m \u001b[0mtype_names\u001b[0m \u001b[1;33m=\u001b[0m \u001b[0mnp\u001b[0m\u001b[1;33m.\u001b[0m\u001b[0munique\u001b[0m\u001b[1;33m(\u001b[0m\u001b[0mdf\u001b[0m\u001b[1;33m[\u001b[0m\u001b[1;34m'type'\u001b[0m\u001b[1;33m]\u001b[0m\u001b[1;33m.\u001b[0m\u001b[0mvalues\u001b[0m\u001b[1;33m)\u001b[0m\u001b[1;33m\u001b[0m\u001b[1;33m\u001b[0m\u001b[0m\n\u001b[0m\u001b[0;32m      3\u001b[0m \u001b[1;32mfor\u001b[0m \u001b[0mt\u001b[0m \u001b[1;32min\u001b[0m \u001b[0mtype_names\u001b[0m\u001b[1;33m:\u001b[0m\u001b[1;33m\u001b[0m\u001b[1;33m\u001b[0m\u001b[0m\n\u001b[0;32m      4\u001b[0m     \u001b[0msyns\u001b[0m \u001b[1;33m=\u001b[0m \u001b[0mwordnet\u001b[0m\u001b[1;33m.\u001b[0m\u001b[0msynsets\u001b[0m\u001b[1;33m(\u001b[0m\u001b[0mt\u001b[0m\u001b[1;33m.\u001b[0m\u001b[0mlower\u001b[0m\u001b[1;33m(\u001b[0m\u001b[1;33m)\u001b[0m\u001b[1;33m)\u001b[0m\u001b[1;33m\u001b[0m\u001b[1;33m\u001b[0m\u001b[0m\n\u001b[0;32m      5\u001b[0m     \u001b[1;32mif\u001b[0m \u001b[0mt\u001b[0m \u001b[1;33m==\u001b[0m \u001b[1;34m'Beach'\u001b[0m\u001b[1;33m:\u001b[0m\u001b[1;33m\u001b[0m\u001b[1;33m\u001b[0m\u001b[0m\n",
      "\u001b[1;31mNameError\u001b[0m: name 'df' is not defined"
     ]
    }
   ],
   "source": [
    "# manually select the synsnet with the correct definition for each type\n",
    "type_names = np.unique(df['type'].values)\n",
    "for t in type_names:\n",
    "    syns = wordnet.synsets(t.lower())\n",
    "    if t == 'Beach':\n",
    "        syns = wordnet.synsets('seashore')\n",
    "    print(f'{t}: ')\n",
    "    for s in syns:\n",
    "        print(s)\n",
    "        print(s.definition())\n",
    "    print()"
   ]
  },
  {
   "cell_type": "code",
   "execution_count": 6,
   "metadata": {},
   "outputs": [],
   "source": [
    "type_synsets = ['banana.n.02','beach.n.01','car.n.01','church.n.02','beacon.n.03','mountain.n.01','coffee_mug.n.01','airplane.n.01']\n",
    "type_final = {type_names[i] : type_synsets[i] for i in range(len(type_names))}"
   ]
  },
  {
   "cell_type": "code",
   "execution_count": 7,
   "metadata": {},
   "outputs": [
    {
     "data": {
      "text/plain": [
       "{'Banana': 'banana.n.02',\n",
       " 'Beach': 'beach.n.01',\n",
       " 'Car': 'car.n.01',\n",
       " 'Church': 'church.n.02',\n",
       " 'Lighthouse': 'beacon.n.03',\n",
       " 'Mountain': 'mountain.n.01',\n",
       " 'Mug': 'coffee_mug.n.01',\n",
       " 'Plane': 'airplane.n.01'}"
      ]
     },
     "execution_count": 7,
     "metadata": {},
     "output_type": "execute_result"
    }
   ],
   "source": [
    "type_final"
   ]
  },
  {
   "cell_type": "code",
   "execution_count": 8,
   "metadata": {},
   "outputs": [],
   "source": [
    "# compute similarity score between synsets of each of the top 10 labels and the type \n",
    "def getSyns(similarity,closest,row):\n",
    "    # type name\n",
    "    category = row['type'] \n",
    "    \n",
    "    # top 10 labels' ids in wordnet\n",
    "    labels  = row['id_labels'] \n",
    "    labels = ast.literal_eval(labels)\n",
    "    key = labels.keys() \n",
    "    \n",
    "    # iterate through top 10 labels and compare with type \n",
    "    sim = dict()\n",
    "    notFound = True\n",
    "    for k in key:\n",
    "        pos, synid = k.split('-')[1], int(k.split('-')[0]) # part of speech (all noun in this case), id\n",
    "        k_syns = wordnet.synset_from_pos_and_offset(pos, synid) # label synsets\n",
    "        cat_syns = wordnet.synset(type_final[category]) # type synsets\n",
    "        s = k_syns.path_similarity(cat_syns)\n",
    "        sim[k] = s\n",
    "        \n",
    "        # find the first > 0.5 similarity label among the top 10\n",
    "        if s >= 0.5 and notFound:\n",
    "            closest.append({k:s})\n",
    "            notFound = False\n",
    "            \n",
    "    # return the label with highest probabilitiy if none is above 0.5\n",
    "    if notFound:\n",
    "        sim_np = np.array(sim.values())\n",
    "        max_key = list(key)[np.argmax(sim_np)]\n",
    "        closest.append({max_key : sim[max_key]})\n",
    "    \n",
    "    similarity.append(sim)"
   ]
  },
  {
   "cell_type": "code",
   "execution_count": 10,
   "metadata": {},
   "outputs": [],
   "source": [
    "# read labels to wordnet synsets\n",
    "ltw = pd.read_json('../imagenet_label_to_wordnet_synset.json').T"
   ]
  },
  {
   "cell_type": "code",
   "execution_count": 11,
   "metadata": {},
   "outputs": [],
   "source": [
    "# get readable labels from imagenet_label_to_wordnet_synset.json\n",
    "def convertIdToReadable(id_label):\n",
    "    for idx in range(ltw.shape[0]):\n",
    "        if ltw['id'][idx] == id_label:\n",
    "            return ltw['label'][idx]\n",
    "    return None"
   ]
  },
  {
   "cell_type": "code",
   "execution_count": 12,
   "metadata": {},
   "outputs": [
    {
     "data": {
      "text/html": [
       "<div>\n",
       "<style scoped>\n",
       "    .dataframe tbody tr th:only-of-type {\n",
       "        vertical-align: middle;\n",
       "    }\n",
       "\n",
       "    .dataframe tbody tr th {\n",
       "        vertical-align: top;\n",
       "    }\n",
       "\n",
       "    .dataframe thead th {\n",
       "        text-align: right;\n",
       "    }\n",
       "</style>\n",
       "<table border=\"1\" class=\"dataframe\">\n",
       "  <thead>\n",
       "    <tr style=\"text-align: right;\">\n",
       "      <th></th>\n",
       "      <th>type</th>\n",
       "      <th>dir</th>\n",
       "      <th>id_labels</th>\n",
       "      <th>readable_labels</th>\n",
       "    </tr>\n",
       "  </thead>\n",
       "  <tbody>\n",
       "    <tr>\n",
       "      <th>0</th>\n",
       "      <td>Mountain</td>\n",
       "      <td>../Image/All_Cropped\\Mountain\\1.jpg</td>\n",
       "      <td>{'09332890-n': 0.28545108437538147, '09472597-...</td>\n",
       "      <td>{'lakeside': 0.28545108437538147, 'volcano': 0...</td>\n",
       "    </tr>\n",
       "    <tr>\n",
       "      <th>1</th>\n",
       "      <td>Mountain</td>\n",
       "      <td>../Image/All_Cropped\\Mountain\\10.jpg</td>\n",
       "      <td>{'09468604-n': 0.1293070912361145, '09193705-n...</td>\n",
       "      <td>{'valley': 0.1293070912361145, 'alp': 0.073099...</td>\n",
       "    </tr>\n",
       "    <tr>\n",
       "      <th>2</th>\n",
       "      <td>Mountain</td>\n",
       "      <td>../Image/All_Cropped\\Mountain\\11.jpg</td>\n",
       "      <td>{'09193705-n': 0.6057558655738831, '09472597-n...</td>\n",
       "      <td>{'alp': 0.6057558655738831, 'volcano': 0.20061...</td>\n",
       "    </tr>\n",
       "    <tr>\n",
       "      <th>3</th>\n",
       "      <td>Mountain</td>\n",
       "      <td>../Image/All_Cropped\\Mountain\\12.jpg</td>\n",
       "      <td>{'09193705-n': 0.7249870896339417, '09468604-n...</td>\n",
       "      <td>{'alp': 0.7249870896339417, 'valley': 0.140982...</td>\n",
       "    </tr>\n",
       "    <tr>\n",
       "      <th>4</th>\n",
       "      <td>Mountain</td>\n",
       "      <td>../Image/All_Cropped\\Mountain\\13.jpg</td>\n",
       "      <td>{'09246464-n': 0.4255097806453705, '09468604-n...</td>\n",
       "      <td>{'cliff': 0.4255097806453705, 'valley': 0.1114...</td>\n",
       "    </tr>\n",
       "    <tr>\n",
       "      <th>...</th>\n",
       "      <td>...</td>\n",
       "      <td>...</td>\n",
       "      <td>...</td>\n",
       "      <td>...</td>\n",
       "    </tr>\n",
       "    <tr>\n",
       "      <th>123</th>\n",
       "      <td>Church</td>\n",
       "      <td>../Image/All_Cropped\\Church\\5.jpg</td>\n",
       "      <td>{'03028079-n': 0.40516284108161926, '03781244-...</td>\n",
       "      <td>{'church': 0.40516284108161926, 'monastery': 0...</td>\n",
       "    </tr>\n",
       "    <tr>\n",
       "      <th>124</th>\n",
       "      <td>Church</td>\n",
       "      <td>../Image/All_Cropped\\Church\\6.jpg</td>\n",
       "      <td>{'02793495-n': 0.6723809242248535, '02859443-n...</td>\n",
       "      <td>{'barn': 0.6723809242248535, 'boathouse': 0.05...</td>\n",
       "    </tr>\n",
       "    <tr>\n",
       "      <th>125</th>\n",
       "      <td>Church</td>\n",
       "      <td>../Image/All_Cropped\\Church\\7.jpg</td>\n",
       "      <td>{'03028079-n': 0.3462732136249542, '03781244-n...</td>\n",
       "      <td>{'church': 0.3462732136249542, 'monastery': 0....</td>\n",
       "    </tr>\n",
       "    <tr>\n",
       "      <th>126</th>\n",
       "      <td>Church</td>\n",
       "      <td>../Image/All_Cropped\\Church\\8.jpg</td>\n",
       "      <td>{'03028079-n': 0.3220229148864746, '02814860-n...</td>\n",
       "      <td>{'church': 0.3220229148864746, 'beacon': 0.119...</td>\n",
       "    </tr>\n",
       "    <tr>\n",
       "      <th>127</th>\n",
       "      <td>Church</td>\n",
       "      <td>../Image/All_Cropped\\Church\\9.jpg</td>\n",
       "      <td>{'03781244-n': 0.3016471564769745, '03028079-n...</td>\n",
       "      <td>{'monastery': 0.3016471564769745, 'church': 0....</td>\n",
       "    </tr>\n",
       "  </tbody>\n",
       "</table>\n",
       "<p>128 rows × 4 columns</p>\n",
       "</div>"
      ],
      "text/plain": [
       "         type                                   dir  \\\n",
       "0    Mountain   ../Image/All_Cropped\\Mountain\\1.jpg   \n",
       "1    Mountain  ../Image/All_Cropped\\Mountain\\10.jpg   \n",
       "2    Mountain  ../Image/All_Cropped\\Mountain\\11.jpg   \n",
       "3    Mountain  ../Image/All_Cropped\\Mountain\\12.jpg   \n",
       "4    Mountain  ../Image/All_Cropped\\Mountain\\13.jpg   \n",
       "..        ...                                   ...   \n",
       "123    Church     ../Image/All_Cropped\\Church\\5.jpg   \n",
       "124    Church     ../Image/All_Cropped\\Church\\6.jpg   \n",
       "125    Church     ../Image/All_Cropped\\Church\\7.jpg   \n",
       "126    Church     ../Image/All_Cropped\\Church\\8.jpg   \n",
       "127    Church     ../Image/All_Cropped\\Church\\9.jpg   \n",
       "\n",
       "                                             id_labels  \\\n",
       "0    {'09332890-n': 0.28545108437538147, '09472597-...   \n",
       "1    {'09468604-n': 0.1293070912361145, '09193705-n...   \n",
       "2    {'09193705-n': 0.6057558655738831, '09472597-n...   \n",
       "3    {'09193705-n': 0.7249870896339417, '09468604-n...   \n",
       "4    {'09246464-n': 0.4255097806453705, '09468604-n...   \n",
       "..                                                 ...   \n",
       "123  {'03028079-n': 0.40516284108161926, '03781244-...   \n",
       "124  {'02793495-n': 0.6723809242248535, '02859443-n...   \n",
       "125  {'03028079-n': 0.3462732136249542, '03781244-n...   \n",
       "126  {'03028079-n': 0.3220229148864746, '02814860-n...   \n",
       "127  {'03781244-n': 0.3016471564769745, '03028079-n...   \n",
       "\n",
       "                                       readable_labels  \n",
       "0    {'lakeside': 0.28545108437538147, 'volcano': 0...  \n",
       "1    {'valley': 0.1293070912361145, 'alp': 0.073099...  \n",
       "2    {'alp': 0.6057558655738831, 'volcano': 0.20061...  \n",
       "3    {'alp': 0.7249870896339417, 'valley': 0.140982...  \n",
       "4    {'cliff': 0.4255097806453705, 'valley': 0.1114...  \n",
       "..                                                 ...  \n",
       "123  {'church': 0.40516284108161926, 'monastery': 0...  \n",
       "124  {'barn': 0.6723809242248535, 'boathouse': 0.05...  \n",
       "125  {'church': 0.3462732136249542, 'monastery': 0....  \n",
       "126  {'church': 0.3220229148864746, 'beacon': 0.119...  \n",
       "127  {'monastery': 0.3016471564769745, 'church': 0....  \n",
       "\n",
       "[128 rows x 4 columns]"
      ]
     },
     "execution_count": 12,
     "metadata": {},
     "output_type": "execute_result"
    }
   ],
   "source": [
    "df"
   ]
  },
  {
   "cell_type": "code",
   "execution_count": 13,
   "metadata": {
    "scrolled": true
   },
   "outputs": [],
   "source": [
    "similarity = []\n",
    "closest = []\n",
    "getSynsPartial = partial(getSyns, similarity, closest)\n",
    "df.apply(getSynsPartial, axis=1)\n",
    "\n",
    "df['similarity_score'] = similarity\n",
    "df['closest_id_label'] = [list(item.keys())[0] for item in closest]\n",
    "df['closest_similarity_score'] = [list(item.values())[0] for item in closest]\n",
    "df['closest_readable_label'] = df['closest_id_label'].apply(convertIdToReadable)\n",
    "df['closest_prob'] = [ast.literal_eval(d)[i] for d, i in zip(df['id_labels'],df['closest_id_label'])]"
   ]
  },
  {
   "cell_type": "code",
   "execution_count": 14,
   "metadata": {},
   "outputs": [
    {
     "data": {
      "text/html": [
       "<div>\n",
       "<style scoped>\n",
       "    .dataframe tbody tr th:only-of-type {\n",
       "        vertical-align: middle;\n",
       "    }\n",
       "\n",
       "    .dataframe tbody tr th {\n",
       "        vertical-align: top;\n",
       "    }\n",
       "\n",
       "    .dataframe thead th {\n",
       "        text-align: right;\n",
       "    }\n",
       "</style>\n",
       "<table border=\"1\" class=\"dataframe\">\n",
       "  <thead>\n",
       "    <tr style=\"text-align: right;\">\n",
       "      <th></th>\n",
       "      <th>type</th>\n",
       "      <th>dir</th>\n",
       "      <th>id_labels</th>\n",
       "      <th>readable_labels</th>\n",
       "      <th>similarity_score</th>\n",
       "      <th>closest_id_label</th>\n",
       "      <th>closest_similarity_score</th>\n",
       "      <th>closest_readable_label</th>\n",
       "      <th>closest_prob</th>\n",
       "    </tr>\n",
       "  </thead>\n",
       "  <tbody>\n",
       "    <tr>\n",
       "      <th>0</th>\n",
       "      <td>Mountain</td>\n",
       "      <td>../Image/All_Cropped\\Mountain\\1.jpg</td>\n",
       "      <td>{'09332890-n': 0.28545108437538147, '09472597-...</td>\n",
       "      <td>{'lakeside': 0.28545108437538147, 'volcano': 0...</td>\n",
       "      <td>{'09332890-n': 0.2, '09472597-n': 0.5, '094686...</td>\n",
       "      <td>09472597-n</td>\n",
       "      <td>0.5</td>\n",
       "      <td>volcano</td>\n",
       "      <td>0.066258</td>\n",
       "    </tr>\n",
       "    <tr>\n",
       "      <th>1</th>\n",
       "      <td>Mountain</td>\n",
       "      <td>../Image/All_Cropped\\Mountain\\10.jpg</td>\n",
       "      <td>{'09468604-n': 0.1293070912361145, '09193705-n...</td>\n",
       "      <td>{'valley': 0.1293070912361145, 'alp': 0.073099...</td>\n",
       "      <td>{'09468604-n': 0.2, '09193705-n': 0.5, '093328...</td>\n",
       "      <td>09193705-n</td>\n",
       "      <td>0.5</td>\n",
       "      <td>alp</td>\n",
       "      <td>0.073099</td>\n",
       "    </tr>\n",
       "    <tr>\n",
       "      <th>2</th>\n",
       "      <td>Mountain</td>\n",
       "      <td>../Image/All_Cropped\\Mountain\\11.jpg</td>\n",
       "      <td>{'09193705-n': 0.6057558655738831, '09472597-n...</td>\n",
       "      <td>{'alp': 0.6057558655738831, 'volcano': 0.20061...</td>\n",
       "      <td>{'09193705-n': 0.5, '09472597-n': 0.5, '094686...</td>\n",
       "      <td>09193705-n</td>\n",
       "      <td>0.5</td>\n",
       "      <td>alp</td>\n",
       "      <td>0.605756</td>\n",
       "    </tr>\n",
       "    <tr>\n",
       "      <th>3</th>\n",
       "      <td>Mountain</td>\n",
       "      <td>../Image/All_Cropped\\Mountain\\12.jpg</td>\n",
       "      <td>{'09193705-n': 0.7249870896339417, '09468604-n...</td>\n",
       "      <td>{'alp': 0.7249870896339417, 'valley': 0.140982...</td>\n",
       "      <td>{'09193705-n': 0.5, '09468604-n': 0.2, '094725...</td>\n",
       "      <td>09193705-n</td>\n",
       "      <td>0.5</td>\n",
       "      <td>alp</td>\n",
       "      <td>0.724987</td>\n",
       "    </tr>\n",
       "    <tr>\n",
       "      <th>4</th>\n",
       "      <td>Mountain</td>\n",
       "      <td>../Image/All_Cropped\\Mountain\\13.jpg</td>\n",
       "      <td>{'09246464-n': 0.4255097806453705, '09468604-n...</td>\n",
       "      <td>{'cliff': 0.4255097806453705, 'valley': 0.1114...</td>\n",
       "      <td>{'09246464-n': 0.25, '09468604-n': 0.2, '09193...</td>\n",
       "      <td>09193705-n</td>\n",
       "      <td>0.5</td>\n",
       "      <td>alp</td>\n",
       "      <td>0.078892</td>\n",
       "    </tr>\n",
       "    <tr>\n",
       "      <th>...</th>\n",
       "      <td>...</td>\n",
       "      <td>...</td>\n",
       "      <td>...</td>\n",
       "      <td>...</td>\n",
       "      <td>...</td>\n",
       "      <td>...</td>\n",
       "      <td>...</td>\n",
       "      <td>...</td>\n",
       "      <td>...</td>\n",
       "    </tr>\n",
       "    <tr>\n",
       "      <th>123</th>\n",
       "      <td>Church</td>\n",
       "      <td>../Image/All_Cropped\\Church\\5.jpg</td>\n",
       "      <td>{'03028079-n': 0.40516284108161926, '03781244-...</td>\n",
       "      <td>{'church': 0.40516284108161926, 'monastery': 0...</td>\n",
       "      <td>{'03028079-n': 1.0, '03781244-n': 0.1428571428...</td>\n",
       "      <td>03028079-n</td>\n",
       "      <td>1.0</td>\n",
       "      <td>church, church building</td>\n",
       "      <td>0.405163</td>\n",
       "    </tr>\n",
       "    <tr>\n",
       "      <th>124</th>\n",
       "      <td>Church</td>\n",
       "      <td>../Image/All_Cropped\\Church\\6.jpg</td>\n",
       "      <td>{'02793495-n': 0.6723809242248535, '02859443-n...</td>\n",
       "      <td>{'barn': 0.6723809242248535, 'boathouse': 0.05...</td>\n",
       "      <td>{'02793495-n': 0.2, '02859443-n': 0.1666666666...</td>\n",
       "      <td>03028079-n</td>\n",
       "      <td>1.0</td>\n",
       "      <td>church, church building</td>\n",
       "      <td>0.027058</td>\n",
       "    </tr>\n",
       "    <tr>\n",
       "      <th>125</th>\n",
       "      <td>Church</td>\n",
       "      <td>../Image/All_Cropped\\Church\\7.jpg</td>\n",
       "      <td>{'03028079-n': 0.3462732136249542, '03781244-n...</td>\n",
       "      <td>{'church': 0.3462732136249542, 'monastery': 0....</td>\n",
       "      <td>{'03028079-n': 1.0, '03781244-n': 0.1428571428...</td>\n",
       "      <td>03028079-n</td>\n",
       "      <td>1.0</td>\n",
       "      <td>church, church building</td>\n",
       "      <td>0.346273</td>\n",
       "    </tr>\n",
       "    <tr>\n",
       "      <th>126</th>\n",
       "      <td>Church</td>\n",
       "      <td>../Image/All_Cropped\\Church\\8.jpg</td>\n",
       "      <td>{'03028079-n': 0.3220229148864746, '02814860-n...</td>\n",
       "      <td>{'church': 0.3220229148864746, 'beacon': 0.119...</td>\n",
       "      <td>{'03028079-n': 1.0, '02814860-n': 0.1666666666...</td>\n",
       "      <td>03028079-n</td>\n",
       "      <td>1.0</td>\n",
       "      <td>church, church building</td>\n",
       "      <td>0.322023</td>\n",
       "    </tr>\n",
       "    <tr>\n",
       "      <th>127</th>\n",
       "      <td>Church</td>\n",
       "      <td>../Image/All_Cropped\\Church\\9.jpg</td>\n",
       "      <td>{'03781244-n': 0.3016471564769745, '03028079-n...</td>\n",
       "      <td>{'monastery': 0.3016471564769745, 'church': 0....</td>\n",
       "      <td>{'03781244-n': 0.14285714285714285, '03028079-...</td>\n",
       "      <td>03028079-n</td>\n",
       "      <td>1.0</td>\n",
       "      <td>church, church building</td>\n",
       "      <td>0.190929</td>\n",
       "    </tr>\n",
       "  </tbody>\n",
       "</table>\n",
       "<p>128 rows × 9 columns</p>\n",
       "</div>"
      ],
      "text/plain": [
       "         type                                   dir  \\\n",
       "0    Mountain   ../Image/All_Cropped\\Mountain\\1.jpg   \n",
       "1    Mountain  ../Image/All_Cropped\\Mountain\\10.jpg   \n",
       "2    Mountain  ../Image/All_Cropped\\Mountain\\11.jpg   \n",
       "3    Mountain  ../Image/All_Cropped\\Mountain\\12.jpg   \n",
       "4    Mountain  ../Image/All_Cropped\\Mountain\\13.jpg   \n",
       "..        ...                                   ...   \n",
       "123    Church     ../Image/All_Cropped\\Church\\5.jpg   \n",
       "124    Church     ../Image/All_Cropped\\Church\\6.jpg   \n",
       "125    Church     ../Image/All_Cropped\\Church\\7.jpg   \n",
       "126    Church     ../Image/All_Cropped\\Church\\8.jpg   \n",
       "127    Church     ../Image/All_Cropped\\Church\\9.jpg   \n",
       "\n",
       "                                             id_labels  \\\n",
       "0    {'09332890-n': 0.28545108437538147, '09472597-...   \n",
       "1    {'09468604-n': 0.1293070912361145, '09193705-n...   \n",
       "2    {'09193705-n': 0.6057558655738831, '09472597-n...   \n",
       "3    {'09193705-n': 0.7249870896339417, '09468604-n...   \n",
       "4    {'09246464-n': 0.4255097806453705, '09468604-n...   \n",
       "..                                                 ...   \n",
       "123  {'03028079-n': 0.40516284108161926, '03781244-...   \n",
       "124  {'02793495-n': 0.6723809242248535, '02859443-n...   \n",
       "125  {'03028079-n': 0.3462732136249542, '03781244-n...   \n",
       "126  {'03028079-n': 0.3220229148864746, '02814860-n...   \n",
       "127  {'03781244-n': 0.3016471564769745, '03028079-n...   \n",
       "\n",
       "                                       readable_labels  \\\n",
       "0    {'lakeside': 0.28545108437538147, 'volcano': 0...   \n",
       "1    {'valley': 0.1293070912361145, 'alp': 0.073099...   \n",
       "2    {'alp': 0.6057558655738831, 'volcano': 0.20061...   \n",
       "3    {'alp': 0.7249870896339417, 'valley': 0.140982...   \n",
       "4    {'cliff': 0.4255097806453705, 'valley': 0.1114...   \n",
       "..                                                 ...   \n",
       "123  {'church': 0.40516284108161926, 'monastery': 0...   \n",
       "124  {'barn': 0.6723809242248535, 'boathouse': 0.05...   \n",
       "125  {'church': 0.3462732136249542, 'monastery': 0....   \n",
       "126  {'church': 0.3220229148864746, 'beacon': 0.119...   \n",
       "127  {'monastery': 0.3016471564769745, 'church': 0....   \n",
       "\n",
       "                                      similarity_score closest_id_label  \\\n",
       "0    {'09332890-n': 0.2, '09472597-n': 0.5, '094686...       09472597-n   \n",
       "1    {'09468604-n': 0.2, '09193705-n': 0.5, '093328...       09193705-n   \n",
       "2    {'09193705-n': 0.5, '09472597-n': 0.5, '094686...       09193705-n   \n",
       "3    {'09193705-n': 0.5, '09468604-n': 0.2, '094725...       09193705-n   \n",
       "4    {'09246464-n': 0.25, '09468604-n': 0.2, '09193...       09193705-n   \n",
       "..                                                 ...              ...   \n",
       "123  {'03028079-n': 1.0, '03781244-n': 0.1428571428...       03028079-n   \n",
       "124  {'02793495-n': 0.2, '02859443-n': 0.1666666666...       03028079-n   \n",
       "125  {'03028079-n': 1.0, '03781244-n': 0.1428571428...       03028079-n   \n",
       "126  {'03028079-n': 1.0, '02814860-n': 0.1666666666...       03028079-n   \n",
       "127  {'03781244-n': 0.14285714285714285, '03028079-...       03028079-n   \n",
       "\n",
       "     closest_similarity_score   closest_readable_label  closest_prob  \n",
       "0                         0.5                  volcano      0.066258  \n",
       "1                         0.5                      alp      0.073099  \n",
       "2                         0.5                      alp      0.605756  \n",
       "3                         0.5                      alp      0.724987  \n",
       "4                         0.5                      alp      0.078892  \n",
       "..                        ...                      ...           ...  \n",
       "123                       1.0  church, church building      0.405163  \n",
       "124                       1.0  church, church building      0.027058  \n",
       "125                       1.0  church, church building      0.346273  \n",
       "126                       1.0  church, church building      0.322023  \n",
       "127                       1.0  church, church building      0.190929  \n",
       "\n",
       "[128 rows x 9 columns]"
      ]
     },
     "execution_count": 14,
     "metadata": {},
     "output_type": "execute_result"
    }
   ],
   "source": [
    "df"
   ]
  },
  {
   "cell_type": "code",
   "execution_count": 15,
   "metadata": {},
   "outputs": [
    {
     "data": {
      "text/plain": [
       "type                                                                 Mountain\n",
       "dir                                      ../Image/All_Cropped\\Mountain\\13.jpg\n",
       "id_labels                   {'09246464-n': 0.4255097806453705, '09468604-n...\n",
       "readable_labels             {'cliff': 0.4255097806453705, 'valley': 0.1114...\n",
       "similarity_score            {'09246464-n': 0.25, '09468604-n': 0.2, '09193...\n",
       "closest_id_label                                                   09193705-n\n",
       "closest_similarity_score                                                  0.5\n",
       "closest_readable_label                                                    alp\n",
       "closest_prob                                                        0.0788919\n",
       "Name: 4, dtype: object"
      ]
     },
     "execution_count": 15,
     "metadata": {},
     "output_type": "execute_result"
    }
   ],
   "source": [
    "df.loc[4]"
   ]
  },
  {
   "cell_type": "code",
   "execution_count": 16,
   "metadata": {},
   "outputs": [
    {
     "data": {
      "text/plain": [
       "type                                                                 Mountain\n",
       "dir                                       ../Image/All_Cropped\\Mountain\\3.jpg\n",
       "id_labels                   {'09288635-n': 0.12307517230510712, '09468604-...\n",
       "readable_labels             {'geyser': 0.12307517230510712, 'valley': 0.10...\n",
       "similarity_score            {'09288635-n': 0.2, '09468604-n': 0.2, '091937...\n",
       "closest_id_label                                                   09193705-n\n",
       "closest_similarity_score                                                  0.5\n",
       "closest_readable_label                                                    alp\n",
       "closest_prob                                                        0.0847823\n",
       "Name: 9, dtype: object"
      ]
     },
     "execution_count": 16,
     "metadata": {},
     "output_type": "execute_result"
    }
   ],
   "source": [
    "df.loc[9]"
   ]
  },
  {
   "cell_type": "code",
   "execution_count": 20,
   "metadata": {},
   "outputs": [],
   "source": [
    "# df.to_csv('googlenet_scores_wordnet_id_closest_label.csv')"
   ]
  },
  {
   "cell_type": "code",
   "execution_count": 19,
   "metadata": {},
   "outputs": [
    {
     "data": {
      "image/png": "[encoded data removed]",
      "text/plain": [
       "<Figure size 432x288 with 1 Axes>"
      ]
     },
     "metadata": {
      "needs_background": "light"
     },
     "output_type": "display_data"
    },
    {
     "data": {
      "image/png": "[encoded data removed]",
      "text/plain": [
       "<Figure size 432x288 with 1 Axes>"
      ]
     },
     "metadata": {
      "needs_background": "light"
     },
     "output_type": "display_data"
    },
    {
     "data": {
      "image/png": "[encoded data removed]",
      "text/plain": [
       "<Figure size 432x288 with 1 Axes>"
      ]
     },
     "metadata": {
      "needs_background": "light"
     },
     "output_type": "display_data"
    },
    {
     "data": {
      "image/png": "[encoded data removed]",
      "text/plain": [
       "<Figure size 432x288 with 1 Axes>"
      ]
     },
     "metadata": {
      "needs_background": "light"
     },
     "output_type": "display_data"
    },
    {
     "data": {
      "image/png": "[encoded data removed]",
      "text/plain": [
       "<Figure size 432x288 with 1 Axes>"
      ]
     },
     "metadata": {
      "needs_background": "light"
     },
     "output_type": "display_data"
    },
    {
     "data": {
      "image/png": "[encoded data removed]",
      "text/plain": [
       "<Figure size 432x288 with 1 Axes>"
      ]
     },
     "metadata": {
      "needs_background": "light"
     },
     "output_type": "display_data"
    },
    {
     "data": {
      "image/png": "[encoded data removed]",
      "text/plain": [
       "<Figure size 432x288 with 1 Axes>"
      ]
     },
     "metadata": {
      "needs_background": "light"
     },
     "output_type": "display_data"
    },
    {
     "data": {
      "image/png": "[encoded data removed]",
      "text/plain": [
       "<Figure size 432x288 with 1 Axes>"
      ]
     },
     "metadata": {
      "needs_background": "light"
     },
     "output_type": "display_data"
    }
   ],
   "source": [
    "import matplotlib.pyplot as plt\n",
    "\n",
    "for t in type_names:\n",
    "    df_plot=df[df['type']==t]\n",
    "    plt.hist(df_plot['closest_prob'])\n",
    "    plt.title(t)\n",
    "    plt.show()"
   ]
  },
  {
   "cell_type": "code",
   "execution_count": 21,
   "metadata": {},
   "outputs": [
    {
     "data": {
      "text/plain": [
       "array(['Banana', 'Beach', 'Car', 'Church', 'Lighthouse', 'Mountain',\n",
       "       'Mug', 'Plane'], dtype=object)"
      ]
     },
     "execution_count": 21,
     "metadata": {},
     "output_type": "execute_result"
    }
   ],
   "source": [
    "type_names"
   ]
  }
 ],
 "metadata": {
  "kernelspec": {
   "display_name": "Python 3",
   "language": "python",
   "name": "python3"
  },
  "language_info": {
   "codemirror_mode": {
    "name": "ipython",
    "version": 3
   },
   "file_extension": ".py",
   "mimetype": "text/x-python",
   "name": "python",
   "nbconvert_exporter": "python",
   "pygments_lexer": "ipython3",
   "version": "3.8.3"
  },
  "toc": {
   "base_numbering": 1,
   "nav_menu": {},
   "number_sections": false,
   "sideBar": true,
   "skip_h1_title": false,
   "title_cell": "Table of Contents",
   "title_sidebar": "Contents",
   "toc_cell": false,
   "toc_position": {},
   "toc_section_display": true,
   "toc_window_display": false
  }
 },
 "nbformat": 4,
 "nbformat_minor": 4
}
