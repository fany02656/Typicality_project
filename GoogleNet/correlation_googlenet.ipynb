{
 "cells": [
  {
   "cell_type": "code",
   "execution_count": 24,
   "metadata": {
    "id": "1Plrod5x8T74"
   },
   "outputs": [],
   "source": [
    "import pandas as pd\n",
    "from scipy.stats import spearmanr\n",
    "import numpy as np\n",
    "from sklearn.model_selection import train_test_split\n",
    "import os\n",
    "import matplotlib.pyplot as plt\n",
    "from scipy import stats"
   ]
  },
  {
   "cell_type": "code",
   "execution_count": 25,
   "metadata": {},
   "outputs": [],
   "source": [
    "categories = ['banana','beach','car','church','lighthouse','mountain','mug','plane']\n",
    "path='../Analysis/human_rating_bycat'"
   ]
  },
  {
   "cell_type": "code",
   "execution_count": 26,
   "metadata": {},
   "outputs": [],
   "source": [
    "for i, cate in enumerate(categories):\n",
    "    col = [cate+'_'+str(i+1) for i in range(16)]\n",
    "    new = pd.read_csv(path+'/'+cate+'.csv')\n",
    "    new.columns = col\n",
    "    if i == 0:\n",
    "        old = new\n",
    "    else:\n",
    "        old = pd.concat([old,new],axis=1)\n",
    "df = old"
   ]
  },
  {
   "cell_type": "markdown",
   "metadata": {},
   "source": [
    "(Test) Use quantiles to remove outliers "
   ]
  },
  {
   "cell_type": "code",
   "execution_count": 27,
   "metadata": {},
   "outputs": [],
   "source": [
    "quantile_low = df.quantile(0.1)\n",
    "quantile_high = df.quantile(0.9)\n",
    "iqr = quantile_high - quantile_low"
   ]
  },
  {
   "cell_type": "code",
   "execution_count": 28,
   "metadata": {},
   "outputs": [],
   "source": [
    "outliers = (df < quantile_low) | (df > quantile_high)\n",
    "df_new = df[outliers.sum(axis=1) <= 12]"
   ]
  },
  {
   "cell_type": "markdown",
   "metadata": {},
   "source": [
    "Compute 7 scorse and sort images by order in survey"
   ]
  },
  {
   "cell_type": "code",
   "execution_count": 29,
   "metadata": {},
   "outputs": [],
   "source": [
    "googlenet_df=pd.read_csv('googlenet_final.csv',index_col=0)\n",
    "googlenet_df['typicality_score'] = np.round(googlenet_df['prob'] * 100,2)\n",
    "googlenet_df['7_score']= np.round(googlenet_df['typicality_score']*7/100,2)\n",
    "googlenet_df['type'] = googlenet_df['type'].apply(lambda x: x.lower())"
   ]
  },
  {
   "cell_type": "code",
   "execution_count": 30,
   "metadata": {},
   "outputs": [],
   "source": [
    "googlenet_df['number'] = googlenet_df['dir'].apply(lambda x: int(x.split('\\\\')[-1].split('.')[0]))\n",
    "googlenet_df = googlenet_df.sort_values(['type','number']).reset_index(drop=True)"
   ]
  },
  {
   "cell_type": "markdown",
   "metadata": {},
   "source": [
    "# Correlation with human ratings"
   ]
  },
  {
   "cell_type": "markdown",
   "metadata": {},
   "source": [
    "Changes from original script: \n",
    "1. Use spearman rank correlation instead of pearson\n",
    "2. Compute average human ratings first, and then compute correlation with neural net typicality scores"
   ]
  },
  {
   "cell_type": "markdown",
   "metadata": {},
   "source": [
    "without dropping outliers"
   ]
  },
  {
   "cell_type": "code",
   "execution_count": 31,
   "metadata": {},
   "outputs": [
    {
     "name": "stdout",
     "output_type": "stream",
     "text": [
      "banana:  0.31935255150510367\n",
      "beach:  0.6029411764705882\n",
      "car:  0.7000000000000001\n",
      "church:  0.5092116342108044\n",
      "lighthouse:  0.34705882352941175\n",
      "mountain:  0.4061811254166295\n",
      "mug:  0.20471303497210222\n",
      "plane:  0.6460634567315231\n"
     ]
    }
   ],
   "source": [
    "final_corr = dict()\n",
    "for t in np.unique(googlenet_df['type']):\n",
    "    col_names = [t + '_' + str(i+1) for i in range(16)]\n",
    "    human_ratings = df[col_names] \n",
    "    net_ratings =googlenet_df[googlenet_df['type'] == t] \n",
    "    \n",
    "    human_scores = human_ratings.mean().values\n",
    "    net_scores = net_ratings['7_score'].values\n",
    "#     net_scores = net_ratings['typicality_score'].values\n",
    "    \n",
    "    coef, p=stats.spearmanr(human_scores, net_scores)\n",
    "#     coef, p=stats.pearsonr(human_scores, net_scores)\n",
    "    final_corr[t]=coef\n",
    "    print(f'{t}: ', final_corr[t])"
   ]
  },
  {
   "cell_type": "code",
   "execution_count": 32,
   "metadata": {},
   "outputs": [
    {
     "name": "stdout",
     "output_type": "stream",
     "text": [
      "0.4669402253545204\n"
     ]
    }
   ],
   "source": [
    "print(np.mean(list(final_corr.values())))"
   ]
  },
  {
   "cell_type": "markdown",
   "metadata": {},
   "source": [
    "after dropping outliers"
   ]
  },
  {
   "cell_type": "code",
   "execution_count": 33,
   "metadata": {},
   "outputs": [
    {
     "name": "stdout",
     "output_type": "stream",
     "text": [
      "banana:  0.3046358440624721\n",
      "beach:  0.6524307517456207\n",
      "car:  0.7349050679933742\n",
      "church:  0.5187915925968253\n",
      "lighthouse:  0.3431520658165455\n",
      "mountain:  0.354348326234631\n",
      "mug:  0.2507385540462557\n",
      "plane:  0.6224215871030583\n"
     ]
    }
   ],
   "source": [
    "final_corr = dict()\n",
    "for t in np.unique(googlenet_df['type']):\n",
    "    col_names = [t + '_' + str(i+1) for i in range(16)]\n",
    "    \n",
    "    human_ratings = df_new[col_names] \n",
    "    net_ratings = googlenet_df[googlenet_df['type'] == t] \n",
    "    \n",
    "    human_scores = human_ratings.mean().values\n",
    "    net_scores = net_ratings['7_score'].values\n",
    "    coef, p=stats.spearmanr(human_scores, net_scores)\n",
    "    final_corr[t]=coef\n",
    "    print(f'{t}: ', final_corr[t])"
   ]
  },
  {
   "cell_type": "code",
   "execution_count": 34,
   "metadata": {},
   "outputs": [
    {
     "name": "stdout",
     "output_type": "stream",
     "text": [
      "0.4726779736998479\n"
     ]
    }
   ],
   "source": [
    "print(np.mean(list(final_corr.values())))"
   ]
  },
  {
   "cell_type": "code",
   "execution_count": null,
   "metadata": {},
   "outputs": [],
   "source": []
  },
  {
   "cell_type": "code",
   "execution_count": null,
   "metadata": {},
   "outputs": [],
   "source": []
  }
 ],
 "metadata": {
  "colab": {
   "collapsed_sections": [],
   "name": "Analysis.ipynb",
   "provenance": []
  },
  "kernelspec": {
   "display_name": "Python 3",
   "language": "python",
   "name": "python3"
  },
  "language_info": {
   "codemirror_mode": {
    "name": "ipython",
    "version": 3
   },
   "file_extension": ".py",
   "mimetype": "text/x-python",
   "name": "python",
   "nbconvert_exporter": "python",
   "pygments_lexer": "ipython3",
   "version": "3.8.3"
  },
  "toc": {
   "base_numbering": 1,
   "nav_menu": {},
   "number_sections": false,
   "sideBar": true,
   "skip_h1_title": false,
   "title_cell": "Table of Contents",
   "title_sidebar": "Contents",
   "toc_cell": false,
   "toc_position": {},
   "toc_section_display": true,
   "toc_window_display": false
  }
 },
 "nbformat": 4,
 "nbformat_minor": 1
}
